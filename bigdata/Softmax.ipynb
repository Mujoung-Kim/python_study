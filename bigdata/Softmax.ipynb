{
 "cells": [
  {
   "cell_type": "code",
   "execution_count": 1,
   "metadata": {},
   "outputs": [
    {
     "name": "stdout",
     "output_type": "stream",
     "text": [
      "WARNING:tensorflow:From C:\\Users\\user\\AppData\\Local\\Temp\\ipykernel_3316\\3240376746.py:5: The name tf.enable_eager_execution is deprecated. Please use tf.compat.v1.enable_eager_execution instead.\n",
      "\n"
     ]
    }
   ],
   "source": [
    "import tensorflow as tf\n",
    "from tensorflow.nn import relu\n",
    "import numpy as np\n",
    "\n",
    "tf.enable_eager_execution()"
   ]
  },
  {
   "cell_type": "code",
   "execution_count": 2,
   "metadata": {},
   "outputs": [],
   "source": [
    "# 입력값\n",
    "X = np.array([\n",
    "\t\t\t\t[0, 0],\n",
    "\t\t\t\t[1, 0],\n",
    "\t\t\t\t[1, 1],\n",
    "\t\t\t\t[0, 0],\n",
    "\t\t\t\t[0, 1]\n",
    "\t\t\t], dtype='float32')\n",
    "# 출력값\n",
    "y = np.array([\n",
    "\t\t\t\t[1, 0, 0],\n",
    "\t\t\t\t[0, 1, 0],\n",
    "\t\t\t\t[0, 0, 1],\n",
    "\t\t\t\t[1, 0, 0],\n",
    "\t\t\t\t[0, 0, 1]\n",
    "\t\t\t], dtype='float32')"
   ]
  },
  {
   "cell_type": "code",
   "execution_count": 3,
   "metadata": {},
   "outputs": [
    {
     "data": {
      "text/plain": [
       "(<tf.Variable 'Variable:0' shape=(2, 10) dtype=float32, numpy=\n",
       " array([[ 0.02461225, -0.36630973, -0.23273826,  0.4755599 , -0.6806591 ,\n",
       "         -0.2524168 ,  0.47233754,  0.08816415, -0.26130673,  0.22199535],\n",
       "        [-0.16415727, -0.64523435, -0.60856307, -0.5922625 ,  0.6191004 ,\n",
       "         -0.39162344,  0.58928233, -0.2473853 , -0.6134325 ,  0.03207612]],\n",
       "       dtype=float32)>,\n",
       " <tf.Variable 'Variable:0' shape=(10,) dtype=float32, numpy=\n",
       " array([ 0.43602437, -0.05667317,  0.12064552, -0.40732682,  0.15524602,\n",
       "         0.11569679,  0.20303667, -0.15308651, -0.4599263 , -0.03690201],\n",
       "       dtype=float32)>)"
      ]
     },
     "execution_count": 3,
     "metadata": {},
     "output_type": "execute_result"
    }
   ],
   "source": [
    "# w, b를 초기화 시키는 객체\n",
    "initializer = tf.contrib.layers.xavier_initializer()\n",
    "\n",
    "# 처음 선형회귀를 진행할 가중치, 바이어스\n",
    "w0 = tf.Variable(initializer([2, 10]))\n",
    "b0 = tf.Variable(initializer([10]))\n",
    "w0, b0"
   ]
  },
  {
   "cell_type": "code",
   "execution_count": 4,
   "metadata": {},
   "outputs": [
    {
     "data": {
      "text/plain": [
       "(<tf.Variable 'Variable:0' shape=(10, 3) dtype=float32, numpy=\n",
       " array([[ 0.31811213,  0.37817585,  0.14799762],\n",
       "        [-0.1356737 ,  0.05890721, -0.26904434],\n",
       "        [ 0.14634341, -0.2911327 , -0.59477717],\n",
       "        [-0.50866055, -0.3962266 , -0.6705215 ],\n",
       "        [-0.46252027, -0.23437455, -0.3497373 ],\n",
       "        [-0.22534227, -0.1366328 , -0.3100902 ],\n",
       "        [ 0.327371  ,  0.56837213,  0.01121145],\n",
       "        [-0.5717575 ,  0.07003039,  0.3636533 ],\n",
       "        [ 0.42997217, -0.1560278 , -0.31243205],\n",
       "        [ 0.00805771, -0.3661002 , -0.07114232]], dtype=float32)>,\n",
       " <tf.Variable 'Variable:0' shape=(3,) dtype=float32, numpy=array([ 0.9290333 , -0.15856409, -0.25831246], dtype=float32)>)"
      ]
     },
     "execution_count": 4,
     "metadata": {},
     "output_type": "execute_result"
    }
   ],
   "source": [
    "# 2번째 선형회귀를 진행할 가중치, 바이어스\n",
    "w1 = tf.Variable(initializer([10, 3]))\n",
    "b1 = tf.Variable(initializer([3]))\n",
    "w1, b1"
   ]
  },
  {
   "cell_type": "code",
   "execution_count": 9,
   "metadata": {},
   "outputs": [
    {
     "data": {
      "text/plain": [
       "<tf.Tensor: id=86, shape=(5, 10), dtype=float32, numpy=\n",
       "array([[0.6073113 , 0.4858355 , 0.53012484, 0.3995533 , 0.5387337 ,\n",
       "        0.528892  , 0.5505855 , 0.46180293, 0.3870033 , 0.49077556],\n",
       "       [0.6131652 , 0.39580318, 0.4720061 , 0.51705164, 0.37158737,\n",
       "        0.46587315, 0.6627055 , 0.4837751 , 0.32712153, 0.5461417 ],\n",
       "       [0.57358164, 0.25574225, 0.3272486 , 0.3719105 , 0.5234047 ,\n",
       "        0.37090337, 0.77982664, 0.42255157, 0.20838872, 0.55408   ],\n",
       "       [0.6073113 , 0.4858355 , 0.53012484, 0.3995533 , 0.5387337 ,\n",
       "        0.528892  , 0.5505855 , 0.46180293, 0.3870033 , 0.49077556],\n",
       "       [0.5675512 , 0.33138946, 0.38038427, 0.26902217, 0.68446034,\n",
       "        0.4314527 , 0.68832904, 0.40119898, 0.25476485, 0.49879354]],\n",
       "      dtype=float32)>"
      ]
     },
     "execution_count": 9,
     "metadata": {},
     "output_type": "execute_result"
    }
   ],
   "source": [
    "# 처음 예측값\n",
    "hypothesis0 = tf.sigmoid(tf.matmul(X, w0) + b0)\n",
    "hypothesis0"
   ]
  },
  {
   "cell_type": "code",
   "execution_count": 25,
   "metadata": {},
   "outputs": [
    {
     "data": {
      "text/plain": [
       "<tf.Tensor: id=82318, shape=(5, 3), dtype=float32, numpy=\n",
       "array([[9.9848574e-01, 5.9531140e-04, 9.1897085e-04],\n",
       "       [1.1900330e-03, 9.9765670e-01, 1.1532662e-03],\n",
       "       [9.6815362e-05, 1.4407472e-03, 9.9846244e-01],\n",
       "       [9.9848574e-01, 5.9531140e-04, 9.1897085e-04],\n",
       "       [1.4697944e-03, 1.6827886e-04, 9.9836189e-01]], dtype=float32)>"
      ]
     },
     "execution_count": 25,
     "metadata": {},
     "output_type": "execute_result"
    }
   ],
   "source": [
    "# 선형회귀를 한 번 진행한 후 예측값\n",
    "# 다중분류를 위해 softmax로 출력값과 비슷한 상태로 예측값을 조정\n",
    "hypothesis1 = tf.nn.softmax(tf.matmul(hypothesis0, w1) + b1)\n",
    "hypothesis1"
   ]
  },
  {
   "cell_type": "code",
   "execution_count": 12,
   "metadata": {},
   "outputs": [
    {
     "data": {
      "text/plain": [
       "<tf.Tensor: id=106, shape=(), dtype=float32, numpy=1.3055093>"
      ]
     },
     "execution_count": 12,
     "metadata": {},
     "output_type": "execute_result"
    }
   ],
   "source": [
    "# cost(error)값\n",
    "cost = -tf.reduce_sum(y * tf.log(hypothesis1)) / len(hypothesis1)\n",
    "cost"
   ]
  },
  {
   "cell_type": "code",
   "execution_count": 13,
   "metadata": {},
   "outputs": [
    {
     "name": "stdout",
     "output_type": "stream",
     "text": [
      "WARNING:tensorflow:From C:\\Users\\user\\AppData\\Local\\Temp\\ipykernel_3316\\3469446996.py:1: The name tf.train.AdamOptimizer is deprecated. Please use tf.compat.v1.train.AdamOptimizer instead.\n",
      "\n"
     ]
    }
   ],
   "source": [
    "# learning_rate 설정\n",
    "optimizer = tf.train.AdamOptimizer(0.01)"
   ]
  },
  {
   "cell_type": "code",
   "execution_count": 14,
   "metadata": {},
   "outputs": [
    {
     "name": "stdout",
     "output_type": "stream",
     "text": [
      "====================================================================================================\n",
      "step : 0, cost : 1.305509328842163\n",
      "====================================================================================================\n",
      "====================================================================================================\n",
      "step : 100, cost : 0.3392734229564667\n",
      "====================================================================================================\n",
      "====================================================================================================\n",
      "step : 200, cost : 0.053368497639894485\n",
      "====================================================================================================\n",
      "====================================================================================================\n",
      "step : 300, cost : 0.02005920745432377\n",
      "====================================================================================================\n",
      "====================================================================================================\n",
      "step : 400, cost : 0.010715581476688385\n",
      "====================================================================================================\n",
      "====================================================================================================\n",
      "step : 500, cost : 0.006749927997589111\n",
      "====================================================================================================\n",
      "====================================================================================================\n",
      "step : 600, cost : 0.0046759494580328465\n",
      "====================================================================================================\n",
      "====================================================================================================\n",
      "step : 700, cost : 0.0034454576671123505\n",
      "====================================================================================================\n",
      "====================================================================================================\n",
      "step : 800, cost : 0.00265100272372365\n",
      "====================================================================================================\n",
      "====================================================================================================\n",
      "step : 900, cost : 0.002105850027874112\n",
      "====================================================================================================\n",
      "====================================================================================================\n",
      "step : 1000, cost : 0.0017142953583970666\n",
      "====================================================================================================\n"
     ]
    }
   ],
   "source": [
    "# 반복해서 가중치와 바이어스를 찾음\n",
    "for step in range(1001) :\n",
    "\twith tf.GradientTape() as tape :\n",
    "\t\thypothesis0 = tf.sigmoid(tf.matmul(X, w0) + b0)\n",
    "\t\thypothesis1 = tf.nn.softmax(tf.matmul(hypothesis0, w1) + b1)\n",
    "\t\tcost = -tf.reduce_sum(y * tf.log(hypothesis1)) / len(hypothesis1)\n",
    "\t\tgrads = tape.gradient(cost, [w0, w1, b0, b1])\n",
    "\n",
    "\toptimizer.apply_gradients(grads_and_vars=zip(grads, [w0, w1, b0, b1]))\n",
    "\n",
    "\tif step % 100 == 0 :\n",
    "\t\tprint('=' * 100)\n",
    "\t\tprint(f'step : {step}, cost : {cost}')\n",
    "\t\tprint('=' * 100)"
   ]
  },
  {
   "cell_type": "code",
   "execution_count": 15,
   "metadata": {},
   "outputs": [
    {
     "data": {
      "text/plain": [
       "(<tf.Variable 'Variable:0' shape=(2, 10) dtype=float32, numpy=\n",
       " array([[ 2.9707057 ,  0.23873664, -2.5015192 ,  2.4546442 , -0.15090196,\n",
       "          3.250659  ,  2.9489524 ,  1.6025429 , -2.6712215 , -1.8154261 ],\n",
       "        [ 2.086353  , -3.5698898 , -2.597723  , -3.2862544 ,  3.279412  ,\n",
       "         -3.2075777 ,  2.0684907 ,  1.477022  , -2.865453  ,  2.6038792 ]],\n",
       "       dtype=float32)>,\n",
       " <tf.Variable 'Variable:0' shape=(10,) dtype=float32, numpy=\n",
       " array([-1.2282776 ,  1.533389  ,  1.2356585 , -0.86375564, -1.3863659 ,\n",
       "        -1.6432124 , -1.2076733 , -0.78355396,  1.2585638 ,  0.4575229 ],\n",
       "       dtype=float32)>)"
      ]
     },
     "execution_count": 15,
     "metadata": {},
     "output_type": "execute_result"
    }
   ],
   "source": [
    "# 반복해서 찾은 초기 가중치, 바이어스 값\n",
    "w0, b0"
   ]
  },
  {
   "cell_type": "code",
   "execution_count": 16,
   "metadata": {},
   "outputs": [
    {
     "data": {
      "text/plain": [
       "(<tf.Variable 'Variable:0' shape=(10, 3) dtype=float32, numpy=\n",
       " array([[-0.8564693 ,  1.1652223 ,  0.94674987],\n",
       "        [ 1.4422277 ,  2.230977  , -2.1405947 ],\n",
       "        [ 1.9078342 , -2.3289065 , -2.0220273 ],\n",
       "        [-1.0911971 ,  1.9933021 , -2.1599028 ],\n",
       "        [-1.7220054 , -2.1430786 ,  1.2579705 ],\n",
       "        [-0.70161784,  2.73037   , -1.0022678 ],\n",
       "        [-0.9769744 ,  1.6510643 ,  0.97361714],\n",
       "        [-2.0424678 ,  0.06764359,  1.695198  ],\n",
       "        [ 2.472559  , -2.6019893 , -2.0252407 ],\n",
       "        [-0.22153035, -3.0776372 ,  1.3608383 ]], dtype=float32)>,\n",
       " <tf.Variable 'Variable:0' shape=(3,) dtype=float32, numpy=array([ 0.8294297 , -1.3713189 ,  0.10462492], dtype=float32)>)"
      ]
     },
     "execution_count": 16,
     "metadata": {},
     "output_type": "execute_result"
    }
   ],
   "source": [
    "# 반복해서 찾은 선형회귀 후 가중치, 바이어스 값\n",
    "w1, b1"
   ]
  },
  {
   "cell_type": "code",
   "execution_count": 18,
   "metadata": {},
   "outputs": [
    {
     "data": {
      "text/plain": [
       "<tf.Tensor: id=82300, shape=(5, 3), dtype=float32, numpy=\n",
       "array([[9.9848574e-01, 5.9531140e-04, 9.1897085e-04],\n",
       "       [1.1900330e-03, 9.9765670e-01, 1.1532662e-03],\n",
       "       [9.6815362e-05, 1.4407472e-03, 9.9846244e-01],\n",
       "       [9.9848574e-01, 5.9531140e-04, 9.1897085e-04],\n",
       "       [1.4697944e-03, 1.6827886e-04, 9.9836189e-01]], dtype=float32)>"
      ]
     },
     "execution_count": 18,
     "metadata": {},
     "output_type": "execute_result"
    }
   ],
   "source": [
    "# 반복해서 찾은 가중치와 바이어스를 통해 얻은 예측값\n",
    "hypothesis0 = tf.sigmoid(tf.matmul(X, w0) + b0)\n",
    "predict = tf.nn.softmax(tf.matmul(hypothesis0, w1) + b1)\n",
    "predict"
   ]
  },
  {
   "cell_type": "code",
   "execution_count": 19,
   "metadata": {},
   "outputs": [
    {
     "data": {
      "text/plain": [
       "<tf.Tensor: id=82302, shape=(5,), dtype=int64, numpy=array([0, 1, 2, 0, 2], dtype=int64)>"
      ]
     },
     "execution_count": 19,
     "metadata": {},
     "output_type": "execute_result"
    }
   ],
   "source": [
    "# 예측값 검증을 위한 transform\n",
    "# argmax(numpy_array, axis) -> 각 axis에서 최대값의 index를 반환\n",
    "predict01 = tf.argmax(predict, 1)\n",
    "predict01"
   ]
  },
  {
   "cell_type": "code",
   "execution_count": 20,
   "metadata": {},
   "outputs": [
    {
     "data": {
      "text/plain": [
       "<tf.Tensor: id=82305, shape=(5,), dtype=int64, numpy=array([0, 1, 2, 0, 2], dtype=int64)>"
      ]
     },
     "execution_count": 20,
     "metadata": {},
     "output_type": "execute_result"
    }
   ],
   "source": [
    "# 검증 때 사용할 출력값 transform\n",
    "target = tf.argmax(y, 1)\n",
    "target"
   ]
  },
  {
   "cell_type": "code",
   "execution_count": 21,
   "metadata": {},
   "outputs": [
    {
     "data": {
      "text/plain": [
       "<tf.Tensor: id=82306, shape=(5,), dtype=bool, numpy=array([ True,  True,  True,  True,  True])>"
      ]
     },
     "execution_count": 21,
     "metadata": {},
     "output_type": "execute_result"
    }
   ],
   "source": [
    "# 예측값과 출력값 검증\n",
    "ac01 = tf.equal(predict01, target)\n",
    "ac01"
   ]
  },
  {
   "cell_type": "code",
   "execution_count": 22,
   "metadata": {},
   "outputs": [
    {
     "data": {
      "text/plain": [
       "<tf.Tensor: id=82307, shape=(5,), dtype=float32, numpy=array([1., 1., 1., 1., 1.], dtype=float32)>"
      ]
     },
     "execution_count": 22,
     "metadata": {},
     "output_type": "execute_result"
    }
   ],
   "source": [
    "# 검증된 값 형변환\n",
    "ac02 = tf.cast(ac01, dtype='float32')\n",
    "ac02"
   ]
  },
  {
   "cell_type": "code",
   "execution_count": 23,
   "metadata": {},
   "outputs": [
    {
     "data": {
      "text/plain": [
       "<tf.Tensor: id=82309, shape=(), dtype=float32, numpy=1.0>"
      ]
     },
     "execution_count": 23,
     "metadata": {},
     "output_type": "execute_result"
    }
   ],
   "source": [
    "# 정확도\n",
    "ac03 = tf.reduce_mean(ac02)\n",
    "ac03"
   ]
  },
  {
   "cell_type": "code",
   "execution_count": 24,
   "metadata": {},
   "outputs": [
    {
     "name": "stdout",
     "output_type": "stream",
     "text": [
      "==================================================\n",
      "accuracy\n",
      "1.0\n"
     ]
    }
   ],
   "source": [
    "# 검증 형변환 밑 검증을 마친 후 현재 model의 정확도 계산\n",
    "accuracy = tf.reduce_mean(tf.cast(tf.equal(predict01, target), dtype=tf.float32))\n",
    "print('=' * 50)\n",
    "print('accuracy')\n",
    "print(accuracy.numpy())"
   ]
  }
 ],
 "metadata": {
  "kernelspec": {
   "display_name": "tensorflow1_env",
   "language": "python",
   "name": "python3"
  },
  "language_info": {
   "codemirror_mode": {
    "name": "ipython",
    "version": 3
   },
   "file_extension": ".py",
   "mimetype": "text/x-python",
   "name": "python",
   "nbconvert_exporter": "python",
   "pygments_lexer": "ipython3",
   "version": "3.7.15"
  },
  "orig_nbformat": 4,
  "vscode": {
   "interpreter": {
    "hash": "d3a336bbbac7a5316600585707c60468fe6500cf7c2d174bf746727352f6e866"
   }
  }
 },
 "nbformat": 4,
 "nbformat_minor": 2
}
