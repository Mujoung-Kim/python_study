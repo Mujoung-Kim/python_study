{
 "cells": [
  {
   "cell_type": "code",
   "execution_count": null,
   "metadata": {},
   "outputs": [],
   "source": [
    "import tensorflow as tf\n",
    "import numpy as np\n",
    "import matplotlib.pyplot as plt\n",
    "from scipy.signal import correlate2d\n",
    "\n",
    "tf.enable_eager_execution()\n",
    "np.set_printoptions(linewidth=1000)"
   ]
  },
  {
   "cell_type": "code",
   "execution_count": null,
   "metadata": {},
   "outputs": [],
   "source": [
    "image1 = np.array([\n",
    "\t\t\t\t\t[0] * 14,\n",
    "\t\t\t\t\t[0] * 14,\n",
    "\t\t\t\t\t[0] * 14,\n",
    "\t\t\t\t\t[0, 0, 0, 1, 1, 0.5, 0.7, 1, 1, 1, 0.2, 0, 0, 0],\n",
    "\t\t\t\t\t[0] * 14,\n",
    "\t\t\t\t\t[0] * 14,\n",
    "\t\t\t\t\t[0] * 14,\n",
    "\t\t\t\t\t[0, 0, 0, 0, 0.5, 0, 0, 0, 0, 1, 0, 0, 0, 0],\n",
    "\t\t\t\t\t[0, 0, 0, 0, 0.4, 0, 0, 0, 0, 0.5, 0, 0, 0, 0],\n",
    "\t\t\t\t\t[0, 0, 0, 0, 0.9, 0, 0, 0, 0, 1, 0, 0, 0, 0],\n",
    "\t\t\t\t\t[0, 0, 0, 0, 1, 0, 0, 0, 0, 1, 0, 0, 0, 0],\n",
    "\t\t\t\t\t[0] * 14,\n",
    "\t\t\t\t\t[0] * 14,\n",
    "\t\t\t\t\t[0] * 14\n",
    "\t\t\t\t], dtype='float32')\n",
    "image1"
   ]
  },
  {
   "cell_type": "code",
   "execution_count": null,
   "metadata": {},
   "outputs": [],
   "source": [
    "plt.figure(figsize=(10, 10))\n",
    "plt.imshow(image1, cmap='Greys')\n",
    "plt.show()"
   ]
  },
  {
   "cell_type": "code",
   "execution_count": null,
   "metadata": {},
   "outputs": [],
   "source": [
    "# tensorflow 연산을 위해 4차원 array로 변환\n",
    "image1 = image1.reshape(1, 14, 14, 1)\n",
    "image1"
   ]
  },
  {
   "cell_type": "code",
   "execution_count": null,
   "metadata": {},
   "outputs": [],
   "source": [
    "image1.shape"
   ]
  },
  {
   "cell_type": "code",
   "execution_count": null,
   "metadata": {},
   "outputs": [],
   "source": [
    "w1 = np.array([\n",
    "\t\t\t\t[1, 2, 1],\n",
    "\t\t\t\t[0, 0, 0],\n",
    "\t\t\t\t[-1, -2, -1]\n",
    "\t\t\t], dtype='float32')\n",
    "w1"
   ]
  },
  {
   "cell_type": "code",
   "execution_count": null,
   "metadata": {},
   "outputs": [],
   "source": [
    "# tensorflow 연산을 위해 4차원 array로 변환\n",
    "w1 = w1.reshape(3, 3, 1, 1)\n",
    "w1"
   ]
  },
  {
   "cell_type": "code",
   "execution_count": null,
   "metadata": {},
   "outputs": [],
   "source": [
    "w1.shape"
   ]
  },
  {
   "cell_type": "code",
   "execution_count": null,
   "metadata": {},
   "outputs": [],
   "source": [
    "# 수평 soble 필터 합성곱 연산 실행\n",
    "conv1 = tf.nn.conv2d(image1, w1, strides=1, padding='SAME')\n",
    "conv1"
   ]
  },
  {
   "cell_type": "code",
   "execution_count": null,
   "metadata": {},
   "outputs": [],
   "source": [
    "conv1.shape"
   ]
  },
  {
   "cell_type": "code",
   "execution_count": null,
   "metadata": {},
   "outputs": [],
   "source": [
    "# conv1 연산 결과를 2차원 array로 변환\n",
    "tf.reshape(conv1, (14, 14))"
   ]
  },
  {
   "cell_type": "code",
   "execution_count": null,
   "metadata": {},
   "outputs": [],
   "source": [
    "# convolution의 결과 시각화\n",
    "plt.figure(figsize=(10, 10))\n",
    "plt.imshow(tf.reshape(conv1, (14, 14)), cmap='Greys')\n",
    "plt.show()"
   ]
  },
  {
   "cell_type": "code",
   "execution_count": null,
   "metadata": {},
   "outputs": [],
   "source": [
    "# 음수는 0, 양수는 양수를 반환하는 relu function\n",
    "def relu(x) :\n",
    "\treturn np.maximum(0, x)"
   ]
  },
  {
   "cell_type": "code",
   "execution_count": null,
   "metadata": {},
   "outputs": [],
   "source": [
    "# conv1 결과를 relu function을 이용해서 음수 -> 0으로 변환\n",
    "conv1_relu = relu(conv1)\n",
    "conv1_relu"
   ]
  },
  {
   "cell_type": "code",
   "execution_count": null,
   "metadata": {},
   "outputs": [],
   "source": [
    "tf.reshape(conv1_relu, (14, 14))"
   ]
  },
  {
   "cell_type": "code",
   "execution_count": null,
   "metadata": {},
   "outputs": [],
   "source": [
    "# conv1_relu의 결과 시각화\n",
    "plt.figure(figsize=(10, 10))\n",
    "plt.imshow(tf.reshape(conv1_relu, (14, 14)), cmap='Greys')\n",
    "plt.show()"
   ]
  },
  {
   "cell_type": "code",
   "execution_count": null,
   "metadata": {},
   "outputs": [],
   "source": [
    "# conv1_relu의 max_pooling 실행\n",
    "conv1_maxpool = tf.nn.max_pool(conv1_relu, ksize=2, strides=1, padding='SAME')\n",
    "conv1_maxpool"
   ]
  },
  {
   "cell_type": "code",
   "execution_count": null,
   "metadata": {},
   "outputs": [],
   "source": [
    "# conv1_maxpool 연산 결과를 2차원 array로 변환\n",
    "tf.reshape(conv1_maxpool, (14, 14))"
   ]
  },
  {
   "cell_type": "code",
   "execution_count": null,
   "metadata": {},
   "outputs": [],
   "source": [
    "# max_polling의 결과 시각화\n",
    "plt.figure(figsize=(10, 10))\n",
    "plt.imshow(tf.reshape(conv1_maxpool, (14, 14)), cmap='Greys')\n",
    "plt.show()"
   ]
  },
  {
   "cell_type": "code",
   "execution_count": null,
   "metadata": {},
   "outputs": [],
   "source": [
    "# 수직 soble 필터 선언\n",
    "w2 = np.array([\n",
    "\t\t\t\t[1, 0, -1],\n",
    "\t\t\t\t[2, 0, -2],\n",
    "\t\t\t\t[1, 0, -1]\n",
    "\t\t\t], dtype='float32')\n",
    "w2"
   ]
  },
  {
   "cell_type": "code",
   "execution_count": null,
   "metadata": {},
   "outputs": [],
   "source": [
    "# tensorflow 연산을 위해 filter를 4차원 array로 변환\n",
    "w2 = w2.reshape(3, 3, 1, 1)\n",
    "w2"
   ]
  },
  {
   "cell_type": "code",
   "execution_count": null,
   "metadata": {},
   "outputs": [],
   "source": [
    "# 수직 soble filter convolution 연산 실행\n",
    "conv2 = tf.nn.conv2d(image1, w2, strides=1, padding='SAME')\n",
    "conv2"
   ]
  },
  {
   "cell_type": "code",
   "execution_count": null,
   "metadata": {},
   "outputs": [],
   "source": [
    "conv2.shape"
   ]
  },
  {
   "cell_type": "code",
   "execution_count": null,
   "metadata": {},
   "outputs": [],
   "source": [
    "# conv2의 연산 결과를 2차원 array로 변환\n",
    "tf.reshape(conv2, (14, 14))"
   ]
  },
  {
   "cell_type": "code",
   "execution_count": null,
   "metadata": {},
   "outputs": [],
   "source": [
    "# covolution2의 결과 시각화\n",
    "plt.figure(figsize=(10, 10))\n",
    "plt.imshow(tf.reshape(conv2, (14, 14)), cmap='Greys')\n",
    "plt.show()"
   ]
  },
  {
   "cell_type": "code",
   "execution_count": null,
   "metadata": {},
   "outputs": [],
   "source": [
    "# conv2 결과를 relu function 이용해서 음수 -> 0으로 변환\n",
    "conv2_relu = relu(conv2)\n",
    "conv2_relu"
   ]
  },
  {
   "cell_type": "code",
   "execution_count": null,
   "metadata": {},
   "outputs": [],
   "source": [
    "# conv2_relu의 결과를 2차원 array로 변화\n",
    "tf.reshape(conv2_relu, (14, 14))"
   ]
  },
  {
   "cell_type": "code",
   "execution_count": null,
   "metadata": {},
   "outputs": [],
   "source": [
    "# conv2_relu의 결과를 시각화\n",
    "plt.figure(figsize=(10, 10))\n",
    "plt.imshow(tf.reshape(conv2_relu, (14, 14)), cmap='Greys')\n",
    "plt.show()"
   ]
  },
  {
   "cell_type": "code",
   "execution_count": null,
   "metadata": {},
   "outputs": [],
   "source": [
    "# conv2_relu의 max_pooling 실행\n",
    "conv2_maxpool = tf.nn.max_pool(conv2_relu, ksize=2, strides=1, padding='SAME')\n",
    "conv2_maxpool"
   ]
  },
  {
   "cell_type": "code",
   "execution_count": null,
   "metadata": {},
   "outputs": [],
   "source": [
    "# conv2_maxpool 연산 결과를 2차원 array로 변환\n",
    "tf.reshape(conv2_maxpool, (14, 14))"
   ]
  },
  {
   "cell_type": "code",
   "execution_count": null,
   "metadata": {},
   "outputs": [],
   "source": [
    "# max_pooling 결과를 시각화\n",
    "plt.figure(figsize=(10, 10))\n",
    "plt.imshow(tf.reshape(conv2_maxpool, (14, 14)), cmap='Greys')\n",
    "plt.show()"
   ]
  }
 ],
 "metadata": {
  "kernelspec": {
   "display_name": "tensorflow1_env",
   "language": "python",
   "name": "python3"
  },
  "language_info": {
   "codemirror_mode": {
    "name": "ipython",
    "version": 3
   },
   "file_extension": ".py",
   "mimetype": "text/x-python",
   "name": "python",
   "nbconvert_exporter": "python",
   "pygments_lexer": "ipython3",
   "version": "3.7.15"
  },
  "orig_nbformat": 4,
  "vscode": {
   "interpreter": {
    "hash": "d3a336bbbac7a5316600585707c60468fe6500cf7c2d174bf746727352f6e866"
   }
  }
 },
 "nbformat": 4,
 "nbformat_minor": 2
}
