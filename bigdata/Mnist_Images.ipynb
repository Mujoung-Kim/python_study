{
 "cells": [
  {
   "cell_type": "code",
   "execution_count": null,
   "metadata": {},
   "outputs": [],
   "source": [
    "import tensorflow as tf\n",
    "from tensorflow.examples.tutorials.mnist import input_data\n",
    "import numpy as np\n",
    "import matplotlib.pyplot as plt\n",
    "\n",
    "np.set_printoptions(linewidth=1000)\n",
    "tf.enable_eager_execution()\n",
    "print(tf.__version__)"
   ]
  },
  {
   "cell_type": "code",
   "execution_count": null,
   "metadata": {},
   "outputs": [],
   "source": [
    "mnist = input_data.read_data_sets('./mnist/data/', one_hot=True)"
   ]
  },
  {
   "cell_type": "code",
   "execution_count": null,
   "metadata": {},
   "outputs": [],
   "source": [
    "X, y = mnist.train.next_batch(1)\n",
    "X"
   ]
  },
  {
   "cell_type": "code",
   "execution_count": null,
   "metadata": {},
   "outputs": [],
   "source": [
    "X.shape"
   ]
  },
  {
   "cell_type": "code",
   "execution_count": null,
   "metadata": {},
   "outputs": [],
   "source": [
    "y"
   ]
  },
  {
   "cell_type": "code",
   "execution_count": null,
   "metadata": {},
   "outputs": [],
   "source": [
    "X.reshape((28, 28))"
   ]
  },
  {
   "cell_type": "code",
   "execution_count": null,
   "metadata": {},
   "outputs": [],
   "source": [
    "plt.imshow(X.reshape(28, 28), cmap='Greys')\n",
    "plt.show()"
   ]
  },
  {
   "cell_type": "code",
   "execution_count": null,
   "metadata": {},
   "outputs": [],
   "source": [
    "X = X.reshape(1, 28, 28, 1)\n",
    "X.shape"
   ]
  },
  {
   "cell_type": "code",
   "execution_count": null,
   "metadata": {},
   "outputs": [],
   "source": [
    "y"
   ]
  },
  {
   "cell_type": "code",
   "execution_count": null,
   "metadata": {},
   "outputs": [],
   "source": [
    "initializer = tf.contrib.layers.xavier_initializer()"
   ]
  },
  {
   "cell_type": "code",
   "execution_count": null,
   "metadata": {},
   "outputs": [],
   "source": [
    "w1 = tf.Variable(initializer([3, 3, 1, 32]))\n",
    "w1"
   ]
  },
  {
   "cell_type": "code",
   "execution_count": null,
   "metadata": {},
   "outputs": [],
   "source": [
    "tf.reshape(w1[ : , : , : , 0], (3, 3))"
   ]
  },
  {
   "cell_type": "code",
   "execution_count": null,
   "metadata": {},
   "outputs": [],
   "source": [
    "img = X"
   ]
  },
  {
   "cell_type": "code",
   "execution_count": null,
   "metadata": {},
   "outputs": [],
   "source": [
    "img"
   ]
  },
  {
   "cell_type": "code",
   "execution_count": null,
   "metadata": {},
   "outputs": [],
   "source": [
    "convolution_h1 = tf.nn.conv2d(X, w1, strides=1, padding='SAME')"
   ]
  },
  {
   "cell_type": "code",
   "execution_count": null,
   "metadata": {},
   "outputs": [],
   "source": [
    "convolution_h1[0, : , : , 0]"
   ]
  },
  {
   "cell_type": "code",
   "execution_count": null,
   "metadata": {},
   "outputs": [],
   "source": [
    "plt.imshow(convolution_h1[0, : , : , 0], cmap='Greys')\n",
    "plt.show()"
   ]
  },
  {
   "cell_type": "code",
   "execution_count": null,
   "metadata": {},
   "outputs": [],
   "source": [
    "convolution_h = tf.nn.relu(convolution_h1)"
   ]
  },
  {
   "cell_type": "code",
   "execution_count": null,
   "metadata": {},
   "outputs": [],
   "source": [
    "convolution_h1[0, : , : , 0]"
   ]
  },
  {
   "cell_type": "code",
   "execution_count": null,
   "metadata": {},
   "outputs": [],
   "source": [
    "plt.imshow(convolution_h[0, : , : , 0], cmap='Greys')\n",
    "plt.show()"
   ]
  },
  {
   "cell_type": "code",
   "execution_count": null,
   "metadata": {},
   "outputs": [],
   "source": [
    "convolution_h1 = tf.nn.max_pool(convolution_h1, ksize=2, strides=1, padding='SAME')\n",
    "convolution_h1"
   ]
  },
  {
   "cell_type": "code",
   "execution_count": null,
   "metadata": {},
   "outputs": [],
   "source": [
    "plt.imshow(convolution_h1[0, : , : , 0], cmap='Greys')\n",
    "plt.show()"
   ]
  },
  {
   "cell_type": "code",
   "execution_count": null,
   "metadata": {},
   "outputs": [],
   "source": [
    "convolution_h1 = tf.reshape(convolution_h1, [-1, 28 * 28 * 32])\n",
    "convolution_h1"
   ]
  },
  {
   "cell_type": "code",
   "execution_count": null,
   "metadata": {},
   "outputs": [],
   "source": [
    "convolution_h1.shape"
   ]
  },
  {
   "cell_type": "code",
   "execution_count": null,
   "metadata": {},
   "outputs": [],
   "source": [
    "# w3 = initializer([픽셀*이미지수, 회귀횟수])\n",
    "w3 = tf.Variable(initializer([28 * 28 * 32, 10]))\n",
    "w3"
   ]
  },
  {
   "cell_type": "code",
   "execution_count": null,
   "metadata": {},
   "outputs": [],
   "source": [
    "y_h1 = tf.matmul(convolution_h1, w3)\n",
    "y_h1"
   ]
  },
  {
   "cell_type": "code",
   "execution_count": null,
   "metadata": {},
   "outputs": [],
   "source": [
    "y"
   ]
  },
  {
   "cell_type": "code",
   "execution_count": null,
   "metadata": {},
   "outputs": [],
   "source": [
    "y_h1 = tf.nn.softmax(y_h1)\n",
    "y_h1"
   ]
  },
  {
   "cell_type": "code",
   "execution_count": null,
   "metadata": {},
   "outputs": [],
   "source": [
    "# mnist의 train data 갯수\n",
    "mnist.train.num_examples"
   ]
  },
  {
   "cell_type": "code",
   "execution_count": null,
   "metadata": {},
   "outputs": [],
   "source": [
    "# 학습시킬 image_size\n",
    "batch_size = 100\n",
    "\n",
    "total_batch = int(mnist.train.num_examples / batch_size)\n",
    "print('total_batch : ', total_batch)"
   ]
  },
  {
   "cell_type": "code",
   "execution_count": null,
   "metadata": {},
   "outputs": [],
   "source": [
    "optimizer = tf.train.AdamOptimizer(0.001)"
   ]
  },
  {
   "cell_type": "code",
   "execution_count": null,
   "metadata": {},
   "outputs": [],
   "source": [
    "for i in range(total_batch) :\n",
    "\tprint('i = ', i)\n",
    "\n",
    "\t# mnist.train.next_batch(batch_size) : 학습이미지에서 순서대로 batch_size개씩 반복해서 반환\n",
    "\tX, y = mnist.train.next_batch(batch_size)\n",
    "\tX = X.reshape(-1, 28, 28, 1)\n",
    "\t# print('X = ', X)\n",
    "\t# print('y = ', y)\n",
    "\t# print('=' * 100)\n",
    "\n",
    "\twith tf.GradientTape() as tape :\n",
    "\t\t# convolution 계산\n",
    "\t\tconvolution_h1 = tf.nn.conv2d(X, w1, strides=1, padding='SAME')\n",
    "\t\t# relu 계산\n",
    "\t\tconvolution_h1 = tf.nn.relu(convolution_h1)\n",
    "\t\t# max_pool 계산\n",
    "\t\tconvolution_h1 = tf.nn.max_pool(convolution_h1, ksize=2, strides=1, padding='SAME')\n",
    "\t\t# 선형회귀를 위해 형변환\n",
    "\t\tconvolution_h1 = tf.reshape(convolution_h1, [-1, 28 * 28 * 32])\n",
    "\t\t\n",
    "\t\t# 선형회귀\n",
    "\t\ty_h1 = tf.matmul(convolution_h1, w3)\n",
    "\t\t# softmax\n",
    "\t\ty_h1 = tf.nn.softmax(y_h1)\n",
    "\n",
    "\t\t# 오차(cost) 계산\n",
    "\t\tcost = -tf.reduce_sum(y * tf.log(y_h1)) / len(y_h1)\n",
    "\n",
    "\t\t# 기울기 계산\n",
    "\t\tgrads = tape.gradient(cost, [w1, w3])\n",
    "\n",
    "\t# cost가 0이 되도록 w1, w3 수정\n",
    "\toptimizer.apply_gradients(grads_and_vars=zip(grads, [w1, w3]))\n",
    "\t# total_cost += cost\n",
    "\n",
    "\tprint('cost = ', cost)\n",
    "\tprint('=' * 100)"
   ]
  }
 ],
 "metadata": {
  "kernelspec": {
   "display_name": "tensorflow1_env",
   "language": "python",
   "name": "python3"
  },
  "language_info": {
   "codemirror_mode": {
    "name": "ipython",
    "version": 3
   },
   "file_extension": ".py",
   "mimetype": "text/x-python",
   "name": "python",
   "nbconvert_exporter": "python",
   "pygments_lexer": "ipython3",
   "version": "3.7.15"
  },
  "orig_nbformat": 4,
  "vscode": {
   "interpreter": {
    "hash": "d3a336bbbac7a5316600585707c60468fe6500cf7c2d174bf746727352f6e866"
   }
  }
 },
 "nbformat": 4,
 "nbformat_minor": 2
}
