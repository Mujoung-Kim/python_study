{
 "cells": [
  {
   "cell_type": "code",
   "execution_count": null,
   "metadata": {},
   "outputs": [],
   "source": [
    "import tensorflow as tf\n",
    "import numpy as np\n",
    "\n",
    "tf.enable_eager_execution()\n",
    "print(tf.__version__)"
   ]
  },
  {
   "cell_type": "code",
   "execution_count": null,
   "metadata": {},
   "outputs": [],
   "source": [
    "X = np.array([\n",
    "\t\t\t\t[0, 0],\n",
    "\t\t\t\t[0, 1],\n",
    "\t\t\t\t[1, 0],\n",
    "\t\t\t\t[1, 1]\n",
    "], dtype='float32')\n",
    "y = np.array([\n",
    "\t\t\t\t[0],\n",
    "\t\t\t\t[0],\n",
    "\t\t\t\t[0],\n",
    "\t\t\t\t[1]\n",
    "], dtype='float32')\n",
    "X, y"
   ]
  },
  {
   "cell_type": "code",
   "execution_count": null,
   "metadata": {},
   "outputs": [],
   "source": [
    "w = tf.Variable([[1], [2]], dtype='float32')\n",
    "b = tf.Variable([3], dtype='float32')\n",
    "w, b"
   ]
  },
  {
   "cell_type": "code",
   "execution_count": null,
   "metadata": {},
   "outputs": [],
   "source": [
    "tf.matmul(X, w)\n",
    "tf.matmul(X, w) + b"
   ]
  },
  {
   "cell_type": "code",
   "execution_count": null,
   "metadata": {},
   "outputs": [],
   "source": [
    "tf.sigmoid(tf.matmul(X, w) + b)"
   ]
  },
  {
   "cell_type": "code",
   "execution_count": null,
   "metadata": {},
   "outputs": [],
   "source": [
    "optimizer = tf.train.AdamOptimizer(0.01)"
   ]
  },
  {
   "cell_type": "code",
   "execution_count": null,
   "metadata": {},
   "outputs": [],
   "source": [
    "for step in range(5000) :\n",
    "\twith tf.GradientTape() as tape :\n",
    "\t\thypothesis = tf.sigmoid(tf.matmul(X, w) + b)\n",
    "\t\tcost = -tf.reduce_mean(y * tf.log(hypothesis) + (1 - y) * tf.log(1 - hypothesis))\n",
    "\t\tgrads = tape.gradient(cost, [w, b])\n",
    "\toptimizer.apply_gradients(grads_and_vars=zip(grads, [w, b]))\n",
    "\n",
    "\tif step % 100 == 0 :\n",
    "\t\tprint('=' * 50)\n",
    "\t\tprint(f'step : {step}, cost : {cost.numpy()}, w : {w.numpy()}, b : {b.numpy()}')\n",
    "\t\tprint('=' * 50)"
   ]
  },
  {
   "cell_type": "code",
   "execution_count": null,
   "metadata": {},
   "outputs": [],
   "source": [
    "w"
   ]
  },
  {
   "cell_type": "code",
   "execution_count": null,
   "metadata": {},
   "outputs": [],
   "source": [
    "b"
   ]
  },
  {
   "cell_type": "code",
   "execution_count": null,
   "metadata": {},
   "outputs": [],
   "source": [
    "predict = tf.sigmoid(tf.matmul(X, w) + b)\n",
    "predict"
   ]
  },
  {
   "cell_type": "code",
   "execution_count": null,
   "metadata": {},
   "outputs": [],
   "source": [
    "predict01 = tf.cast(predict > 0.5, dtype='float32')\n",
    "print('=' * 20)\n",
    "print('predict01 : ', predict01)"
   ]
  },
  {
   "cell_type": "code",
   "execution_count": null,
   "metadata": {},
   "outputs": [],
   "source": [
    "# tf.equal(param, param) -> 두 param을 비교하여 value이 같으면 True, 다르면 False를 반환\n",
    "ac01 = tf.equal(predict01, y)\n",
    "ac01"
   ]
  },
  {
   "cell_type": "code",
   "execution_count": null,
   "metadata": {},
   "outputs": [],
   "source": [
    "# tf.cast(array) -> array의 value가 True = 1, False = 0을 반환 \n",
    "ac02 = tf.cast(ac01, dtype='float32')\n",
    "ac02"
   ]
  },
  {
   "cell_type": "code",
   "execution_count": null,
   "metadata": {},
   "outputs": [],
   "source": [
    "ac03 = tf.reduce_mean(ac02)\n",
    "ac03"
   ]
  },
  {
   "cell_type": "code",
   "execution_count": null,
   "metadata": {},
   "outputs": [],
   "source": [
    "# 정확도를 계산\n",
    "accuracy = tf.reduce_mean(tf.cast(tf.equal(predict01, y), dtype='float32'))\n",
    "print('=' * 20)\n",
    "print('accuracy')\n",
    "print(accuracy)"
   ]
  },
  {
   "cell_type": "code",
   "execution_count": null,
   "metadata": {},
   "outputs": [],
   "source": [
    "arr = np.array([[0, 1]], dtype='float32')\n",
    "predict = tf.sigmoid(tf.matmul(arr, w) + b)\n",
    "predict"
   ]
  },
  {
   "cell_type": "code",
   "execution_count": null,
   "metadata": {},
   "outputs": [],
   "source": [
    "# 0.5 초과 조건을 만족하면 1, 만족하지 않으면 0 을 반환\n",
    "predict = tf.cast(predict > 0.5, dtype=tf.float32)\n",
    "predict.numpy()"
   ]
  },
  {
   "cell_type": "code",
   "execution_count": null,
   "metadata": {},
   "outputs": [],
   "source": [
    "arr = np.array([[1, 1]], dtype='float32')\n",
    "predict = tf.sigmoid(tf.matmul(arr, w) + b)\n",
    "predict"
   ]
  },
  {
   "cell_type": "code",
   "execution_count": null,
   "metadata": {},
   "outputs": [],
   "source": [
    "# 0.5 초과 조건을 만족하면 1, 만족하지 않으면 0 을 반환\n",
    "predict = tf.cast(predict > 0.5, dtype=tf.float32)\n",
    "predict.numpy()"
   ]
  }
 ],
 "metadata": {
  "kernelspec": {
   "display_name": "tensorflow1_env",
   "language": "python",
   "name": "python3"
  },
  "language_info": {
   "codemirror_mode": {
    "name": "ipython",
    "version": 3
   },
   "file_extension": ".py",
   "mimetype": "text/x-python",
   "name": "python",
   "nbconvert_exporter": "python",
   "pygments_lexer": "ipython3",
   "version": "3.7.15 (default, Nov 24 2022, 18:44:54) [MSC v.1916 64 bit (AMD64)]"
  },
  "orig_nbformat": 4,
  "vscode": {
   "interpreter": {
    "hash": "d3a336bbbac7a5316600585707c60468fe6500cf7c2d174bf746727352f6e866"
   }
  }
 },
 "nbformat": 4,
 "nbformat_minor": 2
}
