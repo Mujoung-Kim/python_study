{
 "cells": [
  {
   "cell_type": "code",
   "execution_count": null,
   "metadata": {},
   "outputs": [],
   "source": [
    "import tensorflow as tf\n",
    "import numpy as np\n",
    "\n",
    "tf.enable_eager_execution()"
   ]
  },
  {
   "cell_type": "code",
   "execution_count": null,
   "metadata": {},
   "outputs": [],
   "source": [
    "h = [1, 0, 0, 0]\n",
    "e = [0, 1, 0, 0]\n",
    "l = [0, 0, 1, 0]\n",
    "o = [0, 0, 0, 1]\n",
    "X = np.array([h, e, l, l], dtype='float32')"
   ]
  },
  {
   "cell_type": "code",
   "execution_count": null,
   "metadata": {},
   "outputs": [],
   "source": [
    "Wxh = tf.Variable([\n",
    "\t\t\t\t\t[1],\n",
    "\t\t\t\t\t[2],\n",
    "\t\t\t\t\t[3],\n",
    "\t\t\t\t\t[4]\n",
    "\t\t\t\t], dtype='float32')\n",
    "b = tf.Variable([5], dtype='float32')\n",
    "Whh = tf.Variable([[0.1]], dtype='float32')"
   ]
  },
  {
   "cell_type": "code",
   "execution_count": null,
   "metadata": {},
   "outputs": [],
   "source": [
    "w0 = tf.Variable([\n",
    "\t\t\t\t\t[0.1, 0.2, 0.3, 0.4]\n",
    "\t\t\t\t], dtype='float32')\n",
    "b0 = tf.Variable([0.5, 0.6, 0.7, 0.8], dtype='float32')"
   ]
  },
  {
   "cell_type": "code",
   "execution_count": null,
   "metadata": {},
   "outputs": [],
   "source": [
    "y = np.array([\n",
    "\t\t\t\t[0, 0, 0, 1]\n",
    "\t\t\t], dtype='float32')"
   ]
  },
  {
   "cell_type": "code",
   "execution_count": null,
   "metadata": {},
   "outputs": [],
   "source": [
    "optimizer = tf.train.AdamOptimizer(0.1)"
   ]
  },
  {
   "cell_type": "code",
   "execution_count": null,
   "metadata": {},
   "outputs": [],
   "source": [
    "with tf.GradientTape() as tape :\n",
    "\th0 = tf.matmul(X[0:1], Wxh) + b\n",
    "\th0 = tf.tanh(h0)\n",
    "\t\n",
    "\th1 = tf.matmul(X[1:2], Wxh) + b\n",
    "\th1 = h1 + tf.matmul(h0, Whh)\n",
    "\th1 = tf.tanh(h1)\n",
    "\n",
    "\th2 = tf.matmul(X[2:3], Wxh) + b\n",
    "\th2 = tf.tanh(h2 + tf.matmul(h1, Whh))\n",
    "\t\n",
    "\th3 = tf.matmul(X[3:4], Wxh) + b\n",
    "\th3 = tf.tanh(h3 + tf.matmul(h2, Whh))\n",
    "\n",
    "\thypothesis = tf.nn.softmax(tf.matmul(h3, w0) + b0)\n",
    "\tcost = -tf.reduce_mean(y * tf.log(hypothesis)) / len(hypothesis)\n",
    "\tgrads = tape.gradient(cost, [Wxh, b, Whh, w0, b0])\n",
    "\n",
    "\toptimizer.apply_gradients(grads_and_vars=zip(grads, [Wxh, b, Whh, w0, b0]))\n",
    "\n",
    "\tprint('h0 = ', h0)\n",
    "\tprint('h1 = ', h1)\n",
    "\tprint('h2 = ', h2)\n",
    "\tprint('h3 = ', h3)\n",
    "\tprint('hypo = ', hypothesis)\n",
    "\tprint('y = ', y)\n",
    "\tprint('soft` = ', np.sum(y - hypothesis))\t\t# 1미만이라 여러번 곱하면 기울기 소실이 나타난다.\n",
    "\tprint('cost = ', cost)"
   ]
  },
  {
   "cell_type": "code",
   "execution_count": null,
   "metadata": {},
   "outputs": [],
   "source": [
    "for i in range(100) :\n",
    "\tprint('i = ', i)\n",
    "\tprint('=' * 100)\n",
    "\t\n",
    "\twith tf.GradientTape() as tape : \n",
    "\t\th0 = tf.matmul(X[0:1], Wxh) + b\n",
    "\t\th0 = tf.tanh(h0)\n",
    "\t\t\n",
    "\t\th1 = tf.matmul(X[1:2], Wxh) + b\n",
    "\t\th1 = h1 + tf.matmul(h0, Whh)\n",
    "\t\th1 = tf.tanh(h1)\n",
    "\n",
    "\t\th2 = tf.matmul(X[2:3], Wxh) + b\n",
    "\t\th2 = tf.tanh(h2 + tf.matmul(h1, Whh))\n",
    "\t\t\n",
    "\t\th3 = tf.matmul(X[3:4], Wxh) + b\n",
    "\t\th3 = tf.tanh(h3 + tf.matmul(h2, Whh))\n",
    "\n",
    "\t\thypothesis = tf.nn.softmax(tf.matmul(h3, w0) + b0)\n",
    "\t\tcost = -tf.reduce_mean(y * tf.log(hypothesis)) / len(hypothesis)\n",
    "\t\tgrads = tape.gradient(cost, [Wxh, b, Whh, w0, b0])\n",
    "\n",
    "\t\toptimizer.apply_gradients(grads_and_vars=zip(grads, [Wxh, b, Whh, w0, b0]))\n",
    "\n",
    "\t\tprint('h0 = ', h0)\n",
    "\t\tprint('h1 = ', h1)\n",
    "\t\tprint('h2 = ', h2)\n",
    "\t\tprint('h3 = ', h3)\n",
    "\t\tprint('hypo = ', hypothesis)\n",
    "\t\tprint('y = ', y)\n",
    "\t\tprint('soft` = ', np.sum(y - hypothesis))\n",
    "\t\tprint('cost = ', cost)"
   ]
  }
 ],
 "metadata": {
  "kernelspec": {
   "display_name": "tensorflow1_env",
   "language": "python",
   "name": "python3"
  },
  "language_info": {
   "codemirror_mode": {
    "name": "ipython",
    "version": 3
   },
   "file_extension": ".py",
   "mimetype": "text/x-python",
   "name": "python",
   "nbconvert_exporter": "python",
   "pygments_lexer": "ipython3",
   "version": "3.7.15"
  },
  "orig_nbformat": 4,
  "vscode": {
   "interpreter": {
    "hash": "d3a336bbbac7a5316600585707c60468fe6500cf7c2d174bf746727352f6e866"
   }
  }
 },
 "nbformat": 4,
 "nbformat_minor": 2
}
