{
 "cells": [
  {
   "cell_type": "code",
   "execution_count": null,
   "metadata": {},
   "outputs": [],
   "source": [
    "import tensorflow as tf\n",
    "from tensorflow.examples.tutorials.mnist import input_data\n",
    "import numpy as np\n",
    "import matplotlib.pyplot as plt\n",
    "\n",
    "np.set_printoptions(linewidth=1000)\n",
    "tf.enable_eager_execution()\n",
    "print(tf.__version__)"
   ]
  },
  {
   "cell_type": "code",
   "execution_count": null,
   "metadata": {},
   "outputs": [],
   "source": [
    "# read_data_sets('download_directory')\n",
    "mnist = input_data.read_data_sets('./mnist/data/', one_hot=True)"
   ]
  },
  {
   "cell_type": "code",
   "execution_count": null,
   "metadata": {},
   "outputs": [],
   "source": [
    "# next_batch(1) : 학습 데이터에서 1개의 X(독립변수), y(종속변수) 반환\n",
    "X, y = mnist.train.next_batch(1)"
   ]
  },
  {
   "cell_type": "code",
   "execution_count": null,
   "metadata": {},
   "outputs": [],
   "source": [
    "X.shape"
   ]
  },
  {
   "cell_type": "code",
   "execution_count": null,
   "metadata": {},
   "outputs": [],
   "source": [
    "y"
   ]
  },
  {
   "cell_type": "code",
   "execution_count": null,
   "metadata": {},
   "outputs": [],
   "source": [
    "# image를 출력하기 위해 28x28의 array로 변환\n",
    "X.reshape((28, 28))"
   ]
  },
  {
   "cell_type": "code",
   "execution_count": null,
   "metadata": {},
   "outputs": [],
   "source": [
    "plt.imshow(X.reshape((28, 28)), cmap='Greys')\n",
    "plt.show()"
   ]
  },
  {
   "cell_type": "code",
   "execution_count": null,
   "metadata": {},
   "outputs": [],
   "source": [
    "X = X.reshape(1, 28, 28, 1)\n",
    "X.shape"
   ]
  },
  {
   "cell_type": "code",
   "execution_count": null,
   "metadata": {},
   "outputs": [],
   "source": [
    "initializer = tf.contrib.layers.xavier_initializer()"
   ]
  },
  {
   "cell_type": "code",
   "execution_count": null,
   "metadata": {},
   "outputs": [],
   "source": [
    "# [fil_idx, fil_col, col_type, fil_cnt] \n",
    "# \t-> fil_idx : 필터 세로, fil_col : 필터 가로, col_tye : 1(흑백), 3(컬러), fil_cnt : 필터 갯수\n",
    "w1 = tf.Variable(initializer([3, 3, 1, 32]))\n",
    "w1"
   ]
  },
  {
   "cell_type": "code",
   "execution_count": null,
   "metadata": {},
   "outputs": [],
   "source": [
    "# 0번째 필터 조회\n",
    "w1[ : , : , : , 0]"
   ]
  },
  {
   "cell_type": "code",
   "execution_count": null,
   "metadata": {},
   "outputs": [],
   "source": [
    "tf.reshape(w1[ : , : , : , 0], (3, 3))"
   ]
  },
  {
   "cell_type": "code",
   "execution_count": null,
   "metadata": {},
   "outputs": [],
   "source": [
    "for i in range(32) :\n",
    "\tprint(f'filter i = {i}')\n",
    "\tprint('=' * 100)\n",
    "\tprint(tf.reshape(w1[ : , : , : , i], (3, 3)))\n",
    "\tprint('=' * 100)"
   ]
  },
  {
   "cell_type": "code",
   "execution_count": null,
   "metadata": {},
   "outputs": [],
   "source": [
    "img = X"
   ]
  },
  {
   "cell_type": "code",
   "execution_count": null,
   "metadata": {},
   "outputs": [],
   "source": [
    "img"
   ]
  },
  {
   "cell_type": "code",
   "execution_count": null,
   "metadata": {},
   "outputs": [],
   "source": [
    "plt.imshow(img.reshape((28, 28)), cmap='Greys')\n",
    "plt.show()"
   ]
  },
  {
   "cell_type": "code",
   "execution_count": null,
   "metadata": {},
   "outputs": [],
   "source": [
    "# convolution을 하기 위해 4차원 array로 변환\n",
    "img = img.reshape(1, 28, 28, 1)"
   ]
  },
  {
   "cell_type": "code",
   "execution_count": null,
   "metadata": {},
   "outputs": [],
   "source": [
    "# convolution 실행\n",
    "convolution_h = tf.nn.conv2d(X, w1, strides=1, padding='SAME')\n",
    "convolution_h"
   ]
  },
  {
   "cell_type": "code",
   "execution_count": null,
   "metadata": {},
   "outputs": [],
   "source": [
    "# convolution 실행 후 결과 출력\n",
    "convolution_h[0, : , : , 0]"
   ]
  },
  {
   "cell_type": "code",
   "execution_count": null,
   "metadata": {},
   "outputs": [],
   "source": [
    "# convolution 실행 후 0번째 결과 시각화\n",
    "plt.imshow(convolution_h[0, : , : , 0], cmap='Greys')\n",
    "plt.show()"
   ]
  },
  {
   "cell_type": "code",
   "execution_count": null,
   "metadata": {},
   "outputs": [],
   "source": [
    "plt.imshow(convolution_h[0, : , : , 1], cmap='Greys')\n",
    "plt.show()"
   ]
  },
  {
   "cell_type": "code",
   "execution_count": null,
   "metadata": {},
   "outputs": [],
   "source": [
    "plt.imshow(convolution_h[0, : , : , 2], cmap='Greys')\n",
    "plt.show()"
   ]
  },
  {
   "cell_type": "code",
   "execution_count": null,
   "metadata": {},
   "outputs": [],
   "source": [
    "# convolution 실행 후 결과들 시각화\n",
    "fig = plt.figure(figsize=(30, 20))\n",
    "\n",
    "for i in range(32) :\n",
    "\tsubplot = fig.add_subplot(4, 8, i + 1)\n",
    "\tsubplot.set_xticks([])\n",
    "\tsubplot.set_yticks([])\n",
    "\tsubplot.imshow(convolution_h[0, : , : , i], cmap='Greys')"
   ]
  },
  {
   "cell_type": "code",
   "execution_count": null,
   "metadata": {},
   "outputs": [],
   "source": [
    "# activation function relu 실행\n",
    "# 음수 -> 0\n",
    "# 0, 양수 -> 그대로\n",
    "convolution_h = tf.nn.relu(convolution_h)\n",
    "convolution_h"
   ]
  },
  {
   "cell_type": "code",
   "execution_count": null,
   "metadata": {},
   "outputs": [],
   "source": [
    "convolution_h.shape"
   ]
  },
  {
   "cell_type": "code",
   "execution_count": null,
   "metadata": {},
   "outputs": [],
   "source": [
    "# relu 실행 후 0번째 출력\n",
    "convolution_h[0, : , : , 0]"
   ]
  },
  {
   "cell_type": "code",
   "execution_count": null,
   "metadata": {},
   "outputs": [],
   "source": [
    "# relu 실행 후 0번째 결과 시각화\n",
    "plt.imshow(convolution_h[0, : , : , 0], cmap='Greys')\n",
    "plt.show()"
   ]
  },
  {
   "cell_type": "code",
   "execution_count": null,
   "metadata": {},
   "outputs": [],
   "source": [
    "plt.imshow(convolution_h[0, : , : , 1], cmap='Greys')\n",
    "plt.show()"
   ]
  },
  {
   "cell_type": "code",
   "execution_count": null,
   "metadata": {},
   "outputs": [],
   "source": [
    "# relu 실행 후 결과들 시각화\n",
    "fig = plt.figure(figsize=(30, 20))\n",
    "\n",
    "for i in range(32) :\n",
    "\tsubplot = fig.add_subplot(4, 8, i + 1)\n",
    "\tsubplot.set_xticks([])\n",
    "\tsubplot.set_yticks([])\n",
    "\tsubplot.imshow(convolution_h[0, : , : , i], cmap='Greys')"
   ]
  },
  {
   "cell_type": "code",
   "execution_count": null,
   "metadata": {},
   "outputs": [],
   "source": [
    "# max_pool 실행\n",
    "convolution_h = tf.nn.max_pool(convolution_h, ksize=2, strides=1 , padding='SAME')\n",
    "convolution_h"
   ]
  },
  {
   "cell_type": "code",
   "execution_count": null,
   "metadata": {},
   "outputs": [],
   "source": [
    "convolution_h.shape"
   ]
  },
  {
   "cell_type": "code",
   "execution_count": null,
   "metadata": {},
   "outputs": [],
   "source": [
    "# max_pooling 결과 출력\n",
    "convolution_h[0, : , : , 0]"
   ]
  },
  {
   "cell_type": "code",
   "execution_count": null,
   "metadata": {},
   "outputs": [],
   "source": [
    "# max_pooling 실행 후 0번째 결과 시각화\n",
    "plt.imshow(convolution_h[0, : , : , 0], cmap='Greys')\n",
    "plt.show()"
   ]
  },
  {
   "cell_type": "code",
   "execution_count": null,
   "metadata": {},
   "outputs": [],
   "source": [
    "plt.imshow(convolution_h[0, : , : , 1], cmap='Greys')\n",
    "plt.show()"
   ]
  },
  {
   "cell_type": "code",
   "execution_count": null,
   "metadata": {},
   "outputs": [],
   "source": [
    "plt.imshow(convolution_h[0, : , : , 2], cmap='Greys')\n",
    "plt.show()"
   ]
  },
  {
   "cell_type": "code",
   "execution_count": null,
   "metadata": {},
   "outputs": [],
   "source": [
    "# max_pooling 결과들 시각화\n",
    "fig = plt.figure(figsize=(30, 20))\n",
    "\n",
    "for i in range(32) : \n",
    "\tsubplot = fig.add_subplot(4, 8, i + 1)\n",
    "\tsubplot.set_xticks([])\n",
    "\tsubplot.set_yticks([])\n",
    "\tsubplot.imshow(convolution_h[0, : , : , i], cmap='Greys')"
   ]
  },
  {
   "cell_type": "code",
   "execution_count": null,
   "metadata": {},
   "outputs": [],
   "source": [
    "convolution_h = tf.reshape(convolution_h, [-1, 28 * 28 * 32])\n",
    "convolution_h"
   ]
  },
  {
   "cell_type": "code",
   "execution_count": null,
   "metadata": {},
   "outputs": [],
   "source": [
    "convolution_h.shape"
   ]
  },
  {
   "cell_type": "code",
   "execution_count": null,
   "metadata": {},
   "outputs": [],
   "source": [
    "w3 = tf.Variable(initializer([28 * 28 * 32, 10]))\n",
    "w3"
   ]
  },
  {
   "cell_type": "code",
   "execution_count": null,
   "metadata": {},
   "outputs": [],
   "source": [
    "w3.shape"
   ]
  },
  {
   "cell_type": "code",
   "execution_count": null,
   "metadata": {},
   "outputs": [],
   "source": [
    "y_h1 = tf.matmul(convolution_h, w3)"
   ]
  },
  {
   "cell_type": "code",
   "execution_count": null,
   "metadata": {},
   "outputs": [],
   "source": [
    "y_h1.shape"
   ]
  },
  {
   "cell_type": "code",
   "execution_count": null,
   "metadata": {},
   "outputs": [],
   "source": [
    "y_h1 = tf.nn.softmax(y_h1)\n",
    "y_h1"
   ]
  },
  {
   "cell_type": "code",
   "execution_count": null,
   "metadata": {},
   "outputs": [],
   "source": [
    "# mnist training data\n",
    "mnist.train.num_examples"
   ]
  },
  {
   "cell_type": "code",
   "execution_count": null,
   "metadata": {},
   "outputs": [],
   "source": [
    "# 학습시킬 image 크기를 묶음\n",
    "batch_size = 100\n",
    "\n",
    "total_batch = int(mnist.train.num_examples / batch_size)\n",
    "print('total_batch = ', total_batch)"
   ]
  },
  {
   "cell_type": "code",
   "execution_count": null,
   "metadata": {},
   "outputs": [],
   "source": [
    "# learning_rate 설정\n",
    "optimizer = tf.train.AdamOptimizer(0.001)"
   ]
  },
  {
   "cell_type": "code",
   "execution_count": null,
   "metadata": {},
   "outputs": [],
   "source": [
    "for step in range(5) :\n",
    "\n",
    "\ttotal_cost = 0\n",
    "\n",
    "\tfor i in range(total_batch) : \n",
    "\t\tX, y = mnist.train.next_batch(batch_size)\n",
    "\t\tX = X.reshape(-1, 28, 28, 1)\n",
    "\n",
    "\t\twith tf.GradientTape() as tape :\n",
    "\t\t\tconvolution_h = tf.nn.conv2d(X, w1, strides=1, padding='SAME')\n",
    "\t\t\tconvolution_h = tf.nn.relu(convolution_h)\n",
    "\t\t\tconvolution_h = tf.nn.max_pool(convolution_h, ksize=2, strides=1, padding='SAME')\n",
    "\t\t\tconvolution_h = tf.reshape(convolution_h, [-1, 28 * 28 * 32])\n",
    "\t\t\t\n",
    "\t\t\ty_h1 = tf.matmul(convolution_h, w3)\n",
    "\t\t\ty_h1 = tf.nn.softmax(y_h1)\n",
    "\n",
    "\t\t\tcost = -tf.reduce_sum(y * tf.log(y_h1) / len(y_h1))\n",
    "\n",
    "\t\t\tgrads = tape.gradient(cost, [w1, w3])\n",
    "\n",
    "\t\toptimizer.apply_gradients(grads_and_vars=zip(grads, [w1, w3]))\n",
    "\t\ttotal_cost += cost\n",
    "\t\n",
    "\tprint(f'step : {step}, cost : {total_cost / total_batch}')\n"
   ]
  },
  {
   "cell_type": "code",
   "execution_count": null,
   "metadata": {},
   "outputs": [],
   "source": [
    "img"
   ]
  },
  {
   "cell_type": "code",
   "execution_count": null,
   "metadata": {},
   "outputs": [],
   "source": [
    "plt.imshow(img.reshape((28, 28)), cmap='Greys')\n",
    "plt.show()"
   ]
  },
  {
   "cell_type": "code",
   "execution_count": null,
   "metadata": {},
   "outputs": [],
   "source": [
    "w1"
   ]
  },
  {
   "cell_type": "code",
   "execution_count": null,
   "metadata": {},
   "outputs": [],
   "source": [
    "w1[ : , : , : , 0]"
   ]
  },
  {
   "cell_type": "code",
   "execution_count": null,
   "metadata": {},
   "outputs": [],
   "source": [
    "tf.reshape(w1[ : , : , : , 0], (3, 3))"
   ]
  },
  {
   "cell_type": "code",
   "execution_count": null,
   "metadata": {},
   "outputs": [],
   "source": [
    "for i in range(32) :\n",
    "\tprint('filter = ', i)\n",
    "\tprint('=' * 100)\n",
    "\tprint(tf.reshape(w1[ : , : , : , i], (3, 3)))\n",
    "\tprint('=' * 100)"
   ]
  },
  {
   "cell_type": "code",
   "execution_count": null,
   "metadata": {},
   "outputs": [],
   "source": [
    "img = img.reshape(1, 28, 28, 1)"
   ]
  },
  {
   "cell_type": "code",
   "execution_count": null,
   "metadata": {},
   "outputs": [],
   "source": [
    "convolution_h = tf.nn.conv2d(img, w1, strides=1, padding='SAME')\n",
    "convolution_h"
   ]
  },
  {
   "cell_type": "code",
   "execution_count": null,
   "metadata": {},
   "outputs": [],
   "source": [
    "convolution_h.shape"
   ]
  },
  {
   "cell_type": "code",
   "execution_count": null,
   "metadata": {},
   "outputs": [],
   "source": [
    "convolution_h[0, : , : , 0]"
   ]
  },
  {
   "cell_type": "code",
   "execution_count": null,
   "metadata": {},
   "outputs": [],
   "source": [
    "plt.imshow(convolution_h[0, : , : , 0], cmap='Greys')\n",
    "plt.show()"
   ]
  },
  {
   "cell_type": "code",
   "execution_count": null,
   "metadata": {},
   "outputs": [],
   "source": [
    "plt.imshow(convolution_h[0, : , : , 1], cmap='Greys')\n",
    "plt.show()"
   ]
  },
  {
   "cell_type": "code",
   "execution_count": null,
   "metadata": {},
   "outputs": [],
   "source": [
    "plt.imshow(convolution_h[0, : , : , 2], cmap='Greys')\n",
    "plt.show()"
   ]
  },
  {
   "cell_type": "code",
   "execution_count": null,
   "metadata": {},
   "outputs": [],
   "source": [
    "fig = plt.figure(figsize=(30, 20))\n",
    "\n",
    "for i in range(32) :\n",
    "\tsubplot = fig.add_subplot(4, 8, i + 1)\n",
    "\tsubplot.set_xticks([])\n",
    "\tsubplot.set_yticks([])\n",
    "\tsubplot.imshow(convolution_h[0, : , : , i], cmap='Greys')"
   ]
  },
  {
   "cell_type": "code",
   "execution_count": null,
   "metadata": {},
   "outputs": [],
   "source": [
    "convolution_h = tf.nn.relu(convolution_h)\n",
    "convolution_h"
   ]
  },
  {
   "cell_type": "code",
   "execution_count": null,
   "metadata": {},
   "outputs": [],
   "source": [
    "convolution_h.shape"
   ]
  },
  {
   "cell_type": "code",
   "execution_count": null,
   "metadata": {},
   "outputs": [],
   "source": [
    "convolution_h[0, : , : , 0]"
   ]
  },
  {
   "cell_type": "code",
   "execution_count": null,
   "metadata": {},
   "outputs": [],
   "source": [
    "plt.imshow(convolution_h[0, : , : , 0], cmap='Greys')\n",
    "plt.show()"
   ]
  },
  {
   "cell_type": "code",
   "execution_count": null,
   "metadata": {},
   "outputs": [],
   "source": [
    "plt.imshow(convolution_h[0, : , : , 1], cmap='Greys')\n",
    "plt.show()"
   ]
  },
  {
   "cell_type": "code",
   "execution_count": null,
   "metadata": {},
   "outputs": [],
   "source": [
    "plt.imshow(convolution_h[0, : , : , 2], cmap='Greys')\n",
    "plt.show()"
   ]
  },
  {
   "cell_type": "code",
   "execution_count": null,
   "metadata": {},
   "outputs": [],
   "source": [
    "fig = plt.figure(figsize=(30, 20))\n",
    "\n",
    "for i in range(32) :\n",
    "\tsubplot = fig.add_subplot(4, 8, i + 1)\n",
    "\tsubplot.set_xticks([])\n",
    "\tsubplot.set_yticks([])\n",
    "\tsubplot.imshow(convolution_h[0, :, :, i], cmap='Greys')"
   ]
  },
  {
   "cell_type": "code",
   "execution_count": null,
   "metadata": {},
   "outputs": [],
   "source": [
    "convolution_h = tf.nn.max_pool(convolution_h, ksize=2, strides=1, padding='SAME')\n",
    "convolution_h"
   ]
  },
  {
   "cell_type": "code",
   "execution_count": null,
   "metadata": {},
   "outputs": [],
   "source": [
    "convolution_h.shape"
   ]
  },
  {
   "cell_type": "code",
   "execution_count": null,
   "metadata": {},
   "outputs": [],
   "source": [
    "convolution_h[0, : , : , 0]"
   ]
  },
  {
   "cell_type": "code",
   "execution_count": null,
   "metadata": {},
   "outputs": [],
   "source": [
    "plt.imshow(convolution_h[0, : , : , 0], cmap='Greys')\n",
    "plt.show()"
   ]
  },
  {
   "cell_type": "code",
   "execution_count": null,
   "metadata": {},
   "outputs": [],
   "source": [
    "plt.imshow(convolution_h[0, : , : , 1], cmap='Greys')\n",
    "plt.show()"
   ]
  },
  {
   "cell_type": "code",
   "execution_count": null,
   "metadata": {},
   "outputs": [],
   "source": [
    "plt.imshow(convolution_h[0, : , : , 2], cmap='Greys')\n",
    "plt.show()"
   ]
  },
  {
   "cell_type": "code",
   "execution_count": null,
   "metadata": {},
   "outputs": [],
   "source": [
    "fig = plt.figure(figsize=(30, 20))\n",
    "\n",
    "for i in range(32) :\n",
    "\tsubplot = fig.add_subplot(4, 8, i + 1)\n",
    "\tsubplot.set_xticks([])\n",
    "\tsubplot.set_yticks([])\n",
    "\tsubplot.imshow(convolution_h[0, : , : , i], cmap='Greys')"
   ]
  },
  {
   "cell_type": "code",
   "execution_count": null,
   "metadata": {},
   "outputs": [],
   "source": [
    "w3"
   ]
  },
  {
   "cell_type": "code",
   "execution_count": null,
   "metadata": {},
   "outputs": [],
   "source": [
    "test_images = mnist.test.images[0 : 10000]\n",
    "test_images"
   ]
  },
  {
   "cell_type": "code",
   "execution_count": null,
   "metadata": {},
   "outputs": [],
   "source": [
    "test_labels = mnist.test.labels[0 : 10000]\n",
    "test_labels"
   ]
  },
  {
   "cell_type": "code",
   "execution_count": null,
   "metadata": {},
   "outputs": [],
   "source": [
    "test_images = test_images.reshape(-1, 28, 28, 1)\n",
    "test_images.shape"
   ]
  },
  {
   "cell_type": "code",
   "execution_count": null,
   "metadata": {},
   "outputs": [],
   "source": [
    "convolution_h = tf.nn.conv2d(test_images, w1, strides=1, padding='SAME')\n",
    "convolution_h"
   ]
  },
  {
   "cell_type": "code",
   "execution_count": null,
   "metadata": {},
   "outputs": [],
   "source": [
    "convolution_h = tf.nn.relu(convolution_h)"
   ]
  },
  {
   "cell_type": "code",
   "execution_count": null,
   "metadata": {},
   "outputs": [],
   "source": [
    "convolution_h = tf.nn.max_pool(convolution_h, ksize=2, strides=1, padding='SAME')\n",
    "convolution_h = tf.reshape(convolution_h, [-1, 28 * 28 * 32])"
   ]
  },
  {
   "cell_type": "code",
   "execution_count": null,
   "metadata": {},
   "outputs": [],
   "source": [
    "y_h1 = tf.matmul(convolution_h, w3)\n",
    "predict = tf.nn.softmax(y_h1)\n",
    "predict"
   ]
  },
  {
   "cell_type": "code",
   "execution_count": null,
   "metadata": {},
   "outputs": [],
   "source": [
    "predict01 = tf.argmax(predict, 1)\n",
    "predict01"
   ]
  },
  {
   "cell_type": "code",
   "execution_count": null,
   "metadata": {},
   "outputs": [],
   "source": [
    "target = tf.argmax(test_labels, 1)\n",
    "target"
   ]
  },
  {
   "cell_type": "code",
   "execution_count": null,
   "metadata": {},
   "outputs": [],
   "source": [
    "ac01 = tf.equal(predict01, target)\n",
    "ac01"
   ]
  },
  {
   "cell_type": "code",
   "execution_count": null,
   "metadata": {},
   "outputs": [],
   "source": [
    "ac02 = tf.cast(ac01, dtype='float32')\n",
    "ac02"
   ]
  },
  {
   "cell_type": "code",
   "execution_count": null,
   "metadata": {},
   "outputs": [],
   "source": [
    "ac03 = tf.reduce_mean(ac02)\n",
    "ac03"
   ]
  },
  {
   "cell_type": "code",
   "execution_count": null,
   "metadata": {},
   "outputs": [],
   "source": [
    "accuracy = tf.reduce_mean(tf.cast(tf.equal(predict01, target), dtype='float32'))\n",
    "print('=' * 100)\n",
    "print('accuracy')\n",
    "print(accuracy.numpy())"
   ]
  },
  {
   "cell_type": "code",
   "execution_count": null,
   "metadata": {},
   "outputs": [],
   "source": [
    "fig = plt.figure(figsize=(30, 20))\n",
    "\n",
    "for i in range(30) :\n",
    "\tsubplot = fig.add_subplot(6, 5, i + 1)\n",
    "\tsubplot.set_xticks([])\n",
    "\tsubplot.set_yticks([])\n",
    "\tsubplot.set_title('predict : %d' % predict01[i])\n",
    "\tsubplot.imshow(mnist.test.images[i].reshape((28, 28)), cmap='Greys')\n",
    "plt.show()"
   ]
  }
 ],
 "metadata": {
  "kernelspec": {
   "display_name": "tensorflow1_env",
   "language": "python",
   "name": "python3"
  },
  "language_info": {
   "codemirror_mode": {
    "name": "ipython",
    "version": 3
   },
   "file_extension": ".py",
   "mimetype": "text/x-python",
   "name": "python",
   "nbconvert_exporter": "python",
   "pygments_lexer": "ipython3",
   "version": "3.7.15"
  },
  "orig_nbformat": 4,
  "vscode": {
   "interpreter": {
    "hash": "d3a336bbbac7a5316600585707c60468fe6500cf7c2d174bf746727352f6e866"
   }
  }
 },
 "nbformat": 4,
 "nbformat_minor": 2
}
