{
 "cells": [
  {
   "cell_type": "code",
   "execution_count": null,
   "metadata": {},
   "outputs": [],
   "source": [
    "import tensorflow as tf\n",
    "import numpy as np\n",
    "\n",
    "tf.enable_eager_execution()"
   ]
  },
  {
   "cell_type": "code",
   "execution_count": null,
   "metadata": {},
   "outputs": [],
   "source": [
    "h = [1, 0, 0, 0]\n",
    "e = [0, 1, 0, 0]\n",
    "l = [0, 0, 1, 0]\n",
    "o = [0, 0, 0, 1]\n",
    "X = np.array([h, e, l, l], dtype='float32')\n",
    "Wxh = tf.Variable([\n",
    "\t\t\t\t\t[1],\n",
    "\t\t\t\t\t[2],\n",
    "\t\t\t\t\t[3],\n",
    "\t\t\t\t\t[4]\n",
    "\t\t\t\t], dtype='float32')\n",
    "b = tf.Variable([[5]], dtype='float32')\n",
    "Whh = tf.Variable([[0.1]], dtype='float32')\n",
    "Wxh_t = tf.Variable([\n",
    "\t\t\t\t\t\t[0.1, 0.5, 0.9, 1.3],\n",
    "\t\t\t\t\t\t[0.2, 0.6, 1.0, 1.4],\n",
    "\t\t\t\t\t\t[0.3, 0.7, 1.1, 1.5],\n",
    "\t\t\t\t\t\t[0.4, 0.8, 1.2, 1.6]\n",
    "\t\t\t\t\t], dtype='float32')\n",
    "b_t = tf.Variable([[0.01, 0.02, 0.03, 0.04]], dtype='float32')\n",
    "Whh_t = tf.Variable([\n",
    "\t\t\t\t\t\t[0.1, 0.1, 0.1, 0.1],\n",
    "\t\t\t\t\t\t[0.1, 0.1, 0.1, 0.1],\n",
    "\t\t\t\t\t\t[0.1, 0.1, 0.1, 0.1],\n",
    "\t\t\t\t\t\t[0.1, 0.1, 0.1, 0.1]\n",
    "\t\t\t\t\t], dtype='float32')"
   ]
  },
  {
   "cell_type": "code",
   "execution_count": null,
   "metadata": {},
   "outputs": [],
   "source": [
    "X[0:1]"
   ]
  },
  {
   "cell_type": "code",
   "execution_count": null,
   "metadata": {},
   "outputs": [],
   "source": [
    "h0 = tf.matmul(X[0:1], Wxh) + b\n",
    "h0"
   ]
  },
  {
   "cell_type": "code",
   "execution_count": null,
   "metadata": {},
   "outputs": [],
   "source": [
    "h0 = tf.tanh(h0)\n",
    "h0"
   ]
  },
  {
   "cell_type": "code",
   "execution_count": null,
   "metadata": {},
   "outputs": [],
   "source": [
    "X[1:2]"
   ]
  },
  {
   "cell_type": "code",
   "execution_count": null,
   "metadata": {},
   "outputs": [],
   "source": [
    "h1 = tf.matmul(X[1:2], Wxh) + b\n",
    "h1"
   ]
  },
  {
   "cell_type": "code",
   "execution_count": null,
   "metadata": {},
   "outputs": [],
   "source": [
    "h1 = h1 + tf.matmul(h0, Whh)\n",
    "h1"
   ]
  },
  {
   "cell_type": "code",
   "execution_count": null,
   "metadata": {},
   "outputs": [],
   "source": [
    "h1 = tf.tanh(h1)\n",
    "h1"
   ]
  },
  {
   "cell_type": "code",
   "execution_count": null,
   "metadata": {},
   "outputs": [],
   "source": [
    "X[2:3]"
   ]
  },
  {
   "cell_type": "code",
   "execution_count": null,
   "metadata": {},
   "outputs": [],
   "source": [
    "h2 = tf.matmul(X[2:3], Wxh) + b\n",
    "h2"
   ]
  },
  {
   "cell_type": "code",
   "execution_count": null,
   "metadata": {},
   "outputs": [],
   "source": [
    "h2 = h2 + tf.matmul(h1, Whh)\n",
    "h2"
   ]
  },
  {
   "cell_type": "code",
   "execution_count": null,
   "metadata": {},
   "outputs": [],
   "source": [
    "h2 = tf.tanh(h2)\n",
    "h2"
   ]
  },
  {
   "cell_type": "code",
   "execution_count": null,
   "metadata": {},
   "outputs": [],
   "source": [
    "X[3:4]"
   ]
  },
  {
   "cell_type": "code",
   "execution_count": null,
   "metadata": {},
   "outputs": [],
   "source": [
    "h3 = tf.matmul(X[3:4], Wxh) + b\n",
    "h3"
   ]
  },
  {
   "cell_type": "code",
   "execution_count": null,
   "metadata": {},
   "outputs": [],
   "source": [
    "h3 = h3 + tf.matmul(h2, Whh)\n",
    "h3"
   ]
  },
  {
   "cell_type": "code",
   "execution_count": null,
   "metadata": {},
   "outputs": [],
   "source": [
    "h3 = tf.tanh(h3)\n",
    "h3"
   ]
  },
  {
   "cell_type": "code",
   "execution_count": null,
   "metadata": {},
   "outputs": [],
   "source": [
    "# h0 = tf.matmul(X[0:1], Wxh_t) + b_t\n",
    "# h0 = tf.tanh(h0)\n",
    "# h0"
   ]
  },
  {
   "cell_type": "code",
   "execution_count": null,
   "metadata": {},
   "outputs": [],
   "source": [
    "# h1 = tf.matmul(X[1:2], Wxh_t) + b_t\n",
    "# h1 = h1 + tf.matmul(h0, Whh_t)\n",
    "# h1 = tf.tanh(h1)\n",
    "# h1"
   ]
  },
  {
   "cell_type": "code",
   "execution_count": null,
   "metadata": {},
   "outputs": [],
   "source": [
    "# h2 = tf.matmul(X[2:3], Wxh_t) + b_t\n",
    "# h2 = h2 + tf.matmul(h1, Whh_t)\n",
    "# h2 = tf.tanh(h2)\n",
    "# h2"
   ]
  },
  {
   "cell_type": "code",
   "execution_count": null,
   "metadata": {},
   "outputs": [],
   "source": [
    "# h3 = tf.matmul(X[3:4], Wxh_t) + b_t\n",
    "# h3 = h3 + tf.matmul(h2, Whh_t)\n",
    "# h3 = tf.tanh(h3)\n",
    "# h3"
   ]
  },
  {
   "cell_type": "code",
   "execution_count": null,
   "metadata": {},
   "outputs": [],
   "source": [
    "# hypothesis를 계산하기 위한 가중치, 바이어스\n",
    "w0 = tf.Variable([[0.1, 0.2, 0.3, 0.4]], dtype='float32')\n",
    "b0 = tf.Variable([0.5, 0.6, 0.7, 0.8], dtype='float32')\n",
    "w0_t = tf.Variable([\n",
    "\t\t\t\t\t\t[0.1, 0.2, 0.3, 0.4],\n",
    "\t\t\t\t\t\t[0.5, 0.6, 0.7, 0.8],\n",
    "\t\t\t\t\t\t[0.9, 1.0, 1.1, 1.2],\n",
    "\t\t\t\t\t\t[1.3, 1.4, 1.5, 1.6]\n",
    "\t\t\t\t\t], dtype='float32')\n",
    "b0_t = tf.Variable([0.5, 0.6, 0.7, 0.8], dtype='float32')\n",
    "w0, b0"
   ]
  },
  {
   "cell_type": "code",
   "execution_count": null,
   "metadata": {},
   "outputs": [],
   "source": [
    "# 추론할 값\n",
    "y = np.array([[0, 0, 0, 1]], dtype='float32')\n",
    "y"
   ]
  },
  {
   "cell_type": "code",
   "execution_count": null,
   "metadata": {},
   "outputs": [],
   "source": [
    "h3"
   ]
  },
  {
   "cell_type": "code",
   "execution_count": null,
   "metadata": {},
   "outputs": [],
   "source": [
    "tf.matmul(h3, w0)"
   ]
  },
  {
   "cell_type": "code",
   "execution_count": null,
   "metadata": {},
   "outputs": [],
   "source": [
    "tf.matmul(h3, w0) + b0"
   ]
  },
  {
   "cell_type": "code",
   "execution_count": null,
   "metadata": {},
   "outputs": [],
   "source": [
    "tf.nn.softmax(tf.matmul(h3, w0) + b0)"
   ]
  },
  {
   "cell_type": "code",
   "execution_count": null,
   "metadata": {},
   "outputs": [],
   "source": [
    "hypothesis = tf.nn.softmax(tf.matmul(h3, w0) + b0)\n",
    "hypothesis"
   ]
  },
  {
   "cell_type": "code",
   "execution_count": null,
   "metadata": {},
   "outputs": [],
   "source": [
    "cost = -tf.reduce_mean(y * tf.log(hypothesis)) / len(hypothesis)\n",
    "cost"
   ]
  },
  {
   "cell_type": "code",
   "execution_count": null,
   "metadata": {},
   "outputs": [],
   "source": [
    "# learning_rate 설정 10^-3\n",
    "optimizer = tf.train.AdamOptimizer(0.001)"
   ]
  },
  {
   "cell_type": "code",
   "execution_count": null,
   "metadata": {},
   "outputs": [],
   "source": [
    "for i in range(1000) :\n",
    "\tprint('=' * 100)\n",
    "\tprint('i = ', i)\n",
    "\t\n",
    "\twith tf.GradientTape() as tape :\n",
    "\t\th0 = tf.matmul(X[0:1], Wxh) + b\n",
    "\t\th0 = tf.tanh(h0)\n",
    "\n",
    "\t\th1 = tf.matmul(X[1:2], Wxh) + b\n",
    "\t\th1 = tf.tanh(h1 + tf.matmul(h0, Whh))\n",
    "\n",
    "\t\th2 = tf.matmul(X[2:3], Wxh) + b\n",
    "\t\th2 = tf.tanh(h2 + tf.matmul(h1, Whh))\n",
    "\t\t\n",
    "\t\th3 = tf.matmul(X[3:4], Wxh) + b\n",
    "\t\th3 = tf.tanh(h3 + tf.matmul(h2, Whh))\n",
    "\n",
    "\t\thypothesis = tf.nn.softmax(tf.matmul(h3, w0) + b0)\n",
    "\t\tcost = -tf.reduce_mean(y * tf.log(hypothesis)) / len(hypothesis)\n",
    "\t\tgrads = tape.gradient(cost, [Wxh, b, Whh, w0, b0])\n",
    "\n",
    "\t\toptimizer.apply_gradients(grads_and_vars=zip(grads, [Wxh, b, Whh, w0 ,b0]))\n",
    "\n",
    "\t\tprint('cost = ', cost)"
   ]
  },
  {
   "cell_type": "code",
   "execution_count": null,
   "metadata": {},
   "outputs": [],
   "source": [
    "# 위의 for문과 차이점은 h0, h1, h2, h3의 값들을 온전히 one hot encoding으로 진행 결과는 같음\n",
    "# for i in range(1000) :\n",
    "# \tprint('=' * 100)\n",
    "# \tprint('i = ', i)\n",
    "\n",
    "# \twith tf.GradientTape() as tape :\n",
    "# \t\th0 = tf.matmul(X[0:1], Wxh_t) + b_t\n",
    "# \t\th0 = tf.tanh(h0)\n",
    "\n",
    "# \t\th1 = tf.matmul(X[1:2], Wxh_t) + b_t\n",
    "# \t\th1 = tf.tanh(h1 + tf.matmul(h0, Whh_t))\n",
    "\t\t\n",
    "# \t\th2 = tf.matmul(X[2:3], Wxh_t) + b_t\n",
    "# \t\th2 = tf.tanh(h2 + tf.matmul(h1, Whh_t))\n",
    "\t\t\n",
    "# \t\th3 = tf.matmul(X[3:4], Wxh_t) + b_t\n",
    "# \t\th3 = tf.tanh(h3 + tf.matmul(h2, Whh_t))\n",
    "\n",
    "# \t\thypothesis = tf.nn.softmax(tf.matmul(h3, w0_t) + b0_t)\n",
    "# \t\tcost = -tf.reduce_mean(y * tf.log(hypothesis)) / len(hypothesis)\n",
    "# \t\tgrads = tape.gradient(cost, [Wxh_t, b_t, Whh_t, w0_t, b0_t])\n",
    "\n",
    "# \t\toptimizer.apply_gradients(grads_and_vars=zip(grads, [Wxh_t, b_t, Whh_t, w0_t, b0_t]))\n",
    "\n",
    "# \t\tprint('cost = ', cost)"
   ]
  },
  {
   "cell_type": "code",
   "execution_count": null,
   "metadata": {},
   "outputs": [],
   "source": [
    "Wxh"
   ]
  },
  {
   "cell_type": "code",
   "execution_count": null,
   "metadata": {},
   "outputs": [],
   "source": [
    "b"
   ]
  },
  {
   "cell_type": "code",
   "execution_count": null,
   "metadata": {},
   "outputs": [],
   "source": [
    "Whh"
   ]
  },
  {
   "cell_type": "code",
   "execution_count": null,
   "metadata": {},
   "outputs": [],
   "source": [
    "w0"
   ]
  },
  {
   "cell_type": "code",
   "execution_count": null,
   "metadata": {},
   "outputs": [],
   "source": [
    "b0"
   ]
  },
  {
   "cell_type": "code",
   "execution_count": null,
   "metadata": {},
   "outputs": [],
   "source": [
    "h0 = tf.matmul(X[0:1], Wxh) + b\n",
    "h0 = tf.tanh(h0)\n",
    "\n",
    "h1 = tf.matmul(X[1:2], Wxh) + b\n",
    "h1 = tf.tanh(h1 + tf.matmul(h0, Whh))\n",
    "\n",
    "h2 = tf.matmul(X[2:3], Wxh) + b\n",
    "h2 = tf.tanh(h2 + tf.matmul(h1, Whh))\n",
    "\n",
    "h3 = tf.matmul(X[3:4], Wxh) + b\n",
    "h3 = tf.tanh(h3 + tf.matmul(h2, Whh))\n",
    "\n",
    "hypothesis = tf.nn.softmax(tf.matmul(h3, w0) + b0)\n",
    "hypothesis"
   ]
  }
 ],
 "metadata": {
  "kernelspec": {
   "display_name": "tensorflow1_env",
   "language": "python",
   "name": "python3"
  },
  "language_info": {
   "codemirror_mode": {
    "name": "ipython",
    "version": 3
   },
   "file_extension": ".py",
   "mimetype": "text/x-python",
   "name": "python",
   "nbconvert_exporter": "python",
   "pygments_lexer": "ipython3",
   "version": "3.7.15"
  },
  "orig_nbformat": 4,
  "vscode": {
   "interpreter": {
    "hash": "d3a336bbbac7a5316600585707c60468fe6500cf7c2d174bf746727352f6e866"
   }
  }
 },
 "nbformat": 4,
 "nbformat_minor": 2
}
