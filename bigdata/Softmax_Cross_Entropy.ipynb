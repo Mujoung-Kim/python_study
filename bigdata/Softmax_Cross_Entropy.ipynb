{
 "cells": [
  {
   "cell_type": "code",
   "execution_count": null,
   "metadata": {},
   "outputs": [],
   "source": [
    "from tensorflow.nn import relu\n",
    "import tensorflow as tf\n",
    "import numpy as np\n",
    "\n",
    "tf.enable_eager_execution()"
   ]
  },
  {
   "cell_type": "code",
   "execution_count": null,
   "metadata": {},
   "outputs": [],
   "source": [
    "X = np.array([\n",
    "\t\t\t\t[0, 0],\n",
    "\t\t\t\t[1, 0],\n",
    "\t\t\t\t[1, 1],\n",
    "\t\t\t\t[0, 0],\n",
    "\t\t\t\t[0, 1]\n",
    "\t\t\t], dtype='float32')\n",
    "y = np.array([\n",
    "\t\t\t\t[1, 0, 0],\n",
    "\t\t\t\t[0, 1, 0],\n",
    "\t\t\t\t[0, 0, 1],\n",
    "\t\t\t\t[1, 0, 0],\n",
    "\t\t\t\t[0, 0, 1]\n",
    "\t\t\t], dtype='float32')\n",
    "X, y"
   ]
  },
  {
   "cell_type": "code",
   "execution_count": null,
   "metadata": {},
   "outputs": [],
   "source": [
    "initializer = tf.contrib.layers.xavier_initializer()\n",
    "\n",
    "w0 = tf.Variable(initializer([2, 10]))\n",
    "w0"
   ]
  },
  {
   "cell_type": "code",
   "execution_count": null,
   "metadata": {},
   "outputs": [],
   "source": [
    "b0 = tf.Variable(initializer([10]))\n",
    "b0"
   ]
  },
  {
   "cell_type": "code",
   "execution_count": null,
   "metadata": {},
   "outputs": [],
   "source": [
    "w = np.array([\n",
    "\t\t\t[1, 3, 5],\n",
    "\t\t\t[2, 4, 6]\n",
    "\t\t], dtype='float32')\n",
    "w"
   ]
  },
  {
   "cell_type": "code",
   "execution_count": null,
   "metadata": {},
   "outputs": [],
   "source": [
    "tf.matmul(X, w)"
   ]
  },
  {
   "cell_type": "code",
   "execution_count": null,
   "metadata": {},
   "outputs": [],
   "source": [
    "b = np.array([100, 200, 300], dtype='float32')"
   ]
  },
  {
   "cell_type": "code",
   "execution_count": null,
   "metadata": {},
   "outputs": [],
   "source": [
    "tf.matmul(X, w) + b"
   ]
  },
  {
   "cell_type": "code",
   "execution_count": null,
   "metadata": {},
   "outputs": [],
   "source": [
    "w_0 = np.array([\n",
    "\t\t\t\t\t[1, 3, 5, 7, 9, 11, 13, 15, 17, 19],\n",
    "\t\t\t\t\t[2, 4, 6, 8, 10, 12, 14, 16, 18, 20]\n",
    "\t\t\t\t], dtype='float32')\n",
    "w_0"
   ]
  },
  {
   "cell_type": "code",
   "execution_count": null,
   "metadata": {},
   "outputs": [],
   "source": [
    "tf.matmul(X, w_0)"
   ]
  },
  {
   "cell_type": "code",
   "execution_count": null,
   "metadata": {},
   "outputs": [],
   "source": [
    "b_0 = np.array([100, 200, 300, 400, 500, 600, 700, 800, 900, 1000], dtype='float32')\n",
    "b_0"
   ]
  },
  {
   "cell_type": "code",
   "execution_count": null,
   "metadata": {},
   "outputs": [],
   "source": [
    "np.set_printoptions(linewidth=1000)"
   ]
  },
  {
   "cell_type": "code",
   "execution_count": null,
   "metadata": {},
   "outputs": [],
   "source": [
    "tf.matmul(X, w_0) + b_0"
   ]
  },
  {
   "cell_type": "code",
   "execution_count": null,
   "metadata": {},
   "outputs": [],
   "source": [
    "hypothesis0 = tf.sigmoid(tf.matmul(X, w_0) + b_0)\n",
    "hypothesis0"
   ]
  },
  {
   "cell_type": "code",
   "execution_count": null,
   "metadata": {},
   "outputs": [],
   "source": [
    "w_1 = np.array([\n",
    "\t\t\t\t[20, 30],\n",
    "\t\t\t\t[21, 31],\n",
    "\t\t\t\t[22, 32],\n",
    "\t\t\t\t[23, 33],\n",
    "\t\t\t\t[24, 34],\n",
    "\t\t\t\t[25, 35],\n",
    "\t\t\t\t[26, 36],\n",
    "\t\t\t\t[27, 37],\n",
    "\t\t\t\t[28, 38],\n",
    "\t\t\t\t[29, 39]\n",
    "\t\t\t], dtype='float32')"
   ]
  },
  {
   "cell_type": "code",
   "execution_count": null,
   "metadata": {},
   "outputs": [],
   "source": [
    "tf.matmul(hypothesis0, w_1)"
   ]
  },
  {
   "cell_type": "code",
   "execution_count": null,
   "metadata": {},
   "outputs": [],
   "source": [
    "w_2 = np.array([\n",
    "\t\t\t\t[20, 30, 40],\n",
    "\t\t\t\t[21, 31, 41],\n",
    "\t\t\t\t[22, 32, 42],\n",
    "\t\t\t\t[23, 33, 43],\n",
    "\t\t\t\t[24, 34, 44],\n",
    "\t\t\t\t[25, 35, 45],\n",
    "\t\t\t\t[26, 36, 46],\n",
    "\t\t\t\t[27, 37, 47],\n",
    "\t\t\t\t[28, 38, 48],\n",
    "\t\t\t\t[29, 39, 49]\n",
    "\t\t\t], dtype='float32')"
   ]
  },
  {
   "cell_type": "code",
   "execution_count": null,
   "metadata": {},
   "outputs": [],
   "source": [
    "tf.matmul(hypothesis0, w_2)"
   ]
  },
  {
   "cell_type": "code",
   "execution_count": null,
   "metadata": {},
   "outputs": [],
   "source": [
    "b_1 = np.array([0.1, 0.2, 0.3], dtype='float32')"
   ]
  },
  {
   "cell_type": "code",
   "execution_count": null,
   "metadata": {},
   "outputs": [],
   "source": [
    "tf.matmul(hypothesis0, w_2) + b_1"
   ]
  },
  {
   "cell_type": "code",
   "execution_count": null,
   "metadata": {},
   "outputs": [],
   "source": [
    "y"
   ]
  },
  {
   "cell_type": "code",
   "execution_count": null,
   "metadata": {},
   "outputs": [],
   "source": [
    "tf.nn.softmax(tf.matmul(hypothesis0, w_2) + b_1)"
   ]
  },
  {
   "cell_type": "code",
   "execution_count": null,
   "metadata": {},
   "outputs": [],
   "source": [
    "hypothesis1 = tf.nn.softmax(tf.matmul(hypothesis0, w_2) + b_1)"
   ]
  },
  {
   "cell_type": "code",
   "execution_count": null,
   "metadata": {},
   "outputs": [],
   "source": [
    "y * -tf.log(hypothesis1)"
   ]
  },
  {
   "cell_type": "code",
   "execution_count": null,
   "metadata": {},
   "outputs": [],
   "source": [
    "tf.reduce_sum(y * -tf.log(hypothesis1))"
   ]
  },
  {
   "cell_type": "code",
   "execution_count": null,
   "metadata": {},
   "outputs": [],
   "source": [
    "len(hypothesis1)"
   ]
  },
  {
   "cell_type": "code",
   "execution_count": null,
   "metadata": {},
   "outputs": [],
   "source": [
    "tf.reduce_sum(y * -tf.log(hypothesis1)) / len(hypothesis1)"
   ]
  }
 ],
 "metadata": {
  "kernelspec": {
   "display_name": "tensorflow1_env",
   "language": "python",
   "name": "python3"
  },
  "language_info": {
   "codemirror_mode": {
    "name": "ipython",
    "version": 3
   },
   "file_extension": ".py",
   "mimetype": "text/x-python",
   "name": "python",
   "nbconvert_exporter": "python",
   "pygments_lexer": "ipython3",
   "version": "3.7.15"
  },
  "orig_nbformat": 4,
  "vscode": {
   "interpreter": {
    "hash": "d3a336bbbac7a5316600585707c60468fe6500cf7c2d174bf746727352f6e866"
   }
  }
 },
 "nbformat": 4,
 "nbformat_minor": 2
}
