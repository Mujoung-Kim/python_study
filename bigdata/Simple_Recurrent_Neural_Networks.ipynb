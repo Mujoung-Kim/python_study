{
 "cells": [
  {
   "cell_type": "code",
   "execution_count": 1,
   "metadata": {},
   "outputs": [
    {
     "name": "stdout",
     "output_type": "stream",
     "text": [
      "WARNING:tensorflow:From C:\\Users\\user\\AppData\\Local\\Temp\\ipykernel_10748\\1833424881.py:4: The name tf.enable_eager_execution is deprecated. Please use tf.compat.v1.enable_eager_execution instead.\n",
      "\n"
     ]
    }
   ],
   "source": [
    "import tensorflow as tf\n",
    "import numpy as np\n",
    "\n",
    "tf.enable_eager_execution()"
   ]
  },
  {
   "cell_type": "code",
   "execution_count": 2,
   "metadata": {},
   "outputs": [],
   "source": [
    "h = [1, 0, 0, 0]\n",
    "e = [0, 1, 0, 0]\n",
    "l = [0, 0, 1, 0]\n",
    "o = [0, 0, 0, 1]"
   ]
  },
  {
   "cell_type": "code",
   "execution_count": 3,
   "metadata": {},
   "outputs": [
    {
     "data": {
      "text/plain": [
       "array([[1., 0., 0., 0.],\n",
       "       [0., 1., 0., 0.],\n",
       "       [0., 0., 1., 0.],\n",
       "       [0., 0., 1., 0.]], dtype=float32)"
      ]
     },
     "execution_count": 3,
     "metadata": {},
     "output_type": "execute_result"
    }
   ],
   "source": [
    "X = np.array([h, e, l, l], dtype=np.float32)\n",
    "X"
   ]
  },
  {
   "cell_type": "code",
   "execution_count": 4,
   "metadata": {},
   "outputs": [
    {
     "data": {
      "text/plain": [
       "<tf.Variable 'Variable:0' shape=(4, 4) dtype=float32, numpy=\n",
       "array([[0.1, 0.5, 0.9, 1.3],\n",
       "       [0.2, 0.6, 1. , 1.4],\n",
       "       [0.3, 0.7, 1.1, 1.5],\n",
       "       [0.4, 0.8, 1.2, 1.6]], dtype=float32)>"
      ]
     },
     "execution_count": 4,
     "metadata": {},
     "output_type": "execute_result"
    }
   ],
   "source": [
    "Wxh = tf.Variable([\n",
    "\t\t\t\t\t[0.1, 0.5, 0.9, 1.3],\n",
    "\t\t\t\t\t[0.2, 0.6, 1.0, 1.4],\n",
    "\t\t\t\t\t[0.3, 0.7, 1.1, 1.5],\n",
    "\t\t\t\t\t[0.4, 0.8, 1.2, 1.6]\n",
    "\t\t\t\t], dtype='float32')\n",
    "Wxh"
   ]
  },
  {
   "cell_type": "code",
   "execution_count": 5,
   "metadata": {},
   "outputs": [
    {
     "data": {
      "text/plain": [
       "<tf.Variable 'Variable:0' shape=(4,) dtype=float32, numpy=array([0.01, 0.02, 0.03, 0.04], dtype=float32)>"
      ]
     },
     "execution_count": 5,
     "metadata": {},
     "output_type": "execute_result"
    }
   ],
   "source": [
    "b = tf.Variable([0.01, 0.02, 0.03, 0.04], dtype='float32')\n",
    "b"
   ]
  },
  {
   "cell_type": "code",
   "execution_count": 6,
   "metadata": {},
   "outputs": [
    {
     "data": {
      "text/plain": [
       "<tf.Variable 'Variable:0' shape=(4, 1) dtype=float32, numpy=\n",
       "array([[0.1],\n",
       "       [0.1],\n",
       "       [0.1],\n",
       "       [0.1]], dtype=float32)>"
      ]
     },
     "execution_count": 6,
     "metadata": {},
     "output_type": "execute_result"
    }
   ],
   "source": [
    "Whh = tf.Variable([\n",
    "\t\t\t\t\t[0.1],\n",
    "\t\t\t\t\t[0.1],\n",
    "\t\t\t\t\t[0.1],\n",
    "\t\t\t\t\t[0.1]\n",
    "\t\t\t\t], dtype='float32')\n",
    "Whh"
   ]
  },
  {
   "cell_type": "code",
   "execution_count": 7,
   "metadata": {},
   "outputs": [
    {
     "data": {
      "text/plain": [
       "array([[1., 0., 0., 0.]], dtype=float32)"
      ]
     },
     "execution_count": 7,
     "metadata": {},
     "output_type": "execute_result"
    }
   ],
   "source": [
    "X[0:1]"
   ]
  },
  {
   "cell_type": "code",
   "execution_count": 8,
   "metadata": {},
   "outputs": [
    {
     "data": {
      "text/plain": [
       "<tf.Tensor: id=32, shape=(1, 4), dtype=float32, numpy=array([[0.11      , 0.52      , 0.92999995, 1.3399999 ]], dtype=float32)>"
      ]
     },
     "execution_count": 8,
     "metadata": {},
     "output_type": "execute_result"
    }
   ],
   "source": [
    "h0 = tf.matmul(X[0:1], Wxh) + b\n",
    "h0"
   ]
  },
  {
   "cell_type": "code",
   "execution_count": 9,
   "metadata": {},
   "outputs": [
    {
     "data": {
      "text/plain": [
       "<tf.Tensor: id=33, shape=(1, 4), dtype=float32, numpy=array([[0.10955846, 0.4777    , 0.7305939 , 0.8716722 ]], dtype=float32)>"
      ]
     },
     "execution_count": 9,
     "metadata": {},
     "output_type": "execute_result"
    }
   ],
   "source": [
    "h0 = tf.tanh(h0)\n",
    "h0"
   ]
  },
  {
   "cell_type": "code",
   "execution_count": 10,
   "metadata": {},
   "outputs": [
    {
     "data": {
      "text/plain": [
       "array([[0., 1., 0., 0.]], dtype=float32)"
      ]
     },
     "execution_count": 10,
     "metadata": {},
     "output_type": "execute_result"
    }
   ],
   "source": [
    "X[1:2]"
   ]
  },
  {
   "cell_type": "code",
   "execution_count": 11,
   "metadata": {},
   "outputs": [
    {
     "data": {
      "text/plain": [
       "<tf.Tensor: id=38, shape=(1, 4), dtype=float32, numpy=array([[0.21000001, 0.62      , 1.03      , 1.4399999 ]], dtype=float32)>"
      ]
     },
     "execution_count": 11,
     "metadata": {},
     "output_type": "execute_result"
    }
   ],
   "source": [
    "h1 = tf.matmul(X[1:2], Wxh) + b\n",
    "h1"
   ]
  },
  {
   "cell_type": "code",
   "execution_count": 15,
   "metadata": {},
   "outputs": [
    {
     "data": {
      "text/plain": [
       "<tf.Tensor: id=44, shape=(1, 1), dtype=float32, numpy=array([[0.21895248]], dtype=float32)>"
      ]
     },
     "execution_count": 15,
     "metadata": {},
     "output_type": "execute_result"
    }
   ],
   "source": [
    "# 원래는 Whh를 4줄 4칸의 1미만 랜덤함 값으로 선언해서\n",
    "# 결과가 4칸으로 출력되어야 한다.\n",
    "tf.matmul(h0, Whh)"
   ]
  },
  {
   "cell_type": "code",
   "execution_count": 12,
   "metadata": {},
   "outputs": [
    {
     "data": {
      "text/plain": [
       "<tf.Tensor: id=41, shape=(1, 4), dtype=float32, numpy=array([[0.4289525, 0.8389525, 1.2489524, 1.6589525]], dtype=float32)>"
      ]
     },
     "execution_count": 12,
     "metadata": {},
     "output_type": "execute_result"
    }
   ],
   "source": [
    "h1 = h1 + tf.matmul(h0, Whh)\n",
    "h1"
   ]
  },
  {
   "cell_type": "code",
   "execution_count": 13,
   "metadata": {},
   "outputs": [
    {
     "data": {
      "text/plain": [
       "<tf.Tensor: id=42, shape=(1, 4), dtype=float32, numpy=array([[0.4044455, 0.6852539, 0.8479896, 0.9300759]], dtype=float32)>"
      ]
     },
     "execution_count": 13,
     "metadata": {},
     "output_type": "execute_result"
    }
   ],
   "source": [
    "h1 = tf.tanh(h1)\n",
    "h1"
   ]
  }
 ],
 "metadata": {
  "kernelspec": {
   "display_name": "tensorflow1_env",
   "language": "python",
   "name": "python3"
  },
  "language_info": {
   "codemirror_mode": {
    "name": "ipython",
    "version": 3
   },
   "file_extension": ".py",
   "mimetype": "text/x-python",
   "name": "python",
   "nbconvert_exporter": "python",
   "pygments_lexer": "ipython3",
   "version": "3.7.15"
  },
  "orig_nbformat": 4,
  "vscode": {
   "interpreter": {
    "hash": "d3a336bbbac7a5316600585707c60468fe6500cf7c2d174bf746727352f6e866"
   }
  }
 },
 "nbformat": 4,
 "nbformat_minor": 2
}
