{
 "cells": [
  {
   "cell_type": "code",
   "execution_count": null,
   "metadata": {},
   "outputs": [],
   "source": [
    "from sklearn import datasets\n",
    "from sklearn.model_selection import train_test_split\n",
    "from sklearn.preprocessing import StandardScaler\n",
    "from tensorflow.nn import relu\n",
    "import tensorflow as tf\n",
    "import numpy as np\n",
    "import matplotlib.pyplot as plt\n",
    "\n",
    "tf.enable_eager_execution()"
   ]
  },
  {
   "cell_type": "code",
   "execution_count": null,
   "metadata": {},
   "outputs": [],
   "source": [
    "data = datasets.load_breast_cancer()\n",
    "X = data.data\n",
    "y = data.target\n",
    "scaler = StandardScaler()"
   ]
  },
  {
   "cell_type": "code",
   "execution_count": null,
   "metadata": {},
   "outputs": [],
   "source": [
    "X = np.array(X, dtype='float32')\n",
    "y = np.array(y, dtype='float32')"
   ]
  },
  {
   "cell_type": "code",
   "execution_count": null,
   "metadata": {},
   "outputs": [],
   "source": [
    "y = y.reshape(-1, 1)"
   ]
  },
  {
   "cell_type": "code",
   "execution_count": null,
   "metadata": {},
   "outputs": [],
   "source": [
    "X_train, X_test, y_train, y_test = train_test_split(X, y, test_size=0.2)"
   ]
  },
  {
   "cell_type": "code",
   "execution_count": null,
   "metadata": {},
   "outputs": [],
   "source": [
    "scaler.fit(X_train)"
   ]
  },
  {
   "cell_type": "code",
   "execution_count": null,
   "metadata": {},
   "outputs": [],
   "source": [
    "X_train = scaler.transform(X_train)\n",
    "X_train"
   ]
  },
  {
   "cell_type": "code",
   "execution_count": null,
   "metadata": {},
   "outputs": [],
   "source": [
    "initializer = tf.contrib.layers.xavier_initializer()\n",
    "\n",
    "# tf.Variable(initializer([idx, col])) : idx줄, col칸의 variable를 생성해서 반환\n",
    "w = tf.Variable(initializer([30, 30]))\n",
    "w"
   ]
  },
  {
   "cell_type": "code",
   "execution_count": null,
   "metadata": {},
   "outputs": [],
   "source": [
    "b = tf.Variable(initializer([30]))\n",
    "b"
   ]
  },
  {
   "cell_type": "code",
   "execution_count": null,
   "metadata": {},
   "outputs": [],
   "source": [
    "# hidden_layer의 w, b 값\n",
    "w1 = tf.Variable(initializer([30, 10]))\n",
    "b1 = tf.Variable(initializer([10]))\n",
    "\n",
    "# output_layer의 w, b 값\n",
    "w2 = tf.Variable(initializer([10, 1]))\n",
    "b2 = tf.Variable(initializer([1]))"
   ]
  },
  {
   "cell_type": "code",
   "execution_count": null,
   "metadata": {},
   "outputs": [],
   "source": [
    "tf.matmul(X_train, w) + b"
   ]
  },
  {
   "cell_type": "code",
   "execution_count": null,
   "metadata": {},
   "outputs": [],
   "source": [
    "hypothesis = tf.sigmoid(tf.matmul(X_train, w) + b)"
   ]
  },
  {
   "cell_type": "code",
   "execution_count": null,
   "metadata": {},
   "outputs": [],
   "source": [
    "hypothesis"
   ]
  },
  {
   "cell_type": "code",
   "execution_count": null,
   "metadata": {},
   "outputs": [],
   "source": [
    "# hidden_layer\n",
    "hypothesis1 = tf.sigmoid(tf.matmul(hypothesis, w1) + b1)\n",
    "# output_layer\n",
    "hypothesis2 = tf.sigmoid(tf.matmul(hypothesis1, w2) + b2)\n",
    "hypothesis1, hypothesis2"
   ]
  },
  {
   "cell_type": "code",
   "execution_count": null,
   "metadata": {},
   "outputs": [],
   "source": [
    "optimizer = tf.train.AdamOptimizer(0.01)"
   ]
  },
  {
   "cell_type": "code",
   "execution_count": null,
   "metadata": {},
   "outputs": [],
   "source": [
    "for step in range(1001) :\n",
    "\twith tf.GradientTape() as tape :\n",
    "\t\t# input_layer\n",
    "\t\thypothesis = tf.sigmoid(tf.matmul(X_train, w) + b)\n",
    "\t\t# hidden_layer\n",
    "\t\thypothesis1 = tf.sigmoid(tf.matmul(hypothesis, w1) + b1)\n",
    "\t\t# output_layer\n",
    "\t\thypothesis2 = tf.sigmoid(tf.matmul(hypothesis1, w2) + b2)\n",
    "\n",
    "\t\t# 선형회귀식의 오차를 계산하는 식\n",
    "\t\tcost = -tf.reduce_mean(y_train * tf.log(hypothesis2) + (1 - y_train) * tf.log(1 - hypothesis2))\n",
    "\n",
    "\t\t# 기울기 계산식\n",
    "\t\tgrads = tape.gradient(cost, [w, w1, w2, b, b1, b2])\n",
    "\n",
    "\t# 갱신된 기울기 값을 각각 w, w1, w2, b, b1, b2에 대입\n",
    "\toptimizer.apply_gradients(grads_and_vars=zip(grads, [w, w1, w2, b, b1, b2]))\n",
    "\n",
    "\tif step % 100 == 0 :\n",
    "\t\tprint('=' * 100)\n",
    "\t\tprint(f'step = {step}, cost = {cost.numpy()}')\n",
    "\t\tprint('=' * 100)"
   ]
  },
  {
   "cell_type": "code",
   "execution_count": null,
   "metadata": {},
   "outputs": [],
   "source": [
    "w, b"
   ]
  },
  {
   "cell_type": "code",
   "execution_count": null,
   "metadata": {},
   "outputs": [],
   "source": [
    "w1, b1"
   ]
  },
  {
   "cell_type": "code",
   "execution_count": null,
   "metadata": {},
   "outputs": [],
   "source": [
    "w2, b2"
   ]
  },
  {
   "cell_type": "code",
   "execution_count": null,
   "metadata": {},
   "outputs": [],
   "source": [
    "# 검증\n",
    "X_test = scaler.transform(X_test)"
   ]
  },
  {
   "cell_type": "code",
   "execution_count": null,
   "metadata": {},
   "outputs": [],
   "source": [
    "hypothesis = tf.sigmoid(tf.matmul(X_test, w) + b)\n",
    "hypothesis1 = tf.sigmoid(tf.matmul(hypothesis, w1) + b1)\n",
    "predict = tf.sigmoid(tf.matmul(hypothesis1, w2) + b2)\n",
    "predict"
   ]
  },
  {
   "cell_type": "code",
   "execution_count": null,
   "metadata": {},
   "outputs": [],
   "source": [
    "predict01 = tf.cast(predict > 0.5, 1, 0)\n",
    "print('=' * 100)\n",
    "print('predict01')\n",
    "print(predict01)"
   ]
  },
  {
   "cell_type": "code",
   "execution_count": null,
   "metadata": {},
   "outputs": [],
   "source": [
    "ac01 = tf.equal(predict01, y_test)\n",
    "ac01"
   ]
  },
  {
   "cell_type": "code",
   "execution_count": null,
   "metadata": {},
   "outputs": [],
   "source": [
    "ac02 = tf.cast(ac01, dtype='float32')\n",
    "ac02"
   ]
  },
  {
   "cell_type": "code",
   "execution_count": null,
   "metadata": {},
   "outputs": [],
   "source": [
    "ac03 = tf.reduce_mean(ac02)\n",
    "ac03"
   ]
  },
  {
   "cell_type": "code",
   "execution_count": null,
   "metadata": {},
   "outputs": [],
   "source": [
    "# 위의 ac01 ~ ac03까지의 과정을 one_line으로 표현\n",
    "accuracy = tf.reduce_mean(tf.cast(tf.equal(predict01, y_test), dtype='float32'))\n",
    "print('=' * 40)\n",
    "print('accuracy')\n",
    "print(accuracy.numpy())"
   ]
  }
 ],
 "metadata": {
  "kernelspec": {
   "display_name": "tensorflow1_env",
   "language": "python",
   "name": "python3"
  },
  "language_info": {
   "codemirror_mode": {
    "name": "ipython",
    "version": 3
   },
   "file_extension": ".py",
   "mimetype": "text/x-python",
   "name": "python",
   "nbconvert_exporter": "python",
   "pygments_lexer": "ipython3",
   "version": "3.7.15"
  },
  "orig_nbformat": 4,
  "vscode": {
   "interpreter": {
    "hash": "d3a336bbbac7a5316600585707c60468fe6500cf7c2d174bf746727352f6e866"
   }
  }
 },
 "nbformat": 4,
 "nbformat_minor": 2
}
