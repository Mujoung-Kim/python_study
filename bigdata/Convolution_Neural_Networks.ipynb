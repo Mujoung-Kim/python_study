{
 "cells": [
  {
   "cell_type": "code",
   "execution_count": null,
   "metadata": {},
   "outputs": [],
   "source": [
    "import tensorflow as tf\n",
    "import numpy as np\n",
    "import matplotlib.pyplot as plt\n",
    "from scipy.signal import correlate2d\n",
    "\n",
    "tf.enable_eager_execution()\n",
    "np.set_printoptions(linewidth=1000)"
   ]
  },
  {
   "cell_type": "code",
   "execution_count": null,
   "metadata": {},
   "outputs": [],
   "source": [
    "image1 = np.array([\n",
    "\t\t\t\t\t[0, 0, 1, 0, 0],\n",
    "\t\t\t\t\t[0, 0, 0.7, 0, 0],\n",
    "\t\t\t\t\t[0, 0, 0.8, 0, 0],\n",
    "\t\t\t\t\t[0.1, 1, 0.9, 0.5, 0.4],\n",
    "\t\t\t\t\t[0, 0.6, 0.5, 1, 0]\n",
    "\t\t\t\t], dtype='float32')"
   ]
  },
  {
   "cell_type": "code",
   "execution_count": null,
   "metadata": {},
   "outputs": [],
   "source": [
    "plt.imshow(image1)"
   ]
  },
  {
   "cell_type": "code",
   "execution_count": null,
   "metadata": {},
   "outputs": [],
   "source": [
    "# 흑백 image\n",
    "plt.imshow(image1, cmap='Greys')"
   ]
  },
  {
   "cell_type": "code",
   "execution_count": null,
   "metadata": {},
   "outputs": [],
   "source": [
    "# image의 경우 reshape(img_cnt, img_idx, img_col, col_type) -> col_type : 1(흑백), 3(색상)\n",
    "image1 = image1.reshape(1, 5, 5, 1)\n",
    "image1"
   ]
  },
  {
   "cell_type": "code",
   "execution_count": null,
   "metadata": {},
   "outputs": [],
   "source": [
    "image1.shape"
   ]
  },
  {
   "cell_type": "code",
   "execution_count": null,
   "metadata": {},
   "outputs": [],
   "source": [
    "w1 = np.array([\n",
    "\t\t\t\t[1, 2, 1],\n",
    "\t\t\t\t[0, 0, 0],\n",
    "\t\t\t\t[-1, -2, -1]\n",
    "\t\t\t], dtype='float32')\n",
    "w1"
   ]
  },
  {
   "cell_type": "code",
   "execution_count": null,
   "metadata": {},
   "outputs": [],
   "source": [
    "# image의 가중치일 때 reshape(wei_col, wei_idx, rgb_cnt, fil_cnt) -> rgb_cnt : 1(흑백), 3(색상)\n",
    "w1 = w1.reshape(3, 3, 1, 1)\n",
    "w1"
   ]
  },
  {
   "cell_type": "code",
   "execution_count": null,
   "metadata": {},
   "outputs": [],
   "source": [
    "# tf.nn.conv2d(img_val, fil_val)\n",
    "conv1 = tf.nn.conv2d(image1, w1, strides=1, padding='SAME')"
   ]
  },
  {
   "cell_type": "code",
   "execution_count": null,
   "metadata": {},
   "outputs": [],
   "source": [
    "# tf.reshape(변경할대상, 변경할조건)\n",
    "tf.reshape(conv1, (5, 5))"
   ]
  },
  {
   "cell_type": "code",
   "execution_count": null,
   "metadata": {},
   "outputs": [],
   "source": [
    "# 0\t\t-0.7\t-1.4\t-0.7\t0\n",
    "# 0\t\t0.2\t\t0.4\t\t0.2\t\t0\n",
    "# -1.2\t-2.3\t-1.9\t-1.6\t-1.3\n",
    "# -0.6\t-0.9\t-1\t\t-1.7\t-1\n",
    "# 1.2\t3\t\t3.3\t\t2.3\t\t1.3\n",
    "#  >"
   ]
  },
  {
   "cell_type": "code",
   "execution_count": null,
   "metadata": {},
   "outputs": [],
   "source": [
    "# relu function 음수제거 -> image의 경우 음수는 표현할 수 없다.\n",
    "conv1 = tf.nn.relu(conv1)"
   ]
  },
  {
   "cell_type": "code",
   "execution_count": null,
   "metadata": {},
   "outputs": [],
   "source": [
    "tf.reshape(conv1, (5, 5))"
   ]
  },
  {
   "cell_type": "code",
   "execution_count": null,
   "metadata": {},
   "outputs": [],
   "source": [
    "plt.imshow(tf.reshape(conv1, (5, 5)), cmap='Greys')\n",
    "plt.show()"
   ]
  },
  {
   "cell_type": "code",
   "execution_count": null,
   "metadata": {},
   "outputs": [],
   "source": [
    "tf.nn.max_pool(conv1, ksize=2, strides=1, padding='SAME')"
   ]
  },
  {
   "cell_type": "code",
   "execution_count": null,
   "metadata": {},
   "outputs": [],
   "source": [
    "conv1_maxpool = tf.nn.max_pool(conv1, ksize=2, strides=1, padding='SAME')"
   ]
  },
  {
   "cell_type": "code",
   "execution_count": null,
   "metadata": {},
   "outputs": [],
   "source": [
    "tf.reshape(conv1_maxpool, (5, 5))"
   ]
  },
  {
   "cell_type": "code",
   "execution_count": null,
   "metadata": {},
   "outputs": [],
   "source": [
    "plt.imshow(tf.reshape(conv1_maxpool, (5, 5)), cmap='Greys')\n",
    "plt.show()"
   ]
  }
 ],
 "metadata": {
  "kernelspec": {
   "display_name": "tensorflow1_env",
   "language": "python",
   "name": "python3"
  },
  "language_info": {
   "codemirror_mode": {
    "name": "ipython",
    "version": 3
   },
   "file_extension": ".py",
   "mimetype": "text/x-python",
   "name": "python",
   "nbconvert_exporter": "python",
   "pygments_lexer": "ipython3",
   "version": "3.7.15"
  },
  "orig_nbformat": 4,
  "vscode": {
   "interpreter": {
    "hash": "d3a336bbbac7a5316600585707c60468fe6500cf7c2d174bf746727352f6e866"
   }
  }
 },
 "nbformat": 4,
 "nbformat_minor": 2
}
