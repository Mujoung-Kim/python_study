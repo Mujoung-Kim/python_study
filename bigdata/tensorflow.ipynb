{
 "cells": [
  {
   "cell_type": "code",
   "execution_count": null,
   "metadata": {},
   "outputs": [],
   "source": [
    "import tensorflow as tf\n",
    "import numpy as np\n",
    "import matplotlib.pyplot as plt"
   ]
  },
  {
   "cell_type": "code",
   "execution_count": null,
   "metadata": {},
   "outputs": [],
   "source": [
    "tf.enable_eager_execution()\t\t# 1.15버전에서는 해당함수를 실행해야 값이 출력이 된다.\n",
    "tf.__version__"
   ]
  },
  {
   "cell_type": "code",
   "execution_count": null,
   "metadata": {},
   "outputs": [],
   "source": [
    "X = np.array([1, 2, 3], dtype='float32')\n",
    "y = np.array([2, 2.5, 3.5], dtype='float32')"
   ]
  },
  {
   "cell_type": "code",
   "execution_count": null,
   "metadata": {},
   "outputs": [],
   "source": [
    "# tensorflow가 미분하고 값을 수정하는 함수\n",
    "# Variable(w_value, w_type)\n",
    "W = tf.Variable([2], dtype='float32')\n",
    "b = tf.Variable([1], dtype='float32')"
   ]
  },
  {
   "cell_type": "code",
   "execution_count": null,
   "metadata": {},
   "outputs": [],
   "source": [
    "W, b"
   ]
  },
  {
   "cell_type": "code",
   "execution_count": null,
   "metadata": {},
   "outputs": [],
   "source": [
    "learning_rate = 0.1"
   ]
  },
  {
   "cell_type": "code",
   "execution_count": null,
   "metadata": {},
   "outputs": [],
   "source": [
    "hypothesis = W * X + b"
   ]
  },
  {
   "cell_type": "code",
   "execution_count": null,
   "metadata": {},
   "outputs": [],
   "source": [
    "cost = tf.reduce_mean( tf.square( hypothesis - y ) )\n",
    "cost"
   ]
  },
  {
   "cell_type": "code",
   "execution_count": null,
   "metadata": {},
   "outputs": [],
   "source": [
    "# 예측 -> 예측방법(분류, CNN, RNN)에 따라서 미분 공식이 다름\n",
    "# cost계산 -> cost 계산법에 따라서 미분 공식이 다름\n",
    "with tf.GradientTape() as tape:\n",
    "\thypothesis = W * X + b\n",
    "\tcost = tf.reduce_mean(tf.square(hypothesis - y))\n",
    "\t# tape() -> 어떤 예측, 어떤 cost 사용했나 저장\n",
    "W_gred, b_gred = tape.gradient(cost, [W, b])\n",
    "# tape.gradient(cost, 미분할 데이터) -> 미분해서 기울기를 리턴\n",
    "W.assign_sub(W_gred * learning_rate)\n",
    "b.assign_sub(b_gred * learning_rate)\n",
    "print('hypothesis : ', hypothesis)\n",
    "print('cost : ', cost)\n",
    "print('W_gred : ', W_gred)\n",
    "print('b_gred : ', b_gred)\n",
    "print('modify W : ', W)\n",
    "print('modify b', b)\n",
    "print('=' * 100)"
   ]
  },
  {
   "cell_type": "code",
   "execution_count": null,
   "metadata": {},
   "outputs": [],
   "source": [
    "for i in range(100) :\n",
    "\tprint('i : ', i)\n",
    "\twith tf.GradientTape() as tape :\n",
    "\t\thypothesis = W * X + b\n",
    "\t\tprint('hypothesis : ', hypothesis)\n",
    "\t\tcost = tf.reduce_mean(tf.square(hypothesis - y))\n",
    "\t\tprint('cost : ', cost)\n",
    "\tW_gred, b_gred = tape.gradient(cost, [W, b])\n",
    "\tprint('W_gred : ', W_gred)\n",
    "\tprint('b_gred : ', b_gred)\n",
    "\tW.assign_sub(W_gred + learning_rate)\n",
    "\tprint('modify W : ', W)\n",
    "\tb.assign_sub(b_gred + learning_rate)\n",
    "\tprint('modify b', b)\n",
    "\tprint('=' * 100)"
   ]
  },
  {
   "cell_type": "code",
   "execution_count": null,
   "metadata": {},
   "outputs": [],
   "source": [
    "W"
   ]
  },
  {
   "cell_type": "code",
   "execution_count": null,
   "metadata": {},
   "outputs": [],
   "source": [
    "b"
   ]
  },
  {
   "cell_type": "code",
   "execution_count": null,
   "metadata": {},
   "outputs": [],
   "source": [
    "W.numpy(), b.numpy()"
   ]
  }
 ],
 "metadata": {
  "kernelspec": {
   "display_name": "tensorflow1_env",
   "language": "python",
   "name": "python3"
  },
  "language_info": {
   "codemirror_mode": {
    "name": "ipython",
    "version": 3
   },
   "file_extension": ".py",
   "mimetype": "text/x-python",
   "name": "python",
   "nbconvert_exporter": "python",
   "pygments_lexer": "ipython3",
   "version": "3.7.15"
  },
  "orig_nbformat": 4,
  "vscode": {
   "interpreter": {
    "hash": "d3a336bbbac7a5316600585707c60468fe6500cf7c2d174bf746727352f6e866"
   }
  }
 },
 "nbformat": 4,
 "nbformat_minor": 2
}
