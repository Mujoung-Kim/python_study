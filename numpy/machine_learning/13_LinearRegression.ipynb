{
 "cells": [
  {
   "attachments": {},
   "cell_type": "markdown",
   "metadata": {
    "slideshow": {
     "slide_type": "slide"
    }
   },
   "source": [
    "# 선형회귀 개요\n",
    "\n",
    "선형 회귀(線型回歸, Linear regression)는 종속 변수 y와 한 개 이상의 독립 변수X와의 선형 상관 관계를 모델링하는 회귀분석 기법. [위키백과](https://ko.wikipedia.org/wiki/%EC%84%A0%ED%98%95_%ED%9A%8C%EA%B7%80)\n",
    "\n",
    " - 선형 회귀의 hyper_parameter를 가지고 있는 object\n",
    "   - Ridge\n",
    "   - Lasso\n",
    "   - Elasticnet"
   ]
  },
  {
   "cell_type": "markdown",
   "metadata": {
    "slideshow": {
     "slide_type": "fragment"
    }
   },
   "source": [
    "## 선형회귀 모델\n",
    "- 입력 Feature에 가중치(Weight)를 곱하고 편향(bias)를 더해 예측 결과를 출력한다.\n",
    "- Weight와 bias가 학습대상 Parameter가 된다.\n",
    "\n",
    "$$\n",
    "\\hat{y_i} = w_1 x_{i1} + w_2 x_{i2}... + w_{p} x_{ip} + b\n",
    "\\\\\n",
    "\\hat{y_i} = \\mathbf{w}^{T} \\cdot \\mathbf{X} \n",
    "$$\n",
    "\n",
    "- $\\hat{y_i}$: 예측값\n",
    "- $x$: 특성(feature-컬럼)\n",
    "- $w$: 가중치(weight), 회귀계수(regression coefficient). 특성이 $\\hat{y_i}$ 에 얼마나 영향을 주는지 정도\n",
    "- $b$: 절편\n",
    "- $p$: p 번째 특성(feature)/p번째 가중치\n",
    "- $i$: i번째 관측치(sample)"
   ]
  },
  {
   "cell_type": "markdown",
   "metadata": {
    "slideshow": {
     "slide_type": "slide"
    }
   },
   "source": [
    "### Boston DataSet\n",
    "보스톤의 지역별 집값 데이터셋\n",
    "\n",
    " - CRIM\t: 지역별 범죄 발생률\n",
    " - ZN\t: 25,000 평방피트를 초과하는 거주지역의 비율\n",
    " - INDUS: 비상업지역 토지의 비율\n",
    " - CHAS\t: 찰스강에 대한 더미변수(강의 경계에 위치한 경우는 1, 아니면 0)\n",
    " - NOX\t: 일산화질소 농도\n",
    " - RM\t: 주택 1가구당 평균 방의 개수\n",
    " - AGE\t: 1940년 이전에 건축된 소유주택의 비율\n",
    " - DIS\t: 5개의 보스턴 고용센터까지의 접근성 지수\n",
    " - RAD\t: 고속도로까지의 접근성 지수\n",
    " - TAX\t: 10,000 달러 당 재산세율\n",
    " - PTRATIO : 지역별 교사 한명당 학생 비율\n",
    " - B\t: 지역의 흑인 거주 비율\n",
    " - LSTAT: 하위계층의 비율(%)\n",
    " \n",
    " - MEDV\t: Target.  지역의 주택가격 중앙값 (단위: $1,000)\n"
   ]
  },
  {
   "cell_type": "code",
   "execution_count": null,
   "metadata": {
    "ExecuteTime": {
     "end_time": "2022-12-14T07:52:59.965004Z",
     "start_time": "2022-12-14T07:52:57.939088Z"
    },
    "execution": {
     "iopub.execute_input": "2022-12-13T00:05:41.572738Z",
     "iopub.status.busy": "2022-12-13T00:05:41.572738Z",
     "iopub.status.idle": "2022-12-13T00:05:43.394138Z",
     "shell.execute_reply": "2022-12-13T00:05:43.393840Z",
     "shell.execute_reply.started": "2022-12-13T00:05:41.572738Z"
    },
    "tags": []
   },
   "outputs": [],
   "source": [
    "import pandas as pd\n",
    "import numpy as np\n",
    "\n",
    "data_url = \"http://lib.stat.cmu.edu/datasets/boston\"\n",
    "raw_df = pd.read_csv(data_url, sep=\"\\s+\", skiprows=22, header=None)\n",
    "X = np.hstack([raw_df.values[::2, :], raw_df.values[1::2, :2]])\n",
    "y = raw_df.values[1::2, 2]"
   ]
  },
  {
   "cell_type": "code",
   "execution_count": null,
   "metadata": {
    "ExecuteTime": {
     "end_time": "2022-12-14T07:53:00.011355Z",
     "start_time": "2022-12-14T07:52:59.971064Z"
    },
    "execution": {
     "iopub.execute_input": "2022-12-13T00:05:44.210091Z",
     "iopub.status.busy": "2022-12-13T00:05:44.209008Z",
     "iopub.status.idle": "2022-12-13T00:05:44.261007Z",
     "shell.execute_reply": "2022-12-13T00:05:44.260075Z",
     "shell.execute_reply.started": "2022-12-13T00:05:44.210091Z"
    },
    "tags": []
   },
   "outputs": [],
   "source": [
    "# dataframe으로 만들기\n",
    "cols = [\"CRIM\",\"ZN\",\"INDUS\",\"CHAS\",\"NOX\",\"RM\",\"AGE\",\"DIS\",\"RAD\",\"TAX\",\"PTRATIO\",\"B\",\"LSTAT\"]\n",
    "df = pd.DataFrame(X, columns=cols)\n",
    "df['MEDV'] = y\n",
    "df.head()"
   ]
  },
  {
   "cell_type": "code",
   "execution_count": null,
   "metadata": {
    "ExecuteTime": {
     "end_time": "2022-12-14T07:53:00.042829Z",
     "start_time": "2022-12-14T07:53:00.014669Z"
    },
    "execution": {
     "iopub.execute_input": "2022-12-13T00:05:45.295916Z",
     "iopub.status.busy": "2022-12-13T00:05:45.295916Z",
     "iopub.status.idle": "2022-12-13T00:05:45.322420Z",
     "shell.execute_reply": "2022-12-13T00:05:45.321421Z",
     "shell.execute_reply.started": "2022-12-13T00:05:45.295916Z"
    },
    "tags": []
   },
   "outputs": [],
   "source": [
    "df.info()"
   ]
  },
  {
   "cell_type": "markdown",
   "metadata": {
    "slideshow": {
     "slide_type": "slide"
    }
   },
   "source": [
    "## LinearRegression\n",
    "- 가장 기본적인 선형 회귀 모델\n",
    "- 각 Feauture에 가중합으로 Y값을 추론한다.\n",
    "### 데이터 전처리\n",
    "\n",
    "- **선형회귀 모델사용시 전처리**\n",
    "    - **범주형 Feature**\n",
    "        - : 원핫 인코딩\n",
    "    - **연속형 Feature**\n",
    "        - Feature Scaling을 통해서 각 컬럼들의 값의 단위를 맞춰준다.\n",
    "        - StandardScaler를 사용할 때 성능이 더 잘나오는 경향이 있다."
   ]
  },
  {
   "cell_type": "markdown",
   "metadata": {
    "slideshow": {
     "slide_type": "slide"
    }
   },
   "source": [
    "##### X, y 분리, train/test set 나누기"
   ]
  },
  {
   "cell_type": "code",
   "execution_count": null,
   "metadata": {
    "ExecuteTime": {
     "end_time": "2022-12-14T07:53:01.787323Z",
     "start_time": "2022-12-14T07:53:00.044827Z"
    },
    "execution": {
     "iopub.execute_input": "2022-12-13T00:54:48.843904Z",
     "iopub.status.busy": "2022-12-13T00:54:48.842882Z",
     "iopub.status.idle": "2022-12-13T00:54:48.856470Z",
     "shell.execute_reply": "2022-12-13T00:54:48.856470Z",
     "shell.execute_reply.started": "2022-12-13T00:54:48.843904Z"
    },
    "tags": []
   },
   "outputs": [],
   "source": [
    "from sklearn.model_selection import train_test_split, cross_val_score\n",
    "\n",
    "X_train, X_test, y_train, y_test = train_test_split(X, y, test_size=0.2, random_state=0)  \n",
    "# 회귀: stratify를 설정하지 않는다.\n",
    "X_train.shape, X_test.shape"
   ]
  },
  {
   "cell_type": "markdown",
   "metadata": {
    "slideshow": {
     "slide_type": "slide"
    }
   },
   "source": [
    "##### Feature scaling"
   ]
  },
  {
   "cell_type": "code",
   "execution_count": null,
   "metadata": {
    "ExecuteTime": {
     "end_time": "2022-12-14T07:53:01.803439Z",
     "start_time": "2022-12-14T07:53:01.789255Z"
    },
    "execution": {
     "iopub.execute_input": "2022-12-13T00:54:52.354753Z",
     "iopub.status.busy": "2022-12-13T00:54:52.354753Z",
     "iopub.status.idle": "2022-12-13T00:54:52.363755Z",
     "shell.execute_reply": "2022-12-13T00:54:52.362752Z",
     "shell.execute_reply.started": "2022-12-13T00:54:52.354753Z"
    }
   },
   "outputs": [],
   "source": [
    "# CHAS 를 제외하고 feature scaling  처리.\n",
    "\n",
    "# X에서 chas feature를 추출\n",
    "chas_train = X_train[:, 3].reshape(-1, 1)\n",
    "chas_test = X_test[:, 3].reshape(-1, 1)\n",
    "print(chas_train.shape, chas_test.shape)"
   ]
  },
  {
   "cell_type": "code",
   "execution_count": null,
   "metadata": {
    "ExecuteTime": {
     "end_time": "2022-12-14T07:53:01.819014Z",
     "start_time": "2022-12-14T07:53:01.805421Z"
    },
    "execution": {
     "iopub.execute_input": "2022-12-13T00:55:07.945924Z",
     "iopub.status.busy": "2022-12-13T00:55:07.945924Z",
     "iopub.status.idle": "2022-12-13T00:55:07.965320Z",
     "shell.execute_reply": "2022-12-13T00:55:07.964292Z",
     "shell.execute_reply.started": "2022-12-13T00:55:07.945924Z"
    }
   },
   "outputs": [],
   "source": [
    "np.unique(chas_train), np.unique(chas_test)"
   ]
  },
  {
   "cell_type": "code",
   "execution_count": null,
   "metadata": {
    "ExecuteTime": {
     "end_time": "2022-12-14T07:53:01.834321Z",
     "start_time": "2022-12-14T07:53:01.820970Z"
    },
    "execution": {
     "iopub.execute_input": "2022-12-13T00:55:08.690320Z",
     "iopub.status.busy": "2022-12-13T00:55:08.690320Z",
     "iopub.status.idle": "2022-12-13T00:55:08.701212Z",
     "shell.execute_reply": "2022-12-13T00:55:08.700302Z",
     "shell.execute_reply.started": "2022-12-13T00:55:08.690320Z"
    }
   },
   "outputs": [],
   "source": [
    "# X에서 chas feature제거\n",
    "X_train = np.delete(X_train, 3, axis=1)  # (삭제할 대상 ndarray, 삭제할 index, axis=축)\n",
    "X_test = np.delete(X_test, 3, axis=1)\n",
    "\n",
    "X_train.shape, X_test.shape"
   ]
  },
  {
   "cell_type": "code",
   "execution_count": null,
   "metadata": {
    "ExecuteTime": {
     "end_time": "2022-12-14T07:53:01.849351Z",
     "start_time": "2022-12-14T07:53:01.836321Z"
    },
    "execution": {
     "iopub.execute_input": "2022-12-13T00:57:22.431581Z",
     "iopub.status.busy": "2022-12-13T00:57:22.431581Z",
     "iopub.status.idle": "2022-12-13T00:57:22.448639Z",
     "shell.execute_reply": "2022-12-13T00:57:22.447710Z",
     "shell.execute_reply.started": "2022-12-13T00:57:22.431581Z"
    },
    "tags": []
   },
   "outputs": [],
   "source": [
    "# scaling\n",
    "from sklearn.preprocessing import StandardScaler\n",
    "scaler = StandardScaler()\n",
    "X_train_scaled = scaler.fit_transform(X_train)\n",
    "X_test_scaled = scaler.transform(X_test)\n",
    "\n",
    "# chas 를 추가\n",
    "X_train_scaled = np.append(X_train_scaled, chas_train, axis=1)\n",
    "X_test_scaled = np.append(X_test_scaled, chas_test, axis=1)"
   ]
  },
  {
   "cell_type": "code",
   "execution_count": null,
   "metadata": {
    "ExecuteTime": {
     "end_time": "2022-12-14T07:53:01.864761Z",
     "start_time": "2022-12-14T07:53:01.852383Z"
    },
    "execution": {
     "iopub.execute_input": "2022-12-13T00:57:23.455813Z",
     "iopub.status.busy": "2022-12-13T00:57:23.454813Z",
     "iopub.status.idle": "2022-12-13T00:57:23.463822Z",
     "shell.execute_reply": "2022-12-13T00:57:23.462821Z",
     "shell.execute_reply.started": "2022-12-13T00:57:23.455813Z"
    },
    "tags": []
   },
   "outputs": [],
   "source": [
    "print(X_train_scaled.shape, X_test_scaled.shape)"
   ]
  },
  {
   "cell_type": "code",
   "execution_count": null,
   "metadata": {
    "ExecuteTime": {
     "end_time": "2022-12-14T07:53:01.879994Z",
     "start_time": "2022-12-14T07:53:01.868694Z"
    },
    "execution": {
     "iopub.execute_input": "2022-12-13T00:57:29.135850Z",
     "iopub.status.busy": "2022-12-13T00:57:29.134850Z",
     "iopub.status.idle": "2022-12-13T00:57:29.152138Z",
     "shell.execute_reply": "2022-12-13T00:57:29.151849Z",
     "shell.execute_reply.started": "2022-12-13T00:57:29.135850Z"
    },
    "tags": []
   },
   "outputs": [],
   "source": [
    "X_train_scaled[:2]"
   ]
  },
  {
   "cell_type": "code",
   "execution_count": null,
   "metadata": {
    "ExecuteTime": {
     "end_time": "2022-12-14T07:53:01.894721Z",
     "start_time": "2022-12-14T07:53:01.882023Z"
    },
    "execution": {
     "iopub.execute_input": "2022-12-13T00:59:20.857833Z",
     "iopub.status.busy": "2022-12-13T00:59:20.856833Z",
     "iopub.status.idle": "2022-12-13T00:59:20.871832Z",
     "shell.execute_reply": "2022-12-13T00:59:20.870832Z",
     "shell.execute_reply.started": "2022-12-13T00:59:20.857833Z"
    },
    "tags": []
   },
   "outputs": [],
   "source": [
    "### 컬럼명도 재정렬하기 (CHAS를 맨 뒤로)\n",
    "del cols[3]\n",
    "cols.append('CHAS')"
   ]
  },
  {
   "cell_type": "code",
   "execution_count": null,
   "metadata": {
    "ExecuteTime": {
     "end_time": "2022-12-14T07:53:01.910802Z",
     "start_time": "2022-12-14T07:53:01.897386Z"
    },
    "execution": {
     "iopub.execute_input": "2022-12-13T00:59:24.559394Z",
     "iopub.status.busy": "2022-12-13T00:59:24.559394Z",
     "iopub.status.idle": "2022-12-13T00:59:24.566527Z",
     "shell.execute_reply": "2022-12-13T00:59:24.566527Z",
     "shell.execute_reply.started": "2022-12-13T00:59:24.559394Z"
    },
    "tags": []
   },
   "outputs": [],
   "source": [
    "cols"
   ]
  },
  {
   "cell_type": "markdown",
   "metadata": {
    "slideshow": {
     "slide_type": "fragment"
    }
   },
   "source": [
    "##### 모델 생성, 학습"
   ]
  },
  {
   "cell_type": "code",
   "execution_count": null,
   "metadata": {
    "ExecuteTime": {
     "end_time": "2022-12-14T07:53:02.052243Z",
     "start_time": "2022-12-14T07:53:01.913687Z"
    },
    "execution": {
     "iopub.execute_input": "2022-12-13T00:59:31.080497Z",
     "iopub.status.busy": "2022-12-13T00:59:31.079578Z",
     "iopub.status.idle": "2022-12-13T00:59:31.215530Z",
     "shell.execute_reply": "2022-12-13T00:59:31.215530Z",
     "shell.execute_reply.started": "2022-12-13T00:59:31.080497Z"
    }
   },
   "outputs": [],
   "source": [
    "from sklearn.linear_model import LinearRegression\n",
    "\n",
    "lr = LinearRegression()\n",
    "lr.fit(X_train_scaled, y_train)"
   ]
  },
  {
   "cell_type": "code",
   "execution_count": null,
   "metadata": {
    "ExecuteTime": {
     "end_time": "2022-12-14T07:53:02.068262Z",
     "start_time": "2022-12-14T07:53:02.054233Z"
    },
    "execution": {
     "iopub.execute_input": "2022-12-13T00:59:36.421437Z",
     "iopub.status.busy": "2022-12-13T00:59:36.421437Z",
     "iopub.status.idle": "2022-12-13T00:59:36.432355Z",
     "shell.execute_reply": "2022-12-13T00:59:36.431362Z",
     "shell.execute_reply.started": "2022-12-13T00:59:36.421437Z"
    },
    "tags": []
   },
   "outputs": [],
   "source": [
    "# intercept (bias-편향) 조회\n",
    "lr.intercept_"
   ]
  },
  {
   "cell_type": "code",
   "execution_count": null,
   "metadata": {
    "ExecuteTime": {
     "end_time": "2022-12-14T07:53:02.083876Z",
     "start_time": "2022-12-14T07:53:02.073339Z"
    },
    "execution": {
     "iopub.execute_input": "2022-12-13T00:59:52.161631Z",
     "iopub.status.busy": "2022-12-13T00:59:52.160633Z",
     "iopub.status.idle": "2022-12-13T00:59:52.177005Z",
     "shell.execute_reply": "2022-12-13T00:59:52.177005Z",
     "shell.execute_reply.started": "2022-12-13T00:59:52.161631Z"
    }
   },
   "outputs": [],
   "source": [
    "# coef (weight - 각 feature  곱하는 가중치) => feature가 13개 이므로 coef_도 13개로 구성됨.\n",
    "print(lr.coef_.shape)\n",
    "lr.coef_"
   ]
  },
  {
   "cell_type": "markdown",
   "metadata": {
    "ExecuteTime": {
     "end_time": "2021-11-22T02:53:53.375962Z",
     "start_time": "2021-11-22T02:53:53.353025Z"
    },
    "slideshow": {
     "slide_type": "notes"
    }
   },
   "source": [
    "> ### Coeficient의 부호\n",
    "> - weight가 \n",
    "> - 양수: Feature가 1 증가할때 y(집값)도 weight만큼 증가한다.\n",
    "> - 음수: Feature가 1 증가할때 y(집값)도 weight만큼 감소한다.\n",
    "> - 절대값 기준으로 0에 가까울 수록 집값에 영향을 주지 않고 크면 클수록(0에서 멀어질 수록) 집값에 영향을 많이 주는 Feature 란 의미가 된다."
   ]
  },
  {
   "cell_type": "markdown",
   "metadata": {
    "slideshow": {
     "slide_type": "fragment"
    }
   },
   "source": [
    "##### 평가"
   ]
  },
  {
   "cell_type": "code",
   "execution_count": null,
   "metadata": {
    "ExecuteTime": {
     "end_time": "2022-12-14T07:53:02.878463Z",
     "start_time": "2022-12-14T07:53:02.086463Z"
    },
    "execution": {
     "iopub.execute_input": "2022-12-13T01:00:30.627936Z",
     "iopub.status.busy": "2022-12-13T01:00:30.627936Z",
     "iopub.status.idle": "2022-12-13T01:00:31.064730Z",
     "shell.execute_reply": "2022-12-13T01:00:31.063730Z",
     "shell.execute_reply.started": "2022-12-13T01:00:30.627936Z"
    }
   },
   "outputs": [],
   "source": [
    "from metrics import print_metrics_regression as pmr\n",
    "\n",
    "pred_train = lr.predict(X_train_scaled)\n",
    "pred_test = lr.predict(X_test_scaled)"
   ]
  },
  {
   "cell_type": "code",
   "execution_count": null,
   "metadata": {
    "ExecuteTime": {
     "end_time": "2022-12-14T07:53:02.893740Z",
     "start_time": "2022-12-14T07:53:02.879295Z"
    },
    "execution": {
     "iopub.execute_input": "2022-12-13T01:00:32.306898Z",
     "iopub.status.busy": "2022-12-13T01:00:32.306898Z",
     "iopub.status.idle": "2022-12-13T01:00:32.316317Z",
     "shell.execute_reply": "2022-12-13T01:00:32.315317Z",
     "shell.execute_reply.started": "2022-12-13T01:00:32.306898Z"
    }
   },
   "outputs": [],
   "source": [
    "print(y_train[:5])\n",
    "print(pred_train[:5])"
   ]
  },
  {
   "cell_type": "code",
   "execution_count": null,
   "metadata": {
    "ExecuteTime": {
     "end_time": "2022-12-14T07:53:02.908756Z",
     "start_time": "2022-12-14T07:53:02.896867Z"
    },
    "execution": {
     "iopub.execute_input": "2022-12-13T01:00:34.498110Z",
     "iopub.status.busy": "2022-12-13T01:00:34.498110Z",
     "iopub.status.idle": "2022-12-13T01:00:34.517110Z",
     "shell.execute_reply": "2022-12-13T01:00:34.516110Z",
     "shell.execute_reply.started": "2022-12-13T01:00:34.498110Z"
    }
   },
   "outputs": [],
   "source": [
    "pmr(y_train, pred_train, \"trainset 평가\")"
   ]
  },
  {
   "cell_type": "code",
   "execution_count": null,
   "metadata": {
    "ExecuteTime": {
     "end_time": "2022-12-14T07:53:02.924108Z",
     "start_time": "2022-12-14T07:53:02.910791Z"
    },
    "execution": {
     "iopub.execute_input": "2022-12-13T01:00:35.561687Z",
     "iopub.status.busy": "2022-12-13T01:00:35.561687Z",
     "iopub.status.idle": "2022-12-13T01:00:35.593486Z",
     "shell.execute_reply": "2022-12-13T01:00:35.592486Z",
     "shell.execute_reply.started": "2022-12-13T01:00:35.561687Z"
    }
   },
   "outputs": [],
   "source": [
    "pmr(y_test, pred_test, \"testset 평가\")"
   ]
  },
  {
   "cell_type": "code",
   "execution_count": null,
   "metadata": {
    "ExecuteTime": {
     "end_time": "2022-12-14T07:53:03.252766Z",
     "start_time": "2022-12-14T07:53:02.928424Z"
    },
    "execution": {
     "iopub.execute_input": "2022-12-13T01:00:36.426932Z",
     "iopub.status.busy": "2022-12-13T01:00:36.425931Z",
     "iopub.status.idle": "2022-12-13T01:00:36.709226Z",
     "shell.execute_reply": "2022-12-13T01:00:36.709226Z",
     "shell.execute_reply.started": "2022-12-13T01:00:36.426932Z"
    }
   },
   "outputs": [],
   "source": [
    "# y_test, pred_test 선그래프를 이용해 차이를 확인\n",
    "import matplotlib.pyplot as plt\n",
    "plt.figure(figsize=(20,7))\n",
    "plt.plot(range(len(y_test)), y_test, marker='x', label='정답')  #X: index, y: 정답/추론값\n",
    "plt.plot(range(len(y_test)), pred_test, marker='o', label='추론값')\n",
    "\n",
    "plt.legend()\n",
    "plt.show()\n"
   ]
  },
  {
   "cell_type": "markdown",
   "metadata": {
    "slideshow": {
     "slide_type": "slide"
    }
   },
   "source": [
    "# 다항회귀 (Polynomial Regression)\n",
    "- 단순한 직선형 보다 복잡한 비선형의 데이터셋을 학습하기 위한 방식.\n",
    "    - Feature가 너무 적어 y의 값들을 다 표현 하지 못하여 underfitting이 된 경우 Feature를 늘려준다.\n",
    "- 각 Feature들을 거듭제곱한 것과 Feature들 끼리 곱한 새로운 특성들을 추가한 뒤 선형모델로 훈련시킨다.\n",
    "    - 파라미터 가중치를 기준으로는 일차식이 되어 선형모델이다. 파라미터(Coef, weight)들을 기준으로는 N차식이 되어 비선형 데이터를 추론할 수 있는 모델이 된다.\n",
    "- `PolynomialFeatures` Transformer를 사용해서 변환한다."
   ]
  },
  {
   "cell_type": "markdown",
   "metadata": {
    "slideshow": {
     "slide_type": "slide"
    }
   },
   "source": [
    "## 예제"
   ]
  },
  {
   "cell_type": "markdown",
   "metadata": {
    "slideshow": {
     "slide_type": "fragment"
    }
   },
   "source": [
    "##### 데이터셋 만들기"
   ]
  },
  {
   "cell_type": "code",
   "execution_count": null,
   "metadata": {
    "ExecuteTime": {
     "end_time": "2022-12-14T07:53:03.268767Z",
     "start_time": "2022-12-14T07:53:03.255732Z"
    },
    "execution": {
     "iopub.execute_input": "2022-12-13T01:02:26.961771Z",
     "iopub.status.busy": "2022-12-13T01:02:26.961771Z",
     "iopub.status.idle": "2022-12-13T01:02:26.976022Z",
     "shell.execute_reply": "2022-12-13T01:02:26.975018Z",
     "shell.execute_reply.started": "2022-12-13T01:02:26.961771Z"
    },
    "tags": []
   },
   "outputs": [],
   "source": [
    "import numpy as np\n",
    "import pandas as pd\n",
    "import matplotlib.pyplot as plt"
   ]
  },
  {
   "cell_type": "code",
   "execution_count": null,
   "metadata": {
    "ExecuteTime": {
     "end_time": "2022-12-14T07:53:03.284185Z",
     "start_time": "2022-12-14T07:53:03.270697Z"
    },
    "execution": {
     "iopub.execute_input": "2022-12-13T01:56:41.036650Z",
     "iopub.status.busy": "2022-12-13T01:56:41.036650Z",
     "iopub.status.idle": "2022-12-13T01:56:41.047406Z",
     "shell.execute_reply": "2022-12-13T01:56:41.046883Z",
     "shell.execute_reply.started": "2022-12-13T01:56:41.036650Z"
    },
    "tags": []
   },
   "outputs": [],
   "source": [
    "np.random.seed(0)\n",
    "\n",
    "def func(X):\n",
    "    return X**2 + X + 2 + np.random.normal(0,1, size=(X.size, 1))\n",
    "\n",
    "m = 100 # 데이터개수\n",
    "X = 6 * np.random.rand(m, 1) - 3\n",
    "y = func(X)\n",
    "y = y.flatten()\n",
    "\n",
    "print(X.shape, y.shape)"
   ]
  },
  {
   "cell_type": "code",
   "execution_count": null,
   "metadata": {
    "ExecuteTime": {
     "end_time": "2022-12-14T07:53:03.316183Z",
     "start_time": "2022-12-14T07:53:03.287103Z"
    },
    "execution": {
     "iopub.execute_input": "2022-12-13T01:56:41.446595Z",
     "iopub.status.busy": "2022-12-13T01:56:41.445596Z",
     "iopub.status.idle": "2022-12-13T01:56:41.457223Z",
     "shell.execute_reply": "2022-12-13T01:56:41.456244Z",
     "shell.execute_reply.started": "2022-12-13T01:56:41.445596Z"
    },
    "tags": []
   },
   "outputs": [],
   "source": [
    "df = pd.DataFrame({\"X\":X.flatten(), \"y\":y})\n",
    "df.head()"
   ]
  },
  {
   "cell_type": "code",
   "execution_count": null,
   "metadata": {
    "ExecuteTime": {
     "end_time": "2022-12-14T07:53:03.441340Z",
     "start_time": "2022-12-14T07:53:03.318104Z"
    },
    "execution": {
     "iopub.execute_input": "2022-12-13T01:56:42.053761Z",
     "iopub.status.busy": "2022-12-13T01:56:42.052784Z",
     "iopub.status.idle": "2022-12-13T01:56:42.164006Z",
     "shell.execute_reply": "2022-12-13T01:56:42.163006Z",
     "shell.execute_reply.started": "2022-12-13T01:56:42.053761Z"
    },
    "tags": []
   },
   "outputs": [],
   "source": [
    "plt.figure(figsize=(7,6))\n",
    "plt.scatter(X, y)\n",
    "plt.show()"
   ]
  },
  {
   "cell_type": "markdown",
   "metadata": {
    "slideshow": {
     "slide_type": "slide"
    }
   },
   "source": [
    "##### 모델생성, 학습"
   ]
  },
  {
   "cell_type": "code",
   "execution_count": null,
   "metadata": {
    "ExecuteTime": {
     "end_time": "2022-12-14T07:53:03.457421Z",
     "start_time": "2022-12-14T07:53:03.443352Z"
    },
    "execution": {
     "iopub.execute_input": "2022-12-13T01:56:46.554853Z",
     "iopub.status.busy": "2022-12-13T01:56:46.554853Z",
     "iopub.status.idle": "2022-12-13T01:56:46.587484Z",
     "shell.execute_reply": "2022-12-13T01:56:46.586517Z",
     "shell.execute_reply.started": "2022-12-13T01:56:46.554853Z"
    },
    "tags": []
   },
   "outputs": [],
   "source": [
    "from sklearn.linear_model import LinearRegression\n",
    "\n",
    "lr = LinearRegression()\n",
    "lr.fit(X, y)"
   ]
  },
  {
   "cell_type": "code",
   "execution_count": null,
   "metadata": {
    "ExecuteTime": {
     "end_time": "2022-12-14T07:53:03.473161Z",
     "start_time": "2022-12-14T07:53:03.459352Z"
    },
    "execution": {
     "iopub.execute_input": "2022-12-13T01:56:47.821581Z",
     "iopub.status.busy": "2022-12-13T01:56:47.820501Z",
     "iopub.status.idle": "2022-12-13T01:56:47.829500Z",
     "shell.execute_reply": "2022-12-13T01:56:47.829500Z",
     "shell.execute_reply.started": "2022-12-13T01:56:47.821581Z"
    },
    "tags": []
   },
   "outputs": [],
   "source": [
    "pmr(y, lr.predict(X))"
   ]
  },
  {
   "cell_type": "code",
   "execution_count": null,
   "metadata": {
    "ExecuteTime": {
     "end_time": "2022-12-14T07:53:03.646987Z",
     "start_time": "2022-12-14T07:53:03.475162Z"
    },
    "execution": {
     "iopub.execute_input": "2022-12-13T01:56:48.323485Z",
     "iopub.status.busy": "2022-12-13T01:56:48.323485Z",
     "iopub.status.idle": "2022-12-13T01:56:48.436058Z",
     "shell.execute_reply": "2022-12-13T01:56:48.435006Z",
     "shell.execute_reply.started": "2022-12-13T01:56:48.323485Z"
    },
    "tags": []
   },
   "outputs": [],
   "source": [
    "X_new = np.linspace(-3, 3, 100).reshape(-1, 1)\n",
    "pred_new = lr.predict(X_new)\n",
    "\n",
    "plt.scatter(X, y)\n",
    "plt.plot(X_new, pred_new, color='red')\n",
    "plt.show()"
   ]
  },
  {
   "cell_type": "markdown",
   "metadata": {
    "slideshow": {
     "slide_type": "slide"
    }
   },
   "source": [
    "##### PolynomialFeatures를 이용해 다항회귀구현"
   ]
  },
  {
   "cell_type": "code",
   "execution_count": null,
   "metadata": {
    "ExecuteTime": {
     "end_time": "2022-12-14T07:53:03.662171Z",
     "start_time": "2022-12-14T07:53:03.654985Z"
    },
    "execution": {
     "iopub.execute_input": "2022-12-13T02:09:01.104113Z",
     "iopub.status.busy": "2022-12-13T02:09:01.104113Z",
     "iopub.status.idle": "2022-12-13T02:09:01.124015Z",
     "shell.execute_reply": "2022-12-13T02:09:01.123091Z",
     "shell.execute_reply.started": "2022-12-13T02:09:01.104113Z"
    },
    "tags": []
   },
   "outputs": [],
   "source": [
    "from sklearn.preprocessing import PolynomialFeatures\n",
    "\n",
    "# 기존 컬럼을 N 제곱한 컬럼과 기존 컬럼끼리 곱한 컬럼을 추가로 생성하는 transformer. \n",
    "pn = PolynomialFeatures(degree=2,  # 최고차항의 차수를 지정->N제곱 N을 지정.  2-> X, X**2  / 3-> X, X**2, X**3\n",
    "                        include_bias=False)  # 상수항(모든값이 1인 feature)를 생성하지 않는다. (default: True)\n",
    "X_poly = pn.fit_transform(X)\n",
    "print(X.shape, X_poly.shape)"
   ]
  },
  {
   "cell_type": "code",
   "execution_count": null,
   "metadata": {
    "ExecuteTime": {
     "end_time": "2022-12-14T07:53:03.677901Z",
     "start_time": "2022-12-14T07:53:03.664090Z"
    },
    "execution": {
     "iopub.execute_input": "2022-12-13T02:09:10.341723Z",
     "iopub.status.busy": "2022-12-13T02:09:10.340643Z",
     "iopub.status.idle": "2022-12-13T02:09:10.362736Z",
     "shell.execute_reply": "2022-12-13T02:09:10.361730Z",
     "shell.execute_reply.started": "2022-12-13T02:09:10.341723Z"
    },
    "tags": []
   },
   "outputs": [],
   "source": [
    "X[:5]"
   ]
  },
  {
   "cell_type": "code",
   "execution_count": null,
   "metadata": {
    "ExecuteTime": {
     "end_time": "2022-12-14T07:53:03.693370Z",
     "start_time": "2022-12-14T07:53:03.680359Z"
    },
    "execution": {
     "iopub.execute_input": "2022-12-13T02:09:12.018380Z",
     "iopub.status.busy": "2022-12-13T02:09:12.018380Z",
     "iopub.status.idle": "2022-12-13T02:09:12.050064Z",
     "shell.execute_reply": "2022-12-13T02:09:12.049696Z",
     "shell.execute_reply.started": "2022-12-13T02:09:12.018380Z"
    },
    "tags": []
   },
   "outputs": [],
   "source": [
    "X_poly[:5]"
   ]
  },
  {
   "cell_type": "code",
   "execution_count": null,
   "metadata": {
    "ExecuteTime": {
     "end_time": "2022-12-14T07:53:03.709340Z",
     "start_time": "2022-12-14T07:53:03.695490Z"
    },
    "execution": {
     "iopub.execute_input": "2022-12-13T02:09:16.700160Z",
     "iopub.status.busy": "2022-12-13T02:09:16.700160Z",
     "iopub.status.idle": "2022-12-13T02:09:16.717236Z",
     "shell.execute_reply": "2022-12-13T02:09:16.716222Z",
     "shell.execute_reply.started": "2022-12-13T02:09:16.700160Z"
    }
   },
   "outputs": [],
   "source": [
    "# 변환된 dataset의 feature들이 어떻게 만들어 졌는지를 출력\n",
    "pn.get_feature_names_out()"
   ]
  },
  {
   "cell_type": "markdown",
   "metadata": {
    "slideshow": {
     "slide_type": "slide"
    }
   },
   "source": [
    "##### LinearRegression 모델을 이용해 평가"
   ]
  },
  {
   "cell_type": "code",
   "execution_count": null,
   "metadata": {
    "ExecuteTime": {
     "end_time": "2022-12-14T07:53:03.724532Z",
     "start_time": "2022-12-14T07:53:03.711359Z"
    },
    "execution": {
     "iopub.execute_input": "2022-12-13T02:09:27.635869Z",
     "iopub.status.busy": "2022-12-13T02:09:27.635869Z",
     "iopub.status.idle": "2022-12-13T02:09:27.652944Z",
     "shell.execute_reply": "2022-12-13T02:09:27.651906Z",
     "shell.execute_reply.started": "2022-12-13T02:09:27.635869Z"
    }
   },
   "outputs": [],
   "source": [
    "lr2 = LinearRegression()\n",
    "lr2.fit(X_poly, y)\n",
    "\n",
    "print(lr2.coef_, lr2.intercept_)"
   ]
  },
  {
   "cell_type": "code",
   "execution_count": null,
   "metadata": {
    "ExecuteTime": {
     "end_time": "2022-12-14T07:53:03.740694Z",
     "start_time": "2022-12-14T07:53:03.726445Z"
    },
    "execution": {
     "iopub.execute_input": "2022-12-13T02:09:28.327812Z",
     "iopub.status.busy": "2022-12-13T02:09:28.327812Z",
     "iopub.status.idle": "2022-12-13T02:09:28.339236Z",
     "shell.execute_reply": "2022-12-13T02:09:28.338219Z",
     "shell.execute_reply.started": "2022-12-13T02:09:28.327812Z"
    }
   },
   "outputs": [],
   "source": [
    "pred2 = lr2.predict(X_poly)\n",
    "pmr(y, pred2)"
   ]
  },
  {
   "cell_type": "markdown",
   "metadata": {
    "slideshow": {
     "slide_type": "slide"
    }
   },
   "source": [
    "##### 시각화"
   ]
  },
  {
   "cell_type": "code",
   "execution_count": null,
   "metadata": {
    "ExecuteTime": {
     "end_time": "2022-12-14T07:55:37.620887Z",
     "start_time": "2022-12-14T07:55:37.599569Z"
    },
    "execution": {
     "iopub.execute_input": "2022-12-13T02:09:30.023583Z",
     "iopub.status.busy": "2022-12-13T02:09:30.022667Z",
     "iopub.status.idle": "2022-12-13T02:09:30.031739Z",
     "shell.execute_reply": "2022-12-13T02:09:30.030629Z",
     "shell.execute_reply.started": "2022-12-13T02:09:30.023583Z"
    }
   },
   "outputs": [],
   "source": [
    "X_new = np.linspace(-3, 3, 100).reshape(-1, 1)\n",
    "print(X_new.shape)\n",
    "X_new_poly = pn.transform(X_new)\n",
    "pred_new = lr2.predict(X_new_poly)"
   ]
  },
  {
   "cell_type": "code",
   "execution_count": null,
   "metadata": {
    "ExecuteTime": {
     "end_time": "2022-12-14T07:55:38.445633Z",
     "start_time": "2022-12-14T07:55:38.279408Z"
    },
    "execution": {
     "iopub.execute_input": "2022-12-13T02:09:30.783106Z",
     "iopub.status.busy": "2022-12-13T02:09:30.783106Z",
     "iopub.status.idle": "2022-12-13T02:09:30.907756Z",
     "shell.execute_reply": "2022-12-13T02:09:30.906757Z",
     "shell.execute_reply.started": "2022-12-13T02:09:30.783106Z"
    }
   },
   "outputs": [],
   "source": [
    "\n",
    "plt.figure(figsize=(7,6))\n",
    "plt.scatter(X, y)\n",
    "plt.plot(X_new, pred_new, color='red')\n",
    "plt.show()"
   ]
  },
  {
   "cell_type": "markdown",
   "metadata": {
    "slideshow": {
     "slide_type": "slide"
    }
   },
   "source": [
    "## degree를 크게\n",
    "- Feature가 너무 많으면 Overfitting 문제가 생긴다."
   ]
  },
  {
   "cell_type": "code",
   "execution_count": null,
   "metadata": {
    "ExecuteTime": {
     "end_time": "2022-12-14T07:55:39.781047Z",
     "start_time": "2022-12-14T07:55:39.766803Z"
    },
    "execution": {
     "iopub.execute_input": "2022-12-13T02:09:51.446358Z",
     "iopub.status.busy": "2022-12-13T02:09:51.446358Z",
     "iopub.status.idle": "2022-12-13T02:09:51.465363Z",
     "shell.execute_reply": "2022-12-13T02:09:51.464349Z",
     "shell.execute_reply.started": "2022-12-13T02:09:51.446358Z"
    },
    "scrolled": true
   },
   "outputs": [],
   "source": [
    "pn2 = PolynomialFeatures(degree=35, include_bias=False)\n",
    "X_poly2 = pn2.fit_transform(X)\n",
    "print(X.shape, X_poly2.shape)  # X, X**2, X**3, X**4, X**5 ...... X**35\n",
    "pn2.get_feature_names_out()"
   ]
  },
  {
   "cell_type": "code",
   "execution_count": null,
   "metadata": {
    "ExecuteTime": {
     "end_time": "2022-12-14T07:55:40.356565Z",
     "start_time": "2022-12-14T07:55:40.350070Z"
    },
    "execution": {
     "iopub.execute_input": "2022-12-13T02:09:53.127277Z",
     "iopub.status.busy": "2022-12-13T02:09:53.127277Z",
     "iopub.status.idle": "2022-12-13T02:09:53.149363Z",
     "shell.execute_reply": "2022-12-13T02:09:53.148433Z",
     "shell.execute_reply.started": "2022-12-13T02:09:53.127277Z"
    }
   },
   "outputs": [],
   "source": [
    "lr3 = LinearRegression()\n",
    "lr3.fit(X_poly2, y)\n",
    "print(lr3.coef_, lr3.intercept_)"
   ]
  },
  {
   "cell_type": "code",
   "execution_count": null,
   "metadata": {
    "ExecuteTime": {
     "end_time": "2022-12-14T07:55:42.742455Z",
     "start_time": "2022-12-14T07:55:42.733145Z"
    },
    "execution": {
     "iopub.execute_input": "2022-12-13T02:10:21.475707Z",
     "iopub.status.busy": "2022-12-13T02:10:21.475707Z",
     "iopub.status.idle": "2022-12-13T02:10:21.495259Z",
     "shell.execute_reply": "2022-12-13T02:10:21.494335Z",
     "shell.execute_reply.started": "2022-12-13T02:10:21.475707Z"
    },
    "tags": []
   },
   "outputs": [],
   "source": [
    "# 검증\n",
    "pmr(y, lr3.predict(X_poly2))  # 결과가 별차이 안나는 이유는 train set으로 검증했기 때문."
   ]
  },
  {
   "cell_type": "code",
   "execution_count": null,
   "metadata": {
    "ExecuteTime": {
     "end_time": "2022-12-14T07:55:43.649350Z",
     "start_time": "2022-12-14T07:55:43.510168Z"
    },
    "execution": {
     "iopub.execute_input": "2022-12-13T02:10:30.773779Z",
     "iopub.status.busy": "2022-12-13T02:10:30.773779Z",
     "iopub.status.idle": "2022-12-13T02:10:30.881773Z",
     "shell.execute_reply": "2022-12-13T02:10:30.880768Z",
     "shell.execute_reply.started": "2022-12-13T02:10:30.773779Z"
    }
   },
   "outputs": [],
   "source": [
    "# 시각화\n",
    "X_new_poly2 = pn2.transform(X_new)  # X_new: -3 ~ 3 100등분\n",
    "print(X_new_poly2.shape)\n",
    "pred_new2 = lr3.predict(X_new_poly2)\n",
    "\n",
    "plt.figure(figsize=(7,6))\n",
    "plt.scatter(X, y)\n",
    "plt.plot(X_new, pred_new2, color='red')\n",
    "\n",
    "plt.ylim(-15, 20)\n",
    "plt.show()"
   ]
  },
  {
   "cell_type": "code",
   "execution_count": null,
   "metadata": {
    "ExecuteTime": {
     "end_time": "2022-12-14T07:55:57.690947Z",
     "start_time": "2022-12-14T07:55:57.680644Z"
    }
   },
   "outputs": [],
   "source": [
    "# x가 3일때 추론결과값\n",
    "a = pn2.transform(np.array([[3]]))\n",
    "lr3.predict(a)"
   ]
  },
  {
   "cell_type": "markdown",
   "metadata": {
    "slideshow": {
     "slide_type": "slide"
    }
   },
   "source": [
    "### PolynomialFeatures 예제"
   ]
  },
  {
   "cell_type": "code",
   "execution_count": null,
   "metadata": {
    "ExecuteTime": {
     "end_time": "2022-09-15T01:08:34.882282Z",
     "start_time": "2022-09-15T01:08:34.873330Z"
    },
    "execution": {
     "iopub.execute_input": "2022-12-13T03:01:43.689382Z",
     "iopub.status.busy": "2022-12-13T03:01:43.689382Z",
     "iopub.status.idle": "2022-12-13T03:01:43.704019Z",
     "shell.execute_reply": "2022-12-13T03:01:43.703087Z",
     "shell.execute_reply.started": "2022-12-13T03:01:43.689382Z"
    }
   },
   "outputs": [],
   "source": [
    "# 여러 Feature를 가진(다차원) Dataset 변환\n",
    "import numpy as np\n",
    "\n",
    "data = np.arange(12).reshape(4,3)\n",
    "print(data.shape)\n",
    "data"
   ]
  },
  {
   "cell_type": "code",
   "execution_count": null,
   "metadata": {
    "ExecuteTime": {
     "end_time": "2022-09-15T01:15:57.153197Z",
     "start_time": "2022-09-15T01:15:57.132779Z"
    },
    "execution": {
     "iopub.execute_input": "2022-12-13T03:01:44.522341Z",
     "iopub.status.busy": "2022-12-13T03:01:44.522341Z",
     "iopub.status.idle": "2022-12-13T03:01:44.530341Z",
     "shell.execute_reply": "2022-12-13T03:01:44.529341Z",
     "shell.execute_reply.started": "2022-12-13T03:01:44.522341Z"
    },
    "tags": []
   },
   "outputs": [],
   "source": [
    "from sklearn.preprocessing import PolynomialFeatures\n",
    "pn = PolynomialFeatures(degree=2,  # 최고차항 설정\n",
    "#                         include_bias=False # 상수항 추가 여부. True: 추가(기본), False: 추가하지 않는다.\n",
    "                       )\n",
    "data_poly = pn.fit_transform(data)\n",
    "data_poly.shape"
   ]
  },
  {
   "cell_type": "code",
   "execution_count": null,
   "metadata": {
    "ExecuteTime": {
     "end_time": "2022-09-15T01:15:58.920565Z",
     "start_time": "2022-09-15T01:15:58.905742Z"
    },
    "execution": {
     "iopub.execute_input": "2022-12-13T03:01:49.995667Z",
     "iopub.status.busy": "2022-12-13T03:01:49.995667Z",
     "iopub.status.idle": "2022-12-13T03:01:50.009537Z",
     "shell.execute_reply": "2022-12-13T03:01:50.009343Z",
     "shell.execute_reply.started": "2022-12-13T03:01:49.995667Z"
    },
    "tags": []
   },
   "outputs": [],
   "source": [
    "# 변환된 Feature가 어떻게 구성되었는지 확인\n",
    "# feature가 여러개인 경우: 각 feature들을 제곱한 것과 feature끼리 교차곱한 feature들이 생성된다.\n",
    "pn.get_feature_names_out()"
   ]
  },
  {
   "cell_type": "code",
   "execution_count": null,
   "metadata": {
    "ExecuteTime": {
     "end_time": "2022-09-15T01:12:50.297997Z",
     "start_time": "2022-09-15T01:12:50.278997Z"
    }
   },
   "outputs": [],
   "source": [
    "data_poly"
   ]
  },
  {
   "cell_type": "markdown",
   "metadata": {
    "slideshow": {
     "slide_type": "slide"
    }
   },
   "source": [
    "### PolynomialFeatures를 Boston Dataset에 적용"
   ]
  },
  {
   "cell_type": "code",
   "execution_count": null,
   "metadata": {
    "ExecuteTime": {
     "end_time": "2022-09-15T01:24:03.900751Z",
     "start_time": "2022-09-15T01:24:03.881573Z"
    },
    "execution": {
     "iopub.execute_input": "2022-12-13T03:02:59.990360Z",
     "iopub.status.busy": "2022-12-13T03:02:59.990360Z",
     "iopub.status.idle": "2022-12-13T03:03:00.015168Z",
     "shell.execute_reply": "2022-12-13T03:03:00.014670Z",
     "shell.execute_reply.started": "2022-12-13T03:02:59.990360Z"
    }
   },
   "outputs": [],
   "source": [
    "pn = PolynomialFeatures(degree=2, include_bias=False)\n",
    "X_train_scaled_poly = pn.fit_transform(X_train_scaled)\n",
    "X_test_scaled_poly = pn.transform(X_test_scaled)"
   ]
  },
  {
   "cell_type": "code",
   "execution_count": null,
   "metadata": {
    "ExecuteTime": {
     "end_time": "2022-09-15T01:24:04.257543Z",
     "start_time": "2022-09-15T01:24:04.233464Z"
    },
    "execution": {
     "iopub.execute_input": "2022-12-13T03:03:02.767888Z",
     "iopub.status.busy": "2022-12-13T03:03:02.766897Z",
     "iopub.status.idle": "2022-12-13T03:03:02.772339Z",
     "shell.execute_reply": "2022-12-13T03:03:02.772339Z",
     "shell.execute_reply.started": "2022-12-13T03:03:02.767888Z"
    },
    "tags": []
   },
   "outputs": [],
   "source": [
    "print(X_train_scaled.shape, X_train_scaled_poly.shape)"
   ]
  },
  {
   "cell_type": "code",
   "execution_count": null,
   "metadata": {
    "ExecuteTime": {
     "end_time": "2022-09-15T01:24:33.623680Z",
     "start_time": "2022-09-15T01:24:33.610030Z"
    },
    "execution": {
     "iopub.execute_input": "2022-12-13T03:03:09.998917Z",
     "iopub.status.busy": "2022-12-13T03:03:09.998917Z",
     "iopub.status.idle": "2022-12-13T03:03:10.030738Z",
     "shell.execute_reply": "2022-12-13T03:03:10.029731Z",
     "shell.execute_reply.started": "2022-12-13T03:03:09.998917Z"
    }
   },
   "outputs": [],
   "source": [
    "print(pn.get_feature_names_out())"
   ]
  },
  {
   "cell_type": "markdown",
   "metadata": {
    "slideshow": {
     "slide_type": "slide"
    }
   },
   "source": [
    "##### 모델 생성 학습 추론 평가"
   ]
  },
  {
   "cell_type": "code",
   "execution_count": null,
   "metadata": {
    "ExecuteTime": {
     "end_time": "2022-09-15T01:26:05.317862Z",
     "start_time": "2022-09-15T01:26:05.282015Z"
    },
    "execution": {
     "iopub.execute_input": "2022-12-13T08:41:00.908488Z",
     "iopub.status.busy": "2022-12-13T08:41:00.905489Z",
     "iopub.status.idle": "2022-12-13T08:41:00.941489Z",
     "shell.execute_reply": "2022-12-13T08:41:00.941489Z",
     "shell.execute_reply.started": "2022-12-13T08:41:00.908488Z"
    },
    "scrolled": true,
    "tags": []
   },
   "outputs": [],
   "source": [
    "from sklearn.linear_model import LinearRegression\n",
    "\n",
    "lr = LinearRegression()\n",
    "lr.fit(X_train_scaled_poly, y_train)\n",
    "print(lr.intercept_)\n",
    "print(lr.coef_)"
   ]
  },
  {
   "cell_type": "code",
   "execution_count": null,
   "metadata": {
    "ExecuteTime": {
     "end_time": "2022-09-15T01:27:16.874528Z",
     "start_time": "2022-09-15T01:27:16.857159Z"
    },
    "execution": {
     "iopub.execute_input": "2022-12-13T08:41:01.494320Z",
     "iopub.status.busy": "2022-12-13T08:41:01.493318Z",
     "iopub.status.idle": "2022-12-13T08:41:01.521549Z",
     "shell.execute_reply": "2022-12-13T08:41:01.520620Z",
     "shell.execute_reply.started": "2022-12-13T08:41:01.494320Z"
    }
   },
   "outputs": [],
   "source": [
    "# 검증\n",
    "pred_train = lr.predict(X_train_scaled_poly)\n",
    "pred_test = lr.predict(X_test_scaled_poly)"
   ]
  },
  {
   "cell_type": "code",
   "execution_count": null,
   "metadata": {
    "ExecuteTime": {
     "end_time": "2022-09-15T01:27:50.804224Z",
     "start_time": "2022-09-15T01:27:50.787300Z"
    },
    "execution": {
     "iopub.execute_input": "2022-12-13T08:41:04.762818Z",
     "iopub.status.busy": "2022-12-13T08:41:04.762818Z",
     "iopub.status.idle": "2022-12-13T08:41:04.777468Z",
     "shell.execute_reply": "2022-12-13T08:41:04.776467Z",
     "shell.execute_reply.started": "2022-12-13T08:41:04.762818Z"
    }
   },
   "outputs": [],
   "source": [
    "from metrics import print_metrics_regression as pmr\n",
    "\n",
    "pmr(y_train, pred_train, \"Degree=2, Train set 평가\")\n",
    "pmr(y_test, pred_test, \"Degree=2, Test set 평가\")"
   ]
  },
  {
   "cell_type": "code",
   "execution_count": null,
   "metadata": {
    "ExecuteTime": {
     "end_time": "2022-09-15T01:36:41.764006Z",
     "start_time": "2022-09-15T01:36:41.514897Z"
    },
    "execution": {
     "iopub.execute_input": "2022-12-13T08:42:01.655564Z",
     "iopub.status.busy": "2022-12-13T08:42:01.654564Z",
     "iopub.status.idle": "2022-12-13T08:42:02.049104Z",
     "shell.execute_reply": "2022-12-13T08:42:02.048109Z",
     "shell.execute_reply.started": "2022-12-13T08:42:01.655564Z"
    }
   },
   "outputs": [],
   "source": [
    "pn2 = PolynomialFeatures(degree=5)\n",
    "X_train_scaled_poly2 = pn2.fit_transform(X_train_scaled)\n",
    "X_test_scaled_poly2 = pn2.transform(X_test_scaled)\n",
    "\n",
    "print(X_train_scaled_poly2.shape)\n",
    "\n",
    "lr2 = LinearRegression()\n",
    "lr2.fit(X_train_scaled_poly2, y_train)\n",
    "\n",
    "pred_train2 = lr2.predict(X_train_scaled_poly2)\n",
    "pred_test2 = lr2.predict(X_test_scaled_poly2)"
   ]
  },
  {
   "cell_type": "code",
   "execution_count": null,
   "metadata": {
    "ExecuteTime": {
     "end_time": "2022-09-15T01:36:58.548334Z",
     "start_time": "2022-09-15T01:36:58.529797Z"
    },
    "execution": {
     "iopub.execute_input": "2022-12-13T08:42:24.262803Z",
     "iopub.status.busy": "2022-12-13T08:42:24.262803Z",
     "iopub.status.idle": "2022-12-13T08:42:24.275819Z",
     "shell.execute_reply": "2022-12-13T08:42:24.274815Z",
     "shell.execute_reply.started": "2022-12-13T08:42:24.262803Z"
    }
   },
   "outputs": [],
   "source": [
    "pmr(y_train, pred_train2, \"Degree 5, Train set평가\")\n",
    "pmr(y_test, pred_test2, \"Degree 5, Test set 평가\")"
   ]
  },
  {
   "cell_type": "markdown",
   "metadata": {
    "slideshow": {
     "slide_type": "slide"
    }
   },
   "source": [
    "## 규제 (Regularization)\n",
    "- 선형 회귀 모델에서 과대적합(Overfitting) 문제를 해결하기 위해 가중치(회귀계수)에 페널티 값을 적용한다.\n",
    "- 입력데이터의 Feature들이 너무 많은 경우 Overfitting이 발생.\n",
    "    - Feature수에 비해 관측치 수가 적은 경우 모델이 복잡해 지면서 Overfitting이 발생한다.\n",
    "- 해결\n",
    "    - 데이터를 더 수집한다. \n",
    "    - Feature selection\n",
    "        - 불필요한 Features들을 제거한다.\n",
    "    - 규제 (Regularization) 을 통해 Feature들에 곱해지는 가중치가 커지지 않도록 제한한다.(0에 가까운 값으로 만들어 준다.)\n",
    "        - LinearRegression의 규제는 학습시 계산하는 오차를 키워서 모델이 오차를 줄이기 위해 가중치를 0에 가까운 값으로 만들도록 하는 방식을 사용한다.\n",
    "        - L1 규제 (Lasso)\n",
    "        - L2 규제 (Ridge)\n",
    "    "
   ]
  },
  {
   "cell_type": "markdown",
   "metadata": {
    "slideshow": {
     "slide_type": "slide"
    }
   },
   "source": [
    "## Ridge Regression (L2 규제)\n",
    "- 손실함수(loss function)에 규제항으로 $\\alpha \\sum_{i=1}^{n}{w_{i}^{2}}$ (L2 Norm)을 더해준다.\n",
    "- $\\alpha$는 하이퍼파라미터로 모델을 얼마나 많이 규제할지 조절한다. \n",
    "    - $\\alpha = 0$ 에 가까울수록 규제가 약해진다. (0일 경우 선형 회귀동일)\n",
    "    - $\\alpha$ 가 커질 수록 모든 가중치가 작아져 입력데이터의 Feature들 중 중요하지 않은 Feature의 예측에 대한 영향력이 작아지게 된다.\n",
    "\n",
    "$$\n",
    "\\text{손실함수}(w) = \\text{MSE}(w) + \\alpha \\cfrac{1}{2}\\sum_{i=1}^{n}{w_{i}^{2}}\n",
    "$$\n",
    "\n",
    "> **손실함수(Loss Function):** 모델의 예측한 값과 실제값 사이의 차이를 정의하는 함수로 모델이 학습할 때 사용된다."
   ]
  },
  {
   "cell_type": "code",
   "execution_count": null,
   "metadata": {
    "ExecuteTime": {
     "end_time": "2022-09-15T02:30:18.482853Z",
     "start_time": "2022-09-15T02:30:18.470826Z"
    },
    "execution": {
     "iopub.execute_input": "2022-12-13T08:44:04.230419Z",
     "iopub.status.busy": "2022-12-13T08:44:04.230419Z",
     "iopub.status.idle": "2022-12-13T08:44:04.246496Z",
     "shell.execute_reply": "2022-12-13T08:44:04.245485Z",
     "shell.execute_reply.started": "2022-12-13T08:44:04.230419Z"
    }
   },
   "outputs": [],
   "source": [
    "from sklearn.linear_model import Ridge"
   ]
  },
  {
   "cell_type": "code",
   "execution_count": null,
   "metadata": {
    "ExecuteTime": {
     "end_time": "2022-09-15T02:34:20.286619Z",
     "start_time": "2022-09-15T02:34:20.277068Z"
    },
    "execution": {
     "iopub.execute_input": "2022-12-13T08:46:14.512777Z",
     "iopub.status.busy": "2022-12-13T08:46:14.512777Z",
     "iopub.status.idle": "2022-12-13T08:46:14.535202Z",
     "shell.execute_reply": "2022-12-13T08:46:14.534273Z",
     "shell.execute_reply.started": "2022-12-13T08:46:14.512777Z"
    },
    "tags": []
   },
   "outputs": [],
   "source": [
    "for alpha in [0.1, 1, 10, 1000]:\n",
    "    ridge = Ridge(alpha=alpha, random_state=0)   # 규제 하이퍼파라미터: alpha - 클수록 규제가 커진다. (더 단순한 모델). 기본값: 1\n",
    "    ridge.fit(X_train_scaled, y_train)  \n",
    "    pred_train1 = ridge.predict(X_train_scaled)\n",
    "    pred_test1 = ridge.predict(X_test_scaled)\n",
    "\n",
    "    print(f'alpha: {alpha}')\n",
    "    pmr(y_train, pred_train1, \"train set\")\n",
    "    pmr(y_test, pred_test1, 'test set')\n",
    "    print(\"=\"*100)"
   ]
  },
  {
   "cell_type": "markdown",
   "metadata": {
    "slideshow": {
     "slide_type": "slide"
    }
   },
   "source": [
    "## GridSearchCV를 이용해 최적의 alpha 탐색"
   ]
  },
  {
   "cell_type": "code",
   "execution_count": null,
   "metadata": {
    "ExecuteTime": {
     "end_time": "2022-09-15T02:39:53.699991Z",
     "start_time": "2022-09-15T02:39:53.636960Z"
    },
    "execution": {
     "iopub.execute_input": "2022-12-13T08:46:36.180229Z",
     "iopub.status.busy": "2022-12-13T08:46:36.179227Z",
     "iopub.status.idle": "2022-12-13T08:46:36.259843Z",
     "shell.execute_reply": "2022-12-13T08:46:36.258893Z",
     "shell.execute_reply.started": "2022-12-13T08:46:36.179227Z"
    }
   },
   "outputs": [],
   "source": [
    "from sklearn.model_selection import GridSearchCV\n",
    "\n",
    "params = {\n",
    "    \"alpha\":[0, 0.1, 1, 10, 20, 30, 40, 50, 100]\n",
    "}\n",
    "ridge = Ridge(random_state=0)\n",
    "gs = GridSearchCV(ridge, params, scoring=['r2', 'neg_mean_squared_error'], refit='r2', cv=4)\n",
    "\n",
    "gs.fit(X_train_scaled, y_train)"
   ]
  },
  {
   "cell_type": "code",
   "execution_count": null,
   "metadata": {
    "ExecuteTime": {
     "end_time": "2022-09-15T02:40:30.679808Z",
     "start_time": "2022-09-15T02:40:30.660685Z"
    },
    "execution": {
     "iopub.execute_input": "2022-12-13T08:46:40.975994Z",
     "iopub.status.busy": "2022-12-13T08:46:40.975994Z",
     "iopub.status.idle": "2022-12-13T08:46:40.989253Z",
     "shell.execute_reply": "2022-12-13T08:46:40.988645Z",
     "shell.execute_reply.started": "2022-12-13T08:46:40.975994Z"
    }
   },
   "outputs": [],
   "source": [
    "print(\"best score:\", gs.best_score_)\n",
    "print('best alpha:', gs.best_params_)"
   ]
  },
  {
   "cell_type": "code",
   "execution_count": null,
   "metadata": {
    "ExecuteTime": {
     "end_time": "2022-09-15T02:41:31.396478Z",
     "start_time": "2022-09-15T02:41:31.364319Z"
    },
    "execution": {
     "iopub.execute_input": "2022-12-13T08:46:55.208469Z",
     "iopub.status.busy": "2022-12-13T08:46:55.207440Z",
     "iopub.status.idle": "2022-12-13T08:46:55.236903Z",
     "shell.execute_reply": "2022-12-13T08:46:55.235979Z",
     "shell.execute_reply.started": "2022-12-13T08:46:55.208469Z"
    }
   },
   "outputs": [],
   "source": [
    "import pandas as pd\n",
    "result = pd.DataFrame(gs.cv_results_)\n",
    "result.head()"
   ]
  },
  {
   "cell_type": "markdown",
   "metadata": {
    "slideshow": {
     "slide_type": "slide"
    }
   },
   "source": [
    "## 규제 alpha 에 따른 weight 변화"
   ]
  },
  {
   "cell_type": "code",
   "execution_count": null,
   "metadata": {
    "ExecuteTime": {
     "end_time": "2022-09-15T02:50:49.712592Z",
     "start_time": "2022-09-15T02:50:49.084934Z"
    },
    "execution": {
     "iopub.execute_input": "2022-12-13T08:48:57.929516Z",
     "iopub.status.busy": "2022-12-13T08:48:57.929516Z",
     "iopub.status.idle": "2022-12-13T08:48:58.763683Z",
     "shell.execute_reply": "2022-12-13T08:48:58.762684Z",
     "shell.execute_reply.started": "2022-12-13T08:48:57.929516Z"
    },
    "tags": []
   },
   "outputs": [],
   "source": [
    "import matplotlib.pyplot as plt\n",
    "\n",
    "alpha_list = [0, 1, 10, 100, 500, 1000, 3000]\n",
    "coef_df = pd.DataFrame()  # alpha별 각 Feature의 weight를 저장할 DataFrame\n",
    "\n",
    "plt.figure(figsize=(6,30))\n",
    "\n",
    "for idx, alpha in enumerate(alpha_list, start=1):\n",
    "    ridge = Ridge(alpha=alpha, random_state=0)\n",
    "    ridge.fit(X_train_scaled, y_train)\n",
    "    \n",
    "    weights = pd.Series(np.round(ridge.coef_, 3))\n",
    "    coef_df[f'alpha {alpha}'] = weights\n",
    "    \n",
    "    w = weights.sort_values()\n",
    "    plt.subplot(7, 1, idx)\n",
    "    plt.bar(x=w.index, height=w)\n",
    "    plt.title(f'alpha-{alpha}')\n",
    "    plt.yticks(range(-4,3))\n",
    "    plt.grid(True)\n",
    "    \n",
    "plt.tight_layout()\n",
    "plt.show()"
   ]
  },
  {
   "cell_type": "code",
   "execution_count": null,
   "metadata": {
    "ExecuteTime": {
     "end_time": "2022-09-15T02:51:41.912456Z",
     "start_time": "2022-09-15T02:51:41.884049Z"
    },
    "execution": {
     "iopub.execute_input": "2022-12-13T08:49:17.333660Z",
     "iopub.status.busy": "2022-12-13T08:49:17.333660Z",
     "iopub.status.idle": "2022-12-13T08:49:17.352138Z",
     "shell.execute_reply": "2022-12-13T08:49:17.351220Z",
     "shell.execute_reply.started": "2022-12-13T08:49:17.333660Z"
    }
   },
   "outputs": [],
   "source": [
    "coef_df"
   ]
  },
  {
   "cell_type": "markdown",
   "metadata": {
    "slideshow": {
     "slide_type": "slide"
    }
   },
   "source": [
    "## Lasso(Least Absolut Shrinkage and Selection Operator) Regression (L1 규제)\n",
    "\n",
    "- 손실함수에 규제항으로 $\\alpha \\sum_{i=1}^{n}{\\left| w_i \\right|}$ (L1 Norm)더한다.\n",
    "- Lasso 회귀의 상대적으로 덜 중요한 특성의 가중치를 0으로 만들어 자동으로 Feature Selection이 된다.\n",
    "\n",
    "$$\n",
    "\\text{손실함수}(w) = \\text{MSE}(w) + \\alpha \\sum_{i=1}^{n}{\\left| w_i \\right|}\n",
    "$$"
   ]
  },
  {
   "cell_type": "code",
   "execution_count": null,
   "metadata": {
    "ExecuteTime": {
     "end_time": "2022-09-15T03:15:16.123508Z",
     "start_time": "2022-09-15T03:15:16.105193Z"
    }
   },
   "outputs": [],
   "source": [
    "from sklearn.linear_model import Lasso"
   ]
  },
  {
   "cell_type": "code",
   "execution_count": null,
   "metadata": {
    "ExecuteTime": {
     "end_time": "2022-09-15T03:16:58.611348Z",
     "start_time": "2022-09-15T03:16:58.563198Z"
    }
   },
   "outputs": [],
   "source": [
    "lasso = Lasso(random_state=0)  #alpha : 기본값 - 1\n",
    "lasso.fit(X_train_scaled, y_train)\n",
    "\n",
    "pred_train = lasso.predict(X_train_scaled)\n",
    "pred_test = lasso.predict(X_test_scaled)\n",
    "\n",
    "print('alpha: 1')\n",
    "pmr(y_train, pred_train, \"train\")\n",
    "pmr(y_test, pred_test, \"test\")"
   ]
  },
  {
   "cell_type": "code",
   "execution_count": null,
   "metadata": {
    "ExecuteTime": {
     "end_time": "2022-09-15T03:17:29.990009Z",
     "start_time": "2022-09-15T03:17:29.979415Z"
    }
   },
   "outputs": [],
   "source": [
    "lasso.coef_"
   ]
  },
  {
   "cell_type": "code",
   "execution_count": null,
   "metadata": {
    "ExecuteTime": {
     "end_time": "2022-09-15T03:18:41.162140Z",
     "start_time": "2022-09-15T03:18:41.145988Z"
    }
   },
   "outputs": [],
   "source": [
    "lasso = Lasso(alpha=10, random_state=0)  #alpha : 10\n",
    "lasso.fit(X_train_scaled, y_train)\n",
    "\n",
    "pred_train = lasso.predict(X_train_scaled)\n",
    "pred_test = lasso.predict(X_test_scaled)\n",
    "\n",
    "print('alpha: 10')\n",
    "pmr(y_train, pred_train, \"train\")\n",
    "pmr(y_test, pred_test, \"test\")"
   ]
  },
  {
   "cell_type": "code",
   "execution_count": null,
   "metadata": {
    "ExecuteTime": {
     "end_time": "2022-09-15T03:19:17.871997Z",
     "start_time": "2022-09-15T03:19:17.858729Z"
    }
   },
   "outputs": [],
   "source": [
    "lasso.coef_"
   ]
  },
  {
   "cell_type": "code",
   "execution_count": null,
   "metadata": {
    "ExecuteTime": {
     "end_time": "2022-09-15T03:19:32.951177Z",
     "start_time": "2022-09-15T03:19:32.937986Z"
    }
   },
   "outputs": [],
   "source": [
    "lasso.intercept_"
   ]
  },
  {
   "cell_type": "code",
   "execution_count": null,
   "metadata": {
    "ExecuteTime": {
     "end_time": "2022-09-15T03:19:56.959661Z",
     "start_time": "2022-09-15T03:19:56.945396Z"
    }
   },
   "outputs": [],
   "source": [
    "pred_test"
   ]
  },
  {
   "cell_type": "code",
   "execution_count": null,
   "metadata": {
    "ExecuteTime": {
     "end_time": "2022-09-15T03:27:08.233386Z",
     "start_time": "2022-09-15T03:27:07.651373Z"
    }
   },
   "outputs": [],
   "source": [
    "# alpha 변화에 따른 weight 변화\n",
    "alpha_list = [0, 0.01, 0.1, 0.5, 1, 10]\n",
    "\n",
    "lasso_coef_df = pd.DataFrame()\n",
    "plt.figure(figsize=(7,30))\n",
    "\n",
    "for idx, alpha in enumerate(alpha_list, start=1):\n",
    "    lasso = Lasso(alpha=alpha, random_state=0)\n",
    "    lasso.fit(X_train_scaled, y_train)\n",
    "    \n",
    "    lasso_coef_df[f'alpha {alpha}'] = lasso.coef_\n",
    "    \n",
    "    plt.subplot(6, 1, idx)\n",
    "    plt.bar(x=range(len(lasso.coef_)), height=lasso.coef_)\n",
    "    plt.title(f\"Lasso alpha-{alpha}\")\n",
    "    plt.grid(True)\n",
    "    \n",
    "plt.tight_layout()\n",
    "plt.show()"
   ]
  },
  {
   "cell_type": "code",
   "execution_count": null,
   "metadata": {
    "ExecuteTime": {
     "end_time": "2022-09-15T03:28:43.126323Z",
     "start_time": "2022-09-15T03:28:43.104544Z"
    }
   },
   "outputs": [],
   "source": [
    "lasso_coef_df"
   ]
  },
  {
   "cell_type": "markdown",
   "metadata": {},
   "source": [
    "### PolynormialFeatures로 전처리한 Boston Dataset 에 Ridge, Lasso 규제 적용"
   ]
  },
  {
   "cell_type": "code",
   "execution_count": null,
   "metadata": {
    "ExecuteTime": {
     "end_time": "2022-09-15T03:30:27.636522Z",
     "start_time": "2022-09-15T03:30:27.625553Z"
    }
   },
   "outputs": [],
   "source": [
    "# degree=2\n",
    "X_train_scaled_poly.shape"
   ]
  },
  {
   "cell_type": "code",
   "execution_count": null,
   "metadata": {
    "ExecuteTime": {
     "end_time": "2022-09-15T04:39:19.710983Z",
     "start_time": "2022-09-15T04:39:19.694179Z"
    }
   },
   "outputs": [],
   "source": [
    "alpha_list = [0.01, 0.1, 1, 10, 50, 100]  #Ridge, Lasso에서 사용할 alpha list"
   ]
  },
  {
   "cell_type": "markdown",
   "metadata": {
    "slideshow": {
     "slide_type": "fragment"
    }
   },
   "source": [
    "##### LinearRegression으로 평가"
   ]
  },
  {
   "cell_type": "code",
   "execution_count": null,
   "metadata": {
    "ExecuteTime": {
     "end_time": "2022-09-15T05:09:37.223638Z",
     "start_time": "2022-09-15T05:09:37.211023Z"
    }
   },
   "outputs": [],
   "source": [
    "# 모델 생성\n",
    "lr = LinearRegression()\n",
    "# 학습\n",
    "lr.fit(X_train_scaled_poly, y_train)\n",
    "# 검증\n",
    "pmr(y_train, lr.predict(X_train_scaled_poly), \"LinearRegression train set\")\n",
    "pmr(y_test, lr.predict(X_test_scaled_poly), \"LinearRegression test set\")"
   ]
  },
  {
   "cell_type": "markdown",
   "metadata": {
    "slideshow": {
     "slide_type": "fragment"
    }
   },
   "source": [
    "##### Ridge 의 alpha값 변화에 따른 R square 확인"
   ]
  },
  {
   "cell_type": "code",
   "execution_count": null,
   "metadata": {
    "ExecuteTime": {
     "end_time": "2022-09-15T05:15:41.164144Z",
     "start_time": "2022-09-15T05:15:41.139475Z"
    }
   },
   "outputs": [],
   "source": [
    "from sklearn.metrics import r2_score\n",
    "\n",
    "ridge_train_r2 = []\n",
    "ridge_test_r2 = []\n",
    "\n",
    "for alpha in alpha_list:\n",
    "    #모델생성\n",
    "    ridge = Ridge(alpha=alpha, random_state=0)\n",
    "    #학습\n",
    "    ridge.fit(X_train_scaled_poly, y_train)\n",
    "    # 검증\n",
    "    ridge_train_r2.append(r2_score(y_train, ridge.predict(X_train_scaled_poly)))\n",
    "    ridge_test_r2.append(r2_score(y_test, ridge.predict(X_test_scaled_poly)))\n",
    "                          "
   ]
  },
  {
   "cell_type": "code",
   "execution_count": null,
   "metadata": {
    "ExecuteTime": {
     "end_time": "2022-09-15T05:16:50.696919Z",
     "start_time": "2022-09-15T05:16:50.681084Z"
    }
   },
   "outputs": [],
   "source": [
    "ridge_df = pd.DataFrame({\n",
    "    \"alpha\":alpha_list,\n",
    "    \"train r2\":ridge_train_r2,\n",
    "    \"test r2\":ridge_test_r2\n",
    "})\n",
    "ridge_df"
   ]
  },
  {
   "cell_type": "markdown",
   "metadata": {
    "slideshow": {
     "slide_type": "slide"
    }
   },
   "source": [
    "##### lasso 의 alpha값 변화에 따른 R square 확인"
   ]
  },
  {
   "cell_type": "code",
   "execution_count": null,
   "metadata": {
    "ExecuteTime": {
     "end_time": "2022-09-15T05:22:11.000018Z",
     "start_time": "2022-09-15T05:22:10.956651Z"
    }
   },
   "outputs": [],
   "source": [
    "from sklearn.metrics import r2_score\n",
    "\n",
    "lasso_train_r2 = []\n",
    "lasso_test_r2 = []\n",
    "\n",
    "for alpha in alpha_list:\n",
    "    #모델생성\n",
    "    lasso = Lasso(alpha=alpha, random_state=0)\n",
    "    #학습\n",
    "    lasso.fit(X_train_scaled_poly, y_train)\n",
    "    # 검증\n",
    "    lasso_train_r2.append(r2_score(y_train, lasso.predict(X_train_scaled_poly)))\n",
    "    lasso_test_r2.append(r2_score(y_test, lasso.predict(X_test_scaled_poly)))\n",
    "                          "
   ]
  },
  {
   "cell_type": "code",
   "execution_count": null,
   "metadata": {
    "ExecuteTime": {
     "end_time": "2022-09-15T05:22:37.007489Z",
     "start_time": "2022-09-15T05:22:36.985837Z"
    }
   },
   "outputs": [],
   "source": [
    "lasso_df = pd.DataFrame({\n",
    "    \"alpha\":alpha_list,\n",
    "    \"train r2\":lasso_train_r2,\n",
    "    \"test r2\":lasso_test_r2\n",
    "})\n",
    "lasso_df"
   ]
  },
  {
   "cell_type": "markdown",
   "metadata": {
    "slideshow": {
     "slide_type": "slide"
    }
   },
   "source": [
    "## ElasticNet(엘라스틱넷)\n",
    "- 릿지와 라쏘를 절충한 모델.\n",
    "- 규제항에 릿지, 라쏘 규제항을 더해서 추가한다. \n",
    "- 혼합비율 $r$을 사용해 혼합정도를 조절\n",
    "- $r=0$이면 릿지와 같고 $r=1$이면 라쏘와 같다.\n",
    "\n",
    "$$\n",
    "\\text{손실함수}(w) = \\text{MSE}(w) + r\\alpha \\sum_{i=1}^{n}{\\left| w_i \\right|}  + \\cfrac{1-r}{2}\\alpha\\sum_{i=1}^{n}{w_{i}^{2}}\n",
    "$$"
   ]
  },
  {
   "cell_type": "code",
   "execution_count": null,
   "metadata": {
    "ExecuteTime": {
     "end_time": "2022-09-15T05:31:37.151573Z",
     "start_time": "2022-09-15T05:31:37.112183Z"
    }
   },
   "outputs": [],
   "source": [
    "from sklearn.linear_model import ElasticNet\n",
    "e_net = ElasticNet(alpha=0.1, l1_ratio=0.6, random_state=0)\n",
    "e_net.fit(X_train_scaled_poly, y_train)\n",
    "\n",
    "pmr(y_train, e_net.predict(X_train_scaled_poly), \"train set\")\n",
    "pmr(y_test, e_net.predict(X_test_scaled_poly), \"test set\")"
   ]
  },
  {
   "cell_type": "markdown",
   "metadata": {
    "slideshow": {
     "slide_type": "slide"
    }
   },
   "source": [
    "# 정리\n",
    "- 일반적으로 선형회귀의 경우 어느정도 규제가 있는 경우가 성능이 좋다.\n",
    "- 기본적으로 **Ridge**를 사용한다.\n",
    "- Target에 영향을 주는 Feature가 몇 개뿐일 경우 특성의 가중치를 0으로 만들어 주는 **Lasso** 사용한다. \n",
    "- 특성 수가 학습 샘플 수 보다 많거나 feature간에 연관성이 높을 때는 **ElasticNet**을 사용한다."
   ]
  }
 ],
 "metadata": {
  "kernelspec": {
   "display_name": "ml",
   "language": "python",
   "name": "python3"
  },
  "language_info": {
   "codemirror_mode": {
    "name": "ipython",
    "version": 3
   },
   "file_extension": ".py",
   "mimetype": "text/x-python",
   "name": "python",
   "nbconvert_exporter": "python",
   "pygments_lexer": "ipython3",
   "version": "3.9.15"
  },
  "toc": {
   "base_numbering": 1,
   "nav_menu": {},
   "number_sections": false,
   "sideBar": true,
   "skip_h1_title": false,
   "title_cell": "Table of Contents",
   "title_sidebar": "Contents",
   "toc_cell": false,
   "toc_position": {},
   "toc_section_display": true,
   "toc_window_display": false
  },
  "varInspector": {
   "cols": {
    "lenName": 16,
    "lenType": 16,
    "lenVar": 40
   },
   "kernels_config": {
    "python": {
     "delete_cmd_postfix": "",
     "delete_cmd_prefix": "del ",
     "library": "var_list.py",
     "varRefreshCmd": "print(var_dic_list())"
    },
    "r": {
     "delete_cmd_postfix": ") ",
     "delete_cmd_prefix": "rm(",
     "library": "var_list.r",
     "varRefreshCmd": "cat(var_dic_list()) "
    }
   },
   "types_to_exclude": [
    "module",
    "function",
    "builtin_function_or_method",
    "instance",
    "_Feature"
   ],
   "window_display": false
  },
  "vscode": {
   "interpreter": {
    "hash": "8ea266b9a32e539376479ecefb4b43de94cddfc186952a2290bc119c664ac37e"
   }
  }
 },
 "nbformat": 4,
 "nbformat_minor": 4
}
