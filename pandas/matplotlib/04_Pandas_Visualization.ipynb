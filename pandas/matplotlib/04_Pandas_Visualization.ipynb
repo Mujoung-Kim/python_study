{
 "cells": [
  {
   "cell_type": "markdown",
   "metadata": {},
   "source": [
    "# Pandas 시각화\n",
    "판다시 자체적으로 matplotlib 를 기반으로 한 시각화기능을 지원한다.    \n",
    "Series나 DataFrame에 plot() 함수나 plot accessor를 사용한다.\n",
    "- https://pandas.pydata.org/pandas-docs/stable/user_guide/visualization.html"
   ]
  },
  {
   "cell_type": "markdown",
   "metadata": {},
   "source": [
    "- 기본구문\n",
    "  1. `(Series, DataFrame).plot(kind=\"그래프의 종류\", 추가 설정)`\n",
    "  2. plot accessor를 이용\n",
    "     - `(Series, DataFrame).plot.그래프 그리는 함수(설정)`\n",
    "     - 그래프 그리는 함수의 이름은 `kind`와 동일"
   ]
  },
  {
   "cell_type": "code",
   "execution_count": null,
   "metadata": {},
   "outputs": [],
   "source": [
    "import pandas as pd\n",
    "import numpy as np\n",
    "import matplotlib.pyplot as plt"
   ]
  },
  {
   "cell_type": "markdown",
   "metadata": {},
   "source": [
    "## plot() \n",
    "- kind 매개변수에 지정한 값에 따라 다양한 그래프를 그릴 수 있다.\n",
    "- kind : 그래프 종류 지정\n",
    "    - 'line' : line plot (default)\n",
    "    - 'bar' : vertical bar plot\n",
    "    - 'barh' : horizontal bar plot\n",
    "    - 'hist' : histogram\n",
    "    - 'box' : boxplot\n",
    "    - 'kde' : Kernel Density Estimation plot\n",
    "    - 'pie' : pie plot\n",
    "    - 'scatter' : scatter plot"
   ]
  },
  {
   "cell_type": "code",
   "execution_count": null,
   "metadata": {},
   "outputs": [],
   "source": [
    "d = {\n",
    "\t'No1' : range(100),\n",
    "\t'No2' : range(100, 200)\n",
    "}\n",
    "\n",
    "df = pd.DataFrame(d)\n",
    "df.head(3)"
   ]
  },
  {
   "cell_type": "code",
   "execution_count": null,
   "metadata": {},
   "outputs": [],
   "source": [
    "# 선 그래프 그리기\n",
    "df.No1.plot(kind='line')\t\t\t# x축 : index, y축 : value\n",
    "\n",
    "plt.show()"
   ]
  },
  {
   "cell_type": "code",
   "execution_count": null,
   "metadata": {},
   "outputs": [],
   "source": [
    "df.No2.plot.line()\n",
    "\n",
    "plt.show()"
   ]
  },
  {
   "cell_type": "code",
   "execution_count": null,
   "metadata": {},
   "outputs": [],
   "source": [
    "df.plot()\t\t\t\t# DataFrame으로 그릴 경우 각 column별로 그린다."
   ]
  },
  {
   "cell_type": "markdown",
   "metadata": {},
   "source": [
    "matplotlib를 이용해 여러 설정들 가능"
   ]
  },
  {
   "cell_type": "code",
   "execution_count": null,
   "metadata": {},
   "outputs": [],
   "source": [
    "df.No1.plot(title='제목',\n",
    "\t\t\tcolor='r', \n",
    "\t\t\tfigsize=(5, 5),\n",
    "\t\t\tlinestyle='--',\n",
    "\t\t\tgrid=True)"
   ]
  },
  {
   "cell_type": "code",
   "execution_count": null,
   "metadata": {},
   "outputs": [],
   "source": [
    "plt.figure(figsize=(3, 3))\n",
    "df.No1.plot()\n",
    "plt.title('title')\n",
    "plt.grid(True)\n",
    "plt.show()"
   ]
  },
  {
   "cell_type": "code",
   "execution_count": null,
   "metadata": {},
   "outputs": [],
   "source": [
    "plt.figure(figsize=(5, 5))\n",
    "\n",
    "ax = df.No1.plot()\n",
    "\n",
    "ax.set_title('title')\n",
    "ax.set_xlabel('X ticks')\n",
    "plt.show()"
   ]
  },
  {
   "cell_type": "markdown",
   "metadata": {},
   "source": [
    "## 막대 그래프\n",
    "- index가 무슨 값인지를 가리키는 축으로 사용된다."
   ]
  },
  {
   "cell_type": "code",
   "execution_count": null,
   "metadata": {},
   "outputs": [],
   "source": [
    "tips = pd.read_csv('data/tips.csv')\n",
    "print(tips.shape)\n",
    "print(tips.columns)"
   ]
  },
  {
   "cell_type": "code",
   "execution_count": null,
   "metadata": {},
   "outputs": [],
   "source": [
    "tips.smoker.value_counts()"
   ]
  },
  {
   "cell_type": "code",
   "execution_count": null,
   "metadata": {},
   "outputs": [],
   "source": [
    "# series/dataframe의 index가 x축(항목), y축(개수)\n",
    "tips.smoker.value_counts().plot(kind='bar',\n",
    "\t\t\t\t\t\t\t\ttitle='흡연여부별 손님 수',\n",
    "\t\t\t\t\t\t\t\txlabel='흡연여부',\n",
    "\t\t\t\t\t\t\t\tylabel='손님수',\n",
    "\t\t\t\t\t\t\t\tcolor=['indianred', '#312C6A'],\n",
    "\t\t\t\t\t\t\t\trot=0)\t\t\t\t\t\t\t# rot로 xticks를 기울일 수 있다. (45도 많이 사용)\n",
    "\n",
    "plt.show()"
   ]
  },
  {
   "cell_type": "code",
   "execution_count": null,
   "metadata": {},
   "outputs": [],
   "source": [
    "tips.day.value_counts().plot(kind='barh')\n",
    "plt.title('요일별 손님 수')\n",
    "plt.xlabel('손님 수')\n",
    "plt.ylabel('요일')\n",
    "\n",
    "plt.show()"
   ]
  },
  {
   "cell_type": "markdown",
   "metadata": {},
   "source": [
    "### DataFrame.pivot_table()\n",
    " - excel의 pivot table 기능을 제공하는 method\n",
    " - 두 개 이상의 범주형 columns을 그룹으로 묶어서 집계하는 경우 사용\n",
    "   - 하나의 columns은 행(index)로 다른 하나는 열(column)으로 위치시키고 value는 집계값을 보여준다.\n",
    " - 두 개 이상의 column을 그룹으로 묶어서 집계하는 경우 `groupby()`하는 경우 보다결과를 읽는 것이 편하다."
   ]
  },
  {
   "cell_type": "markdown",
   "metadata": {
    "ExecuteTime": {
     "end_time": "2019-11-23T13:43:47.071759Z",
     "start_time": "2019-11-23T13:43:47.068762Z"
    }
   },
   "source": [
    "- 두개의 분류 별로 그리기\n",
    "    - 여러개의 컬럼일 경우 수평 누적 막대그래프를 그린다.\n"
   ]
  },
  {
   "cell_type": "code",
   "execution_count": null,
   "metadata": {},
   "outputs": [],
   "source": [
    "# index : 그룹핑할 feature 중 행(x축)에 놓을 것\n",
    "# columns : 그룹핑할 feature 중 열(y축)에 놓을 것\n",
    "# value : 집계대상 feature\n",
    "# aggfunc : 집계함수(default:mean)\n",
    "agg = tips.pivot_table(index='smoker', columns='sex', values='tip', aggfunc='mean')\n",
    "agg"
   ]
  },
  {
   "cell_type": "code",
   "execution_count": null,
   "metadata": {},
   "outputs": [],
   "source": [
    "agg.plot(kind='bar',\n",
    "\t\ttitle='흡연/성별 tip의 평균',\n",
    "\t\twidth=0.3)\n",
    "\n",
    "plt.show()"
   ]
  },
  {
   "cell_type": "code",
   "execution_count": null,
   "metadata": {},
   "outputs": [],
   "source": [
    "# 요일/흡연자별 손님의 인원수\n",
    "result = tips.pivot_table(index='day', columns='smoker', values='size', aggfunc='sum')\n",
    "result.plot(kind='barh',\n",
    "\t\ttitle='요일/흡연자별 손님의 인원 수',\n",
    "\t\txlabel='인원 수',\n",
    "\t\twidth=0.5,\n",
    "\t\tfigsize=(9, 3)\n",
    "\t\t)\n",
    "\n",
    "plt.show()"
   ]
  },
  {
   "cell_type": "markdown",
   "metadata": {},
   "source": [
    "## 파이차트"
   ]
  },
  {
   "cell_type": "code",
   "execution_count": null,
   "metadata": {},
   "outputs": [],
   "source": [
    "tips.day.value_counts().plot(kind='pie',\n",
    "\t\t\t\t\t\t\tfigsize=(5, 5),\n",
    "\t\t\t\t\t\t\tautopct='%.2f%%',\n",
    "\t\t\t\t\t\t\tshadow=True,\n",
    "\t\t\t\t\t\t\texplode=[0, 0, 0, 0.2])\n",
    "\n",
    "plt.show()"
   ]
  },
  {
   "cell_type": "code",
   "execution_count": null,
   "metadata": {},
   "outputs": [],
   "source": [
    "# 점심, 저녁(time)의 tip 비율\n",
    "tips.groupby('time')['tip'].mean().plot(kind='pie',\n",
    "\t\t\t\t\t\t\t\t\t\tfigsize=(5, 5),\n",
    "\t\t\t\t\t\t\t\t\t\tautopct='%.2f%%')\n",
    "\n",
    "plt.show()"
   ]
  },
  {
   "cell_type": "markdown",
   "metadata": {},
   "source": [
    "## 히스토그램, KDE(밀도그래프)"
   ]
  },
  {
   "cell_type": "code",
   "execution_count": null,
   "metadata": {},
   "outputs": [],
   "source": [
    "tips.tip.plot(kind='hist',\n",
    "\t\t\tbins=20)\n",
    "\n",
    "plt.show()"
   ]
  },
  {
   "cell_type": "code",
   "execution_count": null,
   "metadata": {},
   "outputs": [],
   "source": [
    "import scipy as sc\n",
    "\n",
    "tips.tip.plot(kind='kde')\n",
    "\n",
    "plt.show()"
   ]
  },
  {
   "cell_type": "code",
   "execution_count": null,
   "metadata": {},
   "outputs": [],
   "source": [
    "tips[['total_bill', 'tip']].plot(kind='hist', bins=30, alpha=0.5)\n",
    "\n",
    "plt.show()"
   ]
  },
  {
   "cell_type": "code",
   "execution_count": null,
   "metadata": {},
   "outputs": [],
   "source": [
    "tips[['total_bill', 'tip']].plot(kind='kde', alpha=0.5)\n",
    "\n",
    "plt.show()"
   ]
  },
  {
   "cell_type": "markdown",
   "metadata": {},
   "source": [
    "## Boxplot (상자그래프)"
   ]
  },
  {
   "cell_type": "code",
   "execution_count": null,
   "metadata": {},
   "outputs": [],
   "source": [
    "# tips.tip.plot(kind='box');\n",
    "tips.tip.plot(kind='box',\n",
    "\t\t\twhis=3)\t\t\t\t# whis : 정상범위 조절 값 (default : 1.5)\n",
    "\n",
    "plt.show()"
   ]
  },
  {
   "cell_type": "code",
   "execution_count": null,
   "metadata": {},
   "outputs": [],
   "source": [
    "tips[[ 'tip', 'total_bill']].plot(kind='box')\n",
    "\n",
    "plt.show()"
   ]
  },
  {
   "cell_type": "markdown",
   "metadata": {},
   "source": [
    "## scatter plot (산점도) "
   ]
  },
  {
   "cell_type": "code",
   "execution_count": null,
   "metadata": {},
   "outputs": [],
   "source": [
    "# Dataframe을 이용해서만 그린다.\n",
    "tips.plot(kind='scatter', x='total_bill', y='tip')\n",
    "\n",
    "plt.show()"
   ]
  },
  {
   "cell_type": "code",
   "execution_count": null,
   "metadata": {},
   "outputs": [],
   "source": [
    "# 실수는 연속형, 정수는 범주 or 연속형 -> 정수는 갯수를 통해 파악\n",
    "tips.plot(kind='scatter', x='size', y='tip')\n",
    "\n",
    "plt.show()"
   ]
  },
  {
   "cell_type": "code",
   "execution_count": null,
   "metadata": {},
   "outputs": [],
   "source": [
    "tips[['size', 'tip']].corr()"
   ]
  }
 ],
 "metadata": {
  "kernelspec": {
   "display_name": "Python 3.9.15 ('ml')",
   "language": "python",
   "name": "python3"
  },
  "language_info": {
   "codemirror_mode": {
    "name": "ipython",
    "version": 3
   },
   "file_extension": ".py",
   "mimetype": "text/x-python",
   "name": "python",
   "nbconvert_exporter": "python",
   "pygments_lexer": "ipython3",
   "version": "3.9.15"
  },
  "toc": {
   "base_numbering": 1,
   "nav_menu": {},
   "number_sections": true,
   "sideBar": true,
   "skip_h1_title": false,
   "title_cell": "Table of Contents",
   "title_sidebar": "Contents",
   "toc_cell": false,
   "toc_position": {},
   "toc_section_display": true,
   "toc_window_display": false
  },
  "varInspector": {
   "cols": {
    "lenName": 16,
    "lenType": 16,
    "lenVar": 40
   },
   "kernels_config": {
    "python": {
     "delete_cmd_postfix": "",
     "delete_cmd_prefix": "del ",
     "library": "var_list.py",
     "varRefreshCmd": "print(var_dic_list())"
    },
    "r": {
     "delete_cmd_postfix": ") ",
     "delete_cmd_prefix": "rm(",
     "library": "var_list.r",
     "varRefreshCmd": "cat(var_dic_list()) "
    }
   },
   "types_to_exclude": [
    "module",
    "function",
    "builtin_function_or_method",
    "instance",
    "_Feature"
   ],
   "window_display": false
  },
  "vscode": {
   "interpreter": {
    "hash": "8ea266b9a32e539376479ecefb4b43de94cddfc186952a2290bc119c664ac37e"
   }
  }
 },
 "nbformat": 4,
 "nbformat_minor": 2
}
