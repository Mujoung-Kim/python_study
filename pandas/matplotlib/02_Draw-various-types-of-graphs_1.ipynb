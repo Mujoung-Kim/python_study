{
 "cells": [
  {
   "cell_type": "markdown",
   "metadata": {},
   "source": [
    "# 1. 선 그래프 (Line plot) 그리기\n",
    "## 1.1 선 그래프(꺽은선 그래프)\n",
    "- 점과 점을 선으로 연결한 그래프\n",
    "- 시간의 흐름에 따른 변화를 표현할 때 많이 사용한다. (시계열)\n",
    "- `plot([x], y)` \n",
    "    - 1번인수 : x값(생략가능), 2번인수 y값\n",
    "    - 인수가 하나인 경우 y 축의 값으로 설정되고 X값은 (0 ~ len(y)-1) 범위로 지정된다.\n",
    "    - x,y 의 인수는 리스트 형태의 객체들을 넣는다.\n",
    "        - 리스트\n",
    "        - 튜플\n",
    "        - numpy 배열 (ndarray)\n",
    "        - 판다스 Series\n",
    "    - x와 y의 size는 같아야 한다.\n",
    "- 하나의 axes(subplot)에 여러 개의 선 그리기\n",
    "    - 같은 axes에 plot()를 여러번 실행한다."
   ]
  },
  {
   "cell_type": "markdown",
   "metadata": {},
   "source": [
    "## 1.2 선 스타일\n",
    "- https://matplotlib.org/3.0.3/gallery/lines_bars_and_markers/line_styles_reference.html"
   ]
  },
  {
   "cell_type": "code",
   "execution_count": null,
   "metadata": {},
   "outputs": [],
   "source": [
    "import matplotlib.pyplot as plt\n",
    "import numpy as np\n",
    "\n",
    "x = np.linspace(1, 10, num=100)\t\t\t# 1 ~ 10까지 숫자를 균등하게 100등분한 분위값들로 구성된 1차원 data_structure\n",
    "plt.figure(figsize=(10, 10))\n",
    "\n",
    "plt.plot(x, x + 3, marker='^')\n",
    "plt.plot(x, x + 2, linestyle='--')\n",
    "plt.plot(x, x + 1, linestyle='-.')\n",
    "plt.plot(x, x, linestyle=':')\n",
    "plt.plot(x, x + 4, linewidth='5')\n",
    "\n",
    "plt.show()"
   ]
  },
  {
   "cell_type": "markdown",
   "metadata": {},
   "source": [
    "## 1.3 선 그래프 활용\n",
    "- [서울시 연도별 황사 경보발령 현황](http://data.seoul.go.kr/dataList/datasetView.do?infId=OA-2227&srvType=S&serviceKind=1&currentPageNo=1)\n",
    "- 연도별 관측일수와 황사최대농도의 변화를 그래프로 시각화"
   ]
  },
  {
   "cell_type": "code",
   "execution_count": null,
   "metadata": {},
   "outputs": [],
   "source": [
    "import pandas as pd\n",
    "import matplotlib.pyplot as plt\n",
    "import numpy as np\n",
    "\n",
    "df = pd.read_csv('data/seoul_yellowdust_warningstatus.csv')\n",
    "df.shape"
   ]
  },
  {
   "cell_type": "code",
   "execution_count": null,
   "metadata": {},
   "outputs": [],
   "source": [
    "df.rename(columns={df.columns[-1] : '최대농도'}, inplace=True)\n",
    "df"
   ]
  },
  {
   "cell_type": "code",
   "execution_count": null,
   "metadata": {},
   "outputs": [],
   "source": [
    "# 년도에 따른 황사 최대 농도의 \"변화량\"\n",
    "plt.figure(figsize=(15, 5))\n",
    "plt.plot(df['년도'], df['최대농도'])\n",
    "plt.title('서울시 년도별 황사 최대농도의 변화 흐름')\n",
    "plt.xlabel('년도')\n",
    "plt.ylabel('최대농도')\n",
    "plt.grid(True, linestyle='--')\n",
    "\n",
    "plt.show()"
   ]
  },
  {
   "cell_type": "code",
   "execution_count": null,
   "metadata": {},
   "outputs": [],
   "source": [
    "# 주의보 발령일수, 경보 발령일수 비교\n",
    "plt.figure(figsize=(15, 5))\n",
    "plt.plot(df['년도'], df['경보 발령횟수'], label='경보발령횟수')\n",
    "# alpha : 투명도 지정 (0 ~ 1사이 실수)\n",
    "plt.plot(df['년도'], df['주의보 발령횟수'], label='주의보발령횟수', alpha=0.8)\n",
    "plt.title('서울시 황사 경보/주의보 년도별 변화 흐름')\n",
    "plt.grid(True, linestyle=':')\n",
    "\n",
    "plt.legend()\t# legend(loc='upper center') -> 위에서 가운데 가로(left, center, right) 세로(upper, center, lower)\n",
    "plt.show()"
   ]
  },
  {
   "cell_type": "markdown",
   "metadata": {},
   "source": [
    "## 최대 농도와 관측일 수의 연도별 변화를 시각화\n",
    "- ### 하나의 축을 공유하고 두개의 축을 가지는 그래프 그리기\n",
    "- 값의 범위(Scale)이 다른 두 값과 관련된 그래프를 한 Axes(subplot)에 그리는 경우\n",
    "- X축을 공유해 2개의 Y축을 가지는 그래프\n",
    "    - axes.twinx() 를 이용해 axes를 복사\n",
    "- Y축을 공유해 2개의 X축을 가지는 그래프\n",
    "    - axes.twiny() 를 이용해 axes를 복사"
   ]
  },
  {
   "cell_type": "code",
   "execution_count": null,
   "metadata": {},
   "outputs": [],
   "source": [
    "df[['년도', '관측일수', '최대농도']]\n",
    "\n",
    "plt.plot(df['년도'], df['관측일수'], label='관측일수')\n",
    "plt.title('년도 별 관측일수와 최대농도 흐름')\n",
    "plt.xlabel('년도')\n",
    "plt.ylabel('관측일수')\n",
    "plt.twinx()\n",
    "plt.plot(df['년도'], df['최대농도'], label='최대농도', color='red')\n",
    "plt.ylabel('최대농도')\n",
    "\n",
    "plt.legend(ncol=2)\n",
    "plt.show()"
   ]
  },
  {
   "cell_type": "code",
   "execution_count": null,
   "metadata": {},
   "outputs": [],
   "source": [
    "# ax = plt.gca()\n",
    "plt.plot(df['년도'], df['관측일수'], label='관측일수변화', color='#312C6A')\n",
    "plt.plot(df['년도'], df['최대농도'], label='최대농도변화', color='indianred')\n",
    "\n",
    "plt.legend(ncol=2)\n",
    "plt.show()"
   ]
  },
  {
   "cell_type": "code",
   "execution_count": null,
   "metadata": {},
   "outputs": [],
   "source": [
    "# y축을 다르게 해서 시각화, x축은 년도로 공유 -> axes.twinx()\n",
    "plt.figure(figsize=(15, 5))\n",
    "ax1 = plt.gca()\n",
    "ax2 = ax1.twinx()\t\t\t\t\t# ax1과 x축을 공유하는 subplot를 생성\n",
    "\n",
    "ax1.plot(df['년도'], df['관측일수'], label='관측일수변화', color='indianred')\n",
    "ax2.plot(df['년도'], df['최대농도'], label='최대농도변화', color='#312C6A')\n",
    "\n",
    "ax1.set_title('년도별 관측일수/최대농도 변화 추이', fontsize=30)\n",
    "ax1.set_xlabel('년도', fontsize=20)\n",
    "ax1.set_ylabel('관측일수', fontsize=20)\n",
    "ax2.set_ylabel('최대농도', fontsize=20)\n",
    "\n",
    "ax1.legend(bbox_to_anchor=[1.0, 1.0], loc='upper right')\n",
    "ax2.legend(bbox_to_anchor=[1.0, 0.9], loc='upper right')\n",
    "plt.show()"
   ]
  },
  {
   "cell_type": "markdown",
   "metadata": {},
   "source": [
    "> ## Legend box 설정\n",
    "> ### legend box 위치 지정\n",
    "> - loc : subplot box 안에 legend box를 위치시킬때 사용하며 미리 지정된 위치 이용 (vertical  horizontal). \n",
    ">     - vertical: lower, upper\n",
    ">     - horizontal: left, right\n",
    ">     - 가운데 왼쪽, 가운데 오른쪽: left, right 만 지정\n",
    ">     - 정가운데 : center\n",
    "> \n",
    "> - bbox_to_anchor, loc 같이 사용: 위치를 자유롭게 지정할 수 있다. 보통 subplot box 밖에 legend box를 위치시킬때 사용한다.\n",
    ">     - bbox_to_anchor: subplot box의 어느 위치(좌표)에 legend box를 위치할 지 지정. \n",
    ">     - tuple로 (x위치, y위치) 각 위치는 0 ~ 1사이 실수를 가진다.(0,1은 양 끝단)\n",
    ">     - loc: **legend box를 기준**으로 anchor(bbox_to_anchor의 좌표)의 위치를 지정한다. (upper right => legend box의 upper right에 bbox_to_anchor의 좌표가 위치하게 legend box를 둔다.)\n",
    "> \n",
    "> - bbox_to_anchor\n",
    "> ```\n",
    ">  전체 박스를 그래프라고 보고 \n",
    ">  하단 : (0,0), (1,0)\n",
    ">  상단 : (0,1), (1,1)\n",
    "> ```\n",
    "> \n",
    "> - ex)\n",
    "> ```\n",
    "> plt.legend(bbox_to_anchor=(0.5,1), loc='upper right')\n",
    "> ```\n",
    "> \n",
    "> - anchor 좌표: 수평: 중간(0.5), 수직: 상단\n",
    "> - legend box 위치: legend box의 위 오른쪽에 anchor가 있도록 한다. (anchor기준으로는 legend box는 아래 왼쪽에 있게 된다.) **기준이 legend box다**\n",
    "> \n",
    "> ## legend box 기타 설정\n",
    "> - ncol : 정수 \n",
    ">     - label을 지정한 개수의 열에 나오도록 한다.\n",
    ">     - 범례의 항목이 만들때 사용\n",
    "> - fontsize: 정수 \n",
    ">     - 글자 크기 지정 (10이 기본)"
   ]
  },
  {
   "cell_type": "markdown",
   "metadata": {},
   "source": [
    "# 2. 산점도 (Scatter Plot) 그리기\n",
    "## 2.1 산점도(산포도)\n",
    "- X와 Y축을 가지는 좌표평면상 관측값들을 점을 찍어 표시하는 그래프\n",
    "- 변수(Feature)간의 상관성이나 관측값들 간의 군집 분류를 확인할 수 있다.\n",
    "- `scatter()` 메소드 사용\n",
    "    - 1번인수 : x값, 2번인수 y값\n",
    "    - x와 y값들을 모두 매개변수로 전달해야 한다.\n",
    "    - x,y 의 인수는 스칼라 실수나 리스트 형태의 객체들을 넣는다.\n",
    "        - 리스트\n",
    "        - 튜플\n",
    "        - numpy 배열 (ndarray)\n",
    "        - 판다스 Series\n",
    "    - x와 y의 원소의 수는 같아야 한다."
   ]
  },
  {
   "cell_type": "code",
   "execution_count": null,
   "metadata": {},
   "outputs": [],
   "source": [
    "df[['주의보 발령횟수', '경보 발령횟수']]"
   ]
  },
  {
   "cell_type": "code",
   "execution_count": null,
   "metadata": {},
   "outputs": [],
   "source": [
    "import matplotlib.pyplot as plt\n",
    "import numpy as np\n",
    "\n",
    "x = range(1, 1001, 50)\n",
    "y = range(1, 1001, 50)\n",
    "y2 = range(1000, 0, -50)\n",
    "\n",
    "plt.scatter(x, y, marker=',')\n",
    "plt.scatter(x, y2, marker='*', s=200, alpha=0.5)\n",
    "plt.show()"
   ]
  },
  {
   "cell_type": "markdown",
   "metadata": {},
   "source": [
    "## 2.2 설정\n",
    "- marker (마커)\n",
    "    - marker란 점의 모양을 말하며 미리정의된 값으로 변경할 수있다.\n",
    "    - scatter() 메소드의 marker 매개변수를 이용해 변경한다. \n",
    "    - https://matplotlib.org/stable/api/markers_api.html\n",
    "- s\n",
    "    - 정수: 마커의 크기\n",
    "- alpha    \n",
    "    - 하나의 마커에 대한 투명도\n",
    "    - 0 ~ 1 사이 실수를 지정 (default 1)"
   ]
  },
  {
   "cell_type": "markdown",
   "metadata": {},
   "source": [
    "## 2.3 산점도 활용"
   ]
  },
  {
   "cell_type": "code",
   "execution_count": null,
   "metadata": {},
   "outputs": [],
   "source": [
    "dia  = pd.read_csv('./data/diamonds.csv')\n",
    "dia.shape"
   ]
  },
  {
   "cell_type": "code",
   "execution_count": null,
   "metadata": {},
   "outputs": [],
   "source": [
    "dia.info()"
   ]
  },
  {
   "cell_type": "markdown",
   "metadata": {
    "ExecuteTime": {
     "end_time": "2019-05-30T11:14:18.512652Z",
     "start_time": "2019-05-30T11:14:18.397981Z"
    }
   },
   "source": [
    "###  캐럿(carat)과 가격(Price)간의 상관관계 시각화"
   ]
  },
  {
   "cell_type": "code",
   "execution_count": null,
   "metadata": {},
   "outputs": [],
   "source": [
    "# 상관관계 -> 비례 or 반비례 관계인지 확인\n",
    "# 원인이 되는것 -> x축 / 결과가 되는것 -> y축을 지정\n",
    "plt.figure(figsize=(7, 7))\n",
    "plt.scatter(dia['carat'], dia['price'], alpha=0.1)\n",
    "plt.xlabel('carat')\n",
    "plt.ylabel('price')\n",
    "\n",
    "plt.show()"
   ]
  },
  {
   "cell_type": "markdown",
   "metadata": {},
   "source": [
    "> - 상관계수 \n",
    ">     - 두 변수간의 상관관계(연관관계)를 수치적으로 계산한 값.\n",
    ">         - 양수: 양의 상관관계(비례), 음수: 음의 상관관계(반비례)\n",
    ">             - 양: 0 ~ 1,  음: -1 ~ 0\n",
    ">         - 1로 갈수록 강한상관관계, 0으로 갈수록 약한 상관관계\n",
    ">             - 1 ~ 0.7: 아주 강한 상관관계\n",
    ">             - 0.7 ~ 0.3 : 강한 상관관계\n",
    ">             - 0.3 ~ 0.1 : 약한 상관관계\n",
    ">             - 0.1 ~ 0 : 관계없다."
   ]
  },
  {
   "cell_type": "code",
   "execution_count": null,
   "metadata": {},
   "outputs": [],
   "source": [
    "# numpy -> numpy.corrcodf(x, y)\n",
    "# pandas -> df.corr()\n",
    "np.corrcoef(dia['carat'], dia['price'])"
   ]
  },
  {
   "cell_type": "code",
   "execution_count": null,
   "metadata": {},
   "outputs": [],
   "source": [
    "\"\"\"상관관계 결과\n",
    "[\t\tcarat\t\tprice\n",
    "carat\t[1.       , 0.9215913],\n",
    "price\t[0.9215913, 1.       ]\n",
    "]\n",
    "\"\"\""
   ]
  },
  {
   "cell_type": "code",
   "execution_count": null,
   "metadata": {},
   "outputs": [],
   "source": [
    "dia.corr()"
   ]
  },
  {
   "cell_type": "markdown",
   "metadata": {},
   "source": [
    "# 3. 막대그래프 (Bar plot) 그리기\n",
    "## 3.1 막대그래프(Bar plot)\n",
    "\n",
    "- 수량/값의 크기를 비교하기 위해 막대 형식으로 나타낸 그래프\n",
    "- 범주형 데이터의 class별 개수를 확인할 때 사용\n",
    "- bar(x, height) 메소드 사용\n",
    "    - x : x값, height:  막대 높이\n",
    "        - X는 분류값, height는 개수\n",
    "- barh(y, width) 메소드\n",
    "    - 수평막대 그래프\n",
    "    - 1번인수: y값, 2번인수: 막대 너비  \n",
    "- 매개변수\n",
    "    - 첫번째: 수량을 셀 대상\n",
    "    - 두번째: 수량"
   ]
  },
  {
   "cell_type": "code",
   "execution_count": null,
   "metadata": {},
   "outputs": [],
   "source": [
    "import matplotlib.pyplot as plt\n",
    "\n",
    "fruits = ['apple', 'banana', 'watermelon', 'mango']\n",
    "amounts = [150, 70, 90, 250]\n",
    "\n",
    "plt.figure(figsize=(15, 7))\n",
    "plt.subplot(121)\n",
    "plt.bar(fruits, amounts, width=0.5)\n",
    "# 각 막대에 수량값을 text로 그리기 -> plt.text(x위치, y위치, text)\n",
    "# x, y위치 -> tick_value으로 지정\n",
    "for x_coor, y_coor in enumerate(amounts) :\n",
    "\tplt.text(x_coor - 0.07, y_coor + 2, str(y_coor))\n",
    "\n",
    "plt.xlabel('fruit')\n",
    "plt.ylabel('amount')\n",
    "plt.ylim(0, 270)\t\t\t# y축의 값의 범위를 지정\n",
    "plt.grid(True, linestyle=':')\n",
    "\n",
    "plt.subplot(122)\n",
    "plt.barh(fruits, amounts, height=0.2)\n",
    "plt.xlabel('amount')\n",
    "plt.ylabel('fruit')\n",
    "plt.grid(True)\n",
    "\n",
    "plt.tight_layout()\t\t\t# 한 개의 figure에 여러 개의 subplot을 작성할 때 배치를 알맞게 해준다.\n",
    "plt.show()"
   ]
  },
  {
   "cell_type": "markdown",
   "metadata": {},
   "source": [
    "## 3.2 막대그래프 활용\n",
    "- [강수량추이](http://www.index.go.kr/potal/main/EachDtlPageDetail.do?idx_cd=1401)"
   ]
  },
  {
   "cell_type": "code",
   "execution_count": null,
   "metadata": {},
   "outputs": [],
   "source": [
    "rain = pd.read_excel('./data/precipitation.xlsx', index_col=0)\n",
    "rain"
   ]
  },
  {
   "cell_type": "code",
   "execution_count": null,
   "metadata": {},
   "outputs": [],
   "source": [
    "# 2009년도의 계절별 강수량을 비교\n",
    "plt.figure(figsize=(5, 3))\n",
    "\n",
    "plt.bar(rain.index, rain[2009])\n",
    "plt.ylabel('강수량')\n",
    "\n",
    "plt.show()"
   ]
  },
  {
   "cell_type": "code",
   "execution_count": null,
   "metadata": {},
   "outputs": [],
   "source": [
    "# 년도별 봄 강수량 비교\n",
    "plt.figure(figsize=(15, 15))\n",
    "\n",
    "plt.subplot(211)\n",
    "plt.bar(rain.columns, rain.loc['봄'])\n",
    "plt.xlabel('년도')\n",
    "plt.ylabel('강수량')\n",
    "\n",
    "plt.subplot(212)\n",
    "plt.plot(rain.columns, rain.loc['봄'])\n",
    "plt.xlabel('년도')\n",
    "plt.ylabel('강수량')\n",
    "\n",
    "plt.show()"
   ]
  }
 ],
 "metadata": {
  "kernelspec": {
   "display_name": "Python 3.9.15 ('ml')",
   "language": "python",
   "name": "python3"
  },
  "language_info": {
   "codemirror_mode": {
    "name": "ipython",
    "version": 3
   },
   "file_extension": ".py",
   "mimetype": "text/x-python",
   "name": "python",
   "nbconvert_exporter": "python",
   "pygments_lexer": "ipython3",
   "version": "3.9.15"
  },
  "toc": {
   "base_numbering": 1,
   "nav_menu": {},
   "number_sections": false,
   "sideBar": true,
   "skip_h1_title": false,
   "title_cell": "Table of Contents",
   "title_sidebar": "Contents",
   "toc_cell": false,
   "toc_position": {
    "height": "calc(100% - 180px)",
    "left": "10px",
    "top": "150px",
    "width": "341.333px"
   },
   "toc_section_display": true,
   "toc_window_display": false
  },
  "varInspector": {
   "cols": {
    "lenName": 16,
    "lenType": 16,
    "lenVar": 40
   },
   "kernels_config": {
    "python": {
     "delete_cmd_postfix": "",
     "delete_cmd_prefix": "del ",
     "library": "var_list.py",
     "varRefreshCmd": "print(var_dic_list())"
    },
    "r": {
     "delete_cmd_postfix": ") ",
     "delete_cmd_prefix": "rm(",
     "library": "var_list.r",
     "varRefreshCmd": "cat(var_dic_list()) "
    }
   },
   "types_to_exclude": [
    "module",
    "function",
    "builtin_function_or_method",
    "instance",
    "_Feature"
   ],
   "window_display": false
  },
  "vscode": {
   "interpreter": {
    "hash": "8ea266b9a32e539376479ecefb4b43de94cddfc186952a2290bc119c664ac37e"
   }
  }
 },
 "nbformat": 4,
 "nbformat_minor": 2
}
