{
 "cells": [
  {
   "cell_type": "markdown",
   "metadata": {},
   "source": [
    "## 정렬\n",
    "### index명/컬럼명을 순 정렬\n",
    "- #### sort_index(axis, ascending=True)\n",
    "    - axis\n",
    "        - index명 기준 정렬(행) : 'index' 또는 0 (기본값)\n",
    "        - columnm 명 기준 정렬(열) : 'columns' 또는 1\n",
    "    - ascending\n",
    "        - 정렬방식\n",
    "        - True(기본): 오름차순, False: 내림차순\n",
    "    - inplace\n",
    "        - 원본에 적용 여부\n",
    "        - False(기본): 변경한 복사본 반환 \n",
    "        - True : 원본을 변경"
   ]
  },
  {
   "cell_type": "code",
   "execution_count": null,
   "metadata": {},
   "outputs": [],
   "source": [
    "import pandas as pd\n",
    "import numpy as np\n",
    "\n",
    "path = './data/movie.csv'\n",
    "\n",
    "movie_df = pd.read_csv(path, index_col='movie_title')\n",
    "movie_df.head()"
   ]
  },
  {
   "cell_type": "code",
   "execution_count": null,
   "metadata": {},
   "outputs": [],
   "source": [
    "# columns_name 기준 정렬\n",
    "movie_df.sort_index(axis=1).head()\t\t\t\t\t\t# axis='columns'\n",
    "movie_df.sort_index(axis=1, ascending=False).head()"
   ]
  },
  {
   "cell_type": "code",
   "execution_count": null,
   "metadata": {},
   "outputs": [],
   "source": [
    "# index_name 기준 정렬\n",
    "movie_df.sort_index().head()\t\t\t\t# 유니코드 기준\n",
    "movie_df.sort_index(ascending=False).head()\t# 다국어 처리가 뒤로감"
   ]
  },
  {
   "cell_type": "code",
   "execution_count": null,
   "metadata": {},
   "outputs": [],
   "source": [
    "# movie_df.loc['S':'T']\t\t\t\t# sort를 하고나면 가능\n",
    "movie_df2 = movie_df.sort_index()\n",
    "movie_df2"
   ]
  },
  {
   "cell_type": "code",
   "execution_count": null,
   "metadata": {},
   "outputs": [],
   "source": [
    "movie_df2.loc['A':'C']\t\t\t\t# A로 시작하는 name ~ C로 시작하는 name (전까지)"
   ]
  },
  {
   "cell_type": "markdown",
   "metadata": {},
   "source": [
    "### 컬럼 값 기준 정렬\n",
    "- #### sort_values(by, ascending, inplace)\n",
    "    - by\n",
    "        - 정렬기준 컬럼명\n",
    "        - 여러 컬럼에 대해 정렬할 경우 리스트에 담아 전달\n",
    "    - ascending\n",
    "        - 정렬방식\n",
    "        - True(기본): 오름차순, False: 내림차순\n",
    "        - 여러컬럼에 대해 정렬할 경우 정렬방식도 리스트에 담아 전달\n",
    "    - inplace\n",
    "        - 원본에 적용 여부\n",
    "        - False(기본): 변경한 복사본 반환 \n",
    "        - True : 원본을 변경\n",
    "    - 결측치는 방식과 상관없이 마지막에 나온다."
   ]
  },
  {
   "cell_type": "code",
   "execution_count": null,
   "metadata": {},
   "outputs": [],
   "source": [
    "movie_df.sort_values('director_name').head()\t\t# 기준 : director_name, 방식 : 오름차순(default)\n",
    "# 결측치는 오름차순, 내림차순 상관없이 제일 뒤로 붙음\n",
    "movie_df.sort_values('director_name', ascending=False)"
   ]
  },
  {
   "cell_type": "code",
   "execution_count": null,
   "metadata": {},
   "outputs": [],
   "source": [
    "# duration으로 먼저 정렬하고, duration이 같은 index끼리는 num_critic_for_reviews 2차 정렬\n",
    "movie_df.sort_values(['duration', 'num_critic_for_reviews']).head(30)"
   ]
  },
  {
   "cell_type": "code",
   "execution_count": null,
   "metadata": {},
   "outputs": [],
   "source": [
    "# 오름차순, 내림차순을 각각의 columns에 적용할 때\n",
    "movie_df.sort_values(['duration', 'num_critic_for_reviews'], ascending=[True, False]).head(30)"
   ]
  },
  {
   "cell_type": "markdown",
   "metadata": {},
   "source": [
    "## flights.csv (항공기 운항 기록 데이터)\n",
    "- MONTH : 비행 월\n",
    "- DAY : 비행 일\n",
    "- WEEKDAY : 비행 요일 - 1(월요일)~7(일요일)\n",
    "- AIRLINE : 항공사 코드\n",
    "     - UA:\tUnited Air Lines Inc.\n",
    "     - AA:\tAmerican Airlines Inc.\n",
    "     - US:\tUS Airways Inc.\n",
    "     - F9:\tFrontier Airlines Inc.\n",
    "     - B6:\tJetBlue Airways\n",
    "     - OO:\tSkywest Airlines Inc.\n",
    "     - AS:\tAlaska Airlines Inc.\n",
    "     - NK:\tSpirit Air Lines\n",
    "     - WN:\tSouthwest Airlines Co.\n",
    "     - DL:\tDelta Air Lines Inc.\n",
    "     - EV:\tAtlantic Southeast Airlines\n",
    "     - HA:\tHawaiian Airlines Inc.\n",
    "     - MQ:\tAmerican Eagle Airlines Inc.\n",
    "     - VX:\tVirgin America\n",
    "- ORG_AIR : 출발공항\n",
    "- DEST_AIR : 도착공항\n",
    "- SCHED_DEP : 출발예정시각\n",
    "- DEP_DELAY : 출발지연시간(분)\n",
    "- AIR_TIME : 비행시간(분)\n",
    "- DIST : 비행거리(마일)\n",
    "- SCHED_ARR : 도착예정시각\n",
    "- ARR_DELAY : 도착지연시간(분)\n",
    "- DIVERTED : 회항여부(1: True, 0: False)\n",
    "- CANCELLED : 취소여부(1: True, 0: False)"
   ]
  },
  {
   "cell_type": "code",
   "execution_count": null,
   "metadata": {},
   "outputs": [],
   "source": [
    "import pandas as pd\n",
    "import numpy as np\n",
    "\n",
    "path = './data/flights.csv'\n",
    "flights_df = pd.read_csv(path)\n",
    "flights_df.shape"
   ]
  },
  {
   "cell_type": "code",
   "execution_count": null,
   "metadata": {},
   "outputs": [],
   "source": [
    "flights_df.head()"
   ]
  },
  {
   "cell_type": "code",
   "execution_count": null,
   "metadata": {},
   "outputs": [],
   "source": [
    "flights_df['AIRLINE'].value_counts()"
   ]
  },
  {
   "cell_type": "code",
   "execution_count": null,
   "metadata": {},
   "outputs": [],
   "source": [
    "flights_df['ORG_AIR'].value_counts()"
   ]
  },
  {
   "cell_type": "code",
   "execution_count": null,
   "metadata": {},
   "outputs": [],
   "source": [
    "flights_df['DIVERTED'].value_counts()"
   ]
  },
  {
   "cell_type": "code",
   "execution_count": null,
   "metadata": {},
   "outputs": [],
   "source": [
    "flights_df['CANCELLED'].value_counts()"
   ]
  },
  {
   "cell_type": "code",
   "execution_count": null,
   "metadata": {},
   "outputs": [],
   "source": [
    "flights_df.info()"
   ]
  },
  {
   "cell_type": "code",
   "execution_count": null,
   "metadata": {},
   "outputs": [],
   "source": [
    "flights_df.isna().sum()"
   ]
  },
  {
   "cell_type": "markdown",
   "metadata": {},
   "source": [
    "## 기술통계메소드들을 이용한 데이터 집계\n",
    "### 주요 기술통계 메소드\n",
    "\n",
    "|함수|설명|\n",
    "|-|-|\n",
    "|**sum()**|합계|\n",
    "|**mean()**|평균|\n",
    "|**median()**|중위수|\n",
    "|**mode()**|최빈값|\n",
    "|**quantile()**|분위수|\n",
    "|**std()**|표준편차|\n",
    "|**var()**|분산|\n",
    "|**count()**|결측치를 제외한 원소 개수|\n",
    "|**min()**|최소값|\n",
    "|**max()**|최대값|\n",
    "|**idxmax()**|최대값 index|\n",
    "|**idxmin()**|최소값 index|\n",
    "|**unique()**|고유값|\n",
    "|**nunique()**|고유값의 개수|\n",
    "\n",
    "<center>cf) value_counts()는 Series에만 사용할 수 있다.</center>\n",
    "\n",
    "\n",
    "- DataFrame에 위의 기술 통계 메소드들을 적용할 경우 컬럼별로 계산\n",
    "- sum(), mode(), max(), min(), unique(), nunique(), count()는 문자열에 적용가능\n",
    "    - idxmax(), idxmin() 는 문자열 컬럼에 사용할 수 없다. np.argmax(), np.argmin()을 사용한다.\n",
    "- 공통 매개변수\n",
    "    - skipna=True(기본값)\n",
    "        - 통계량 계산시 결측치를 포함할지 말지 설정.\n",
    "        - True가 기본값으로 결측치(NA)를 제외하고 처리한다. \n",
    "        - 결측치 제외하지 않으려면 skipna=False로 설정하는데 그럼 결측치가 있으면 결과는 결측치가 된다.\n",
    "    - axis\n",
    "        - DataFrame에 적용할 때 0 방향으로 계산할 지 1 방향으로 계산할지 설정\n",
    "            - 0 또는 'index' (기본값): 컬럼 방향으로 집계\n",
    "            - 1 또는 'columns': 행 방향으로 집계"
   ]
  },
  {
   "cell_type": "code",
   "execution_count": null,
   "metadata": {},
   "outputs": [],
   "source": [
    "flights_df.sum()\n",
    "# 문자열 columns : value들을 이어 붙인다.\n",
    "flights_df.min()\n",
    "# 문자열 적용 : 사전식 배열로 가장 먼저 나오는 것\n",
    "# 특수문자 < 숫자 < 대문자 < 소문자 < 한글\n",
    "# ex). \"가나다\", \"abc\", \"ABC\", \"123\", \"!@#\"\n",
    "flights_df.max()"
   ]
  },
  {
   "cell_type": "code",
   "execution_count": null,
   "metadata": {},
   "outputs": [],
   "source": [
    "# 문자열 colums는 빼고 계산\n",
    "flights_df.mean()\n",
    "flights_df.std()\n",
    "flights_df.var()"
   ]
  },
  {
   "cell_type": "code",
   "execution_count": null,
   "metadata": {},
   "outputs": [],
   "source": [
    "flights_df.isnull().sum()"
   ]
  },
  {
   "cell_type": "code",
   "execution_count": null,
   "metadata": {},
   "outputs": [],
   "source": [
    "# 결측치가 있는 columns\n",
    "flights_df[['DEP_DELAY', 'AIR_TIME', 'ARR_DELAY']].mean()\t\t# 결측치를 빼고 계산한 평균"
   ]
  },
  {
   "cell_type": "code",
   "execution_count": null,
   "metadata": {},
   "outputs": [],
   "source": [
    "flights_df.mean(skipna=False)\t\t\t\t# 결측치가 있는 상태로 계산"
   ]
  },
  {
   "cell_type": "markdown",
   "metadata": {},
   "source": [
    "### aggregate(func, axis=0, \\*args, \\*\\*kwargs) 또는 agg(func, axis=0, \\*args, \\**kwargs)\n",
    "- DataFrame, Series의 메소드로 집계결과를 다양한 형태로 묶어서 볼때 사용한다.\n",
    "    - **사용자 정의 집계메소드를 사용할 때도 편리하다.**\n",
    "- 매개변수\n",
    "    - func \n",
    "        - 집계 함수 지정\n",
    "            - 함수명/함수리스트 (문자열)\n",
    "                - 판다스 제공 집계메소드들은 문자열로, 사용자정의 집계함수는 함수 객체로 전달\n",
    "            - 딕션어리 : {'집계할컬럼' : 집계함수, ... }\n",
    "                - 컬럼별로 다른 집계를 할 경우\n",
    "    - axis\n",
    "        - DataFrame에 적용할 때 0 방향으로 계산할 지 1 방향으로 계산할지 설정\n",
    "            - 0 또는 'index' (기본값): 컬럼 방향으로 집계\n",
    "            - 1 또는 'columns': 행 방향으로 집계\n",
    "    - \\*args, \\**kwargs \n",
    "        - 함수에 전달할 매개변수. \n",
    "        - 집계함수는 첫번째 매개변수로 Series를 받는다. 그 이외의 매개변수가 있는 경우. "
   ]
  },
  {
   "cell_type": "code",
   "execution_count": null,
   "metadata": {},
   "outputs": [],
   "source": [
    "# pandas 제공 fuction -> 문자열로 function_name 설정\n",
    "# 여러 개의 통계function들을 묶어서 조회\n",
    "flights_df.aggregate(['min', 'max']).T"
   ]
  },
  {
   "cell_type": "code",
   "execution_count": null,
   "metadata": {},
   "outputs": [],
   "source": [
    "flights_df[['DEP_DELAY', 'ARR_DELAY']].agg(['min', 'max', 'mean'])"
   ]
  },
  {
   "cell_type": "code",
   "execution_count": null,
   "metadata": {},
   "outputs": [],
   "source": [
    "# Serise에 적용\n",
    "flights_df['ARR_DELAY'].agg(['sum', 'mean', 'count'])"
   ]
  },
  {
   "cell_type": "code",
   "execution_count": null,
   "metadata": {},
   "outputs": [],
   "source": [
    "# columns별로 다른 통계치를 계산할 경우\n",
    "# {columns_name:function, columns_name:[function, function]}\n",
    "flights_df.agg({'DEP_DELAY':'sum', 'ARR_DELAY':'mean'})"
   ]
  },
  {
   "cell_type": "code",
   "execution_count": null,
   "metadata": {},
   "outputs": [],
   "source": [
    "flights_df.agg({\n",
    "\t'DEP_DELAY':'sum',\n",
    "\t'ARR_DELAY':['min', 'max'],\n",
    "\t'AIR_TIME':'median'\n",
    "})"
   ]
  },
  {
   "cell_type": "code",
   "execution_count": null,
   "metadata": {},
   "outputs": [],
   "source": [
    "# 사용자 정의 통계 function\n",
    "# parameter를 한 개이상 선언 -> 첫 번째 parameter로 series를 받는다\n",
    "def min_max_diff(columns):\n",
    "\t\"\"\"\n",
    "\tcolumns의 min과 max의 차이를 계산하는 통계funciton\n",
    "\t[parameter]\n",
    "\t\tcolumns: series - min/max차이를 계산할 column의 값들을 series로 받는다.\n",
    "\t[return]\n",
    "\t\tfloat: min/max 값의 차이 (max - min). None - 문자열 columns일 때\n",
    "\t\"\"\"\n",
    "\tif columns.dtype == 'object':\n",
    "\t\treturn None\n",
    "\n",
    "\treturn columns.max() - columns.min()"
   ]
  },
  {
   "cell_type": "code",
   "execution_count": null,
   "metadata": {},
   "outputs": [],
   "source": [
    "min_max_diff(flights_df['ARR_DELAY'])"
   ]
  },
  {
   "cell_type": "code",
   "execution_count": null,
   "metadata": {},
   "outputs": [],
   "source": [
    "# aggregate()에 사용자 정의 통계function을 전달할 때 : function_object를 전달\n",
    "flights_df.agg(min_max_diff)"
   ]
  },
  {
   "cell_type": "code",
   "execution_count": null,
   "metadata": {},
   "outputs": [],
   "source": [
    "flights_df.agg(['min', 'max', min_max_diff]).T"
   ]
  },
  {
   "cell_type": "markdown",
   "metadata": {},
   "source": [
    "# Groupby\n",
    "- 특정 열을 기준으로 데이터셋을 묶는다.\n",
    "- ~~ 별 집계를 할 때 사용한다.\n",
    "- 구문\n",
    "    - DF.groupby('그룹으로묶을기준컬럼')['집계할 컬럼'].집계함수()\n",
    "        - groupby에 여러개의 컬럼을 기준으로 나눌 경우 리스트에 묶어서 전달한다.\n",
    "        - 집계할 컬럼이 여러개인 경우 리스트로 묶어준다.\n",
    "    - 집계함수\n",
    "        - 기술통계 함수들\n",
    "        - agg()/aggregate()\n",
    "            - 여러 다른 집계함수 호출시(여러 집계를 같이 볼경우)\n",
    "            - 사용자정의 집계함수 호출시\n",
    "            - 컬럼별로 다른 집계함수들을 호출할 경우"
   ]
  },
  {
   "cell_type": "code",
   "execution_count": null,
   "metadata": {},
   "outputs": [],
   "source": [
    "flights_df['AIRLINE'].unique()"
   ]
  },
  {
   "cell_type": "code",
   "execution_count": null,
   "metadata": {},
   "outputs": [],
   "source": [
    "# 어떤 행끼리 같은 그룹으로 묶였는지 조회\n",
    "g = flights_df.groupby('AIRLINE').groups\n",
    "g"
   ]
  },
  {
   "cell_type": "code",
   "execution_count": null,
   "metadata": {},
   "outputs": [],
   "source": [
    "flights_df.iloc[[3, 6, 8, 15, 26, 32, 33, 36, 37, 41, 46, 47]]"
   ]
  },
  {
   "cell_type": "code",
   "execution_count": null,
   "metadata": {},
   "outputs": [],
   "source": [
    "# AIRLINE별 DEP_DELAY의 평균은?\n",
    "flights_df.groupby('AIRLINE')['DEP_DELAY'].mean().sort_values()"
   ]
  },
  {
   "cell_type": "code",
   "execution_count": null,
   "metadata": {},
   "outputs": [],
   "source": [
    "# AIRLINE별 DEP_DELAY, ARR_DELAY의 평균은?\n",
    "flights_df.groupby('AIRLINE')[['DEP_DELAY', 'ARR_DELAY']].mean()"
   ]
  },
  {
   "cell_type": "code",
   "execution_count": null,
   "metadata": {},
   "outputs": [],
   "source": [
    "# AIRLINE별 DEP_DELAY, ARR_DELAY의 최소값, 최대값, 평균?\n",
    "flights_df.groupby('AIRLINE')[['DEP_DELAY', 'ARR_DELAY']].agg(['min', 'max', 'mean'])"
   ]
  },
  {
   "cell_type": "markdown",
   "metadata": {},
   "source": [
    "###  복수열 기준 그룹핑\n",
    "- 두개 이상의 열을 그룹으로 묶을 수 있다. \n",
    "- groupby의 매개변수에 그룹으로 묶을 컬럼들의 이름을 리스트로 전달한다."
   ]
  },
  {
   "cell_type": "code",
   "execution_count": null,
   "metadata": {},
   "outputs": [],
   "source": [
    "flights_df.groupby(['ORG_AIR', 'DEST_AIR']).groups"
   ]
  },
  {
   "cell_type": "code",
   "execution_count": null,
   "metadata": {},
   "outputs": [],
   "source": [
    "flights_df.iloc[[2301, 3377, 5181, 9110, 9683, 10555, 11829, 13186, 13506, 18301, 19741, 20011, 24060, 26643, 26784, 26910, 27199, 28273, 29610, 30024, 31592, 31605, 33482, 34971, 37112, 37120, 39797, 43052, 44617, 47595, 56213]]"
   ]
  },
  {
   "cell_type": "code",
   "execution_count": null,
   "metadata": {},
   "outputs": [],
   "source": [
    "flights_df.groupby(['ORG_AIR', 'DEST_AIR']).mean().head(60)"
   ]
  },
  {
   "cell_type": "code",
   "execution_count": null,
   "metadata": {},
   "outputs": [],
   "source": [
    "# 같은 날짜에 출발한 항공편의 도착/출발 지연시간의 평균\n",
    "flights_df.groupby(['MONTH', 'DAY'])[['DEP_DELAY', 'ARR_DELAY']].mean()"
   ]
  },
  {
   "cell_type": "code",
   "execution_count": null,
   "metadata": {},
   "outputs": [],
   "source": [
    "flights_df.groupby(['MONTH', 'DAY'])[['DEP_DELAY', 'ARR_DELAY']].agg(['min', 'max', min_max_diff])"
   ]
  },
  {
   "cell_type": "markdown",
   "metadata": {},
   "source": [
    "## SQL having 처럼 집계한 것 중 특정 조건의 항목만 보기\n",
    "- 집계 후 boolean indexing으로 having절 처리\n"
   ]
  },
  {
   "cell_type": "code",
   "execution_count": null,
   "metadata": {},
   "outputs": [],
   "source": [
    "# 항공사별로 취소 횟수가 100건 이상인 항공사를 조회\n",
    "result = flights_df.groupby('AIRLINE')['CANCELLED'].sum()\n",
    "result[result >= 100]"
   ]
  },
  {
   "cell_type": "markdown",
   "metadata": {},
   "source": [
    "## 사용자 정의 집계함수를 만들어 적용\n",
    "\n",
    "### 사용자 정의 집계 함수 정의\n",
    "- 매개변수\n",
    "    1. Series 또는 DataFrame을 받을 매개변수(필수)\n",
    "    2. 필요한 값을 받을 매개변수를 선언한다. (선택)\n",
    "\n",
    "### agg() 를 사용해 사용자 정의 집계 함수 호출\n",
    "- DataFrame.agg(func=None, axis=0, \\*args, \\*\\*kwargs)\n",
    "    - axis : 사용자 정의 함수에 전달할 값들(Series)의 축 지정\n",
    "- Series.agg(func=None, axis=0, \\*args, \\*\\*kwargs)\n",
    "    - DataFrame의 agg와 매개변수 구조를 맞추기 위해 axis 지정한다. (kwargs를 이용해 매개변수 전달할 경우 axis는 생략해도 된다. - axis기본값 0을 그냥 쓰면 되므로. - keyword 인자 뒤에 position 인자는 안되서 *args로 값 전달시에는 axis를 지정해야 한다.)\n",
    "- DataFrameGroupBy.agg(func, \\*args, \\*\\*kwargs) : \n",
    "    - axis 지정안함.\n",
    "    - 사용자 함수에 Series를 group 별로 전달한다.\n",
    "- SeriesGroupBy.agg(func=None,  \\*args, \\*\\*kwargs)  \n",
    "    - axis 지정안함\n",
    "    - 사용자 함수에 Series를 group 별로 전달한다.\n",
    "  \n",
    "- \\*args, \\*\\*kwargs는 사용자 정의 함수에 선언한 매개변수가 있을 경우 전달할 값을 전달한다.  \n",
    "    - 키워드 인자를 이용해 가변인자로 전달하는 것이 편하다."
   ]
  },
  {
   "cell_type": "markdown",
   "metadata": {},
   "source": [
    "#### 매개변수 없는 사용자 정의 함수\n",
    "- 최대 값과 최소값의 차이를 반환"
   ]
  },
  {
   "cell_type": "code",
   "execution_count": null,
   "metadata": {},
   "outputs": [],
   "source": [
    "# 사용자 정의 통계 function\n",
    "# parameter를 한 개이상 선언 -> 첫 번째 parameter로 series를 받는다\n",
    "def min_max_diff(columns):\n",
    "\t\"\"\"\n",
    "\tcolumns의 min과 max의 차이를 계산하는 통계funciton\n",
    "\t[parameter]\n",
    "\t\tcolumns: series - min/max차이를 계산할 column의 값들을 series로 받는다.\n",
    "\t[return]\n",
    "\t\tfloat: min/max 값의 차이 (max - min). None - 문자열 columns일 때\n",
    "\t\"\"\"\n",
    "\tif columns.dtype == 'object':\n",
    "\t\treturn None\n",
    "\n",
    "\treturn columns.max() - columns.min()"
   ]
  },
  {
   "cell_type": "markdown",
   "metadata": {},
   "source": [
    "# TODO\n",
    "1. data/diamonds.csv 를 읽어 DataFrame 생성\n",
    "2. 1에서 생성한 DataFrame의 정보 조회\n",
    "    - 배열의 shape조회\n",
    "    - DataFrame에 대한 정보조회\n",
    "    - 상/하위 5개 행 조회\n",
    "    - 결측치 확인\n",
    "3. carat, price, depth의 합계, 평균, 최대, 최소 조회\n",
    "4. price는 최대, 최소, color는 고유값의 개수를 조회\n",
    "5. cut의 고유값별 개수를 조회\n",
    "6. cut별 가격 평균 조회\n",
    "7. cut별 가격 평균중 4000이상만 조회\n",
    "8. clarity별 carat 평균과 표준편차 조회\n",
    "9. cut과 color 별로 가격은 평균을 carat은 최대값을 조회 \n",
    "10. 9번 문제의 결과에서 가격의 평균이 5000이상이고 carat의 최대값이 3이상인 결과만 조회"
   ]
  },
  {
   "cell_type": "code",
   "execution_count": null,
   "metadata": {},
   "outputs": [],
   "source": [
    "# 1. data/diamonds.csv 를 읽어 DataFrame 생성\n",
    "import pandas as pd\n",
    "import numpy as np\n",
    "\n",
    "path = './data/diamonds.csv'\n",
    "diamonds_df = pd.read_csv(path)"
   ]
  },
  {
   "cell_type": "code",
   "execution_count": null,
   "metadata": {},
   "outputs": [],
   "source": [
    "# 2-1 배열의 shape조회\n",
    "diamonds_df.shape\n",
    "# 2-2 DataFrame에 대한 정보조회\n",
    "diamonds_df.info()\n",
    "# 2-3 상/하위 5개 행 조회\n",
    "diamonds_df.head()\n",
    "diamonds_df.tail()\n",
    "# 2-4 결측치 확인\n",
    "diamonds_df.isna().sum()"
   ]
  },
  {
   "cell_type": "code",
   "execution_count": null,
   "metadata": {},
   "outputs": [],
   "source": [
    "# 3. carat, price, depth의 합계, 평균, 최대, 최소 조회\n",
    "diamonds_df[['carat', 'price', 'depth']].agg(['sum', 'mean', 'max', 'min'])"
   ]
  },
  {
   "cell_type": "code",
   "execution_count": null,
   "metadata": {},
   "outputs": [],
   "source": [
    "# 4. price는 최대, 최소, color는 고유값의 개수를 조회\n",
    "diamonds_df.agg({\n",
    "\t'price':['max', 'min'],\n",
    "\t'color':'nunique'\n",
    "})"
   ]
  },
  {
   "cell_type": "code",
   "execution_count": null,
   "metadata": {},
   "outputs": [],
   "source": [
    "# 5. cut의 고유값별 개수를 조회\n",
    "diamonds_df['cut'].value_counts()"
   ]
  },
  {
   "cell_type": "code",
   "execution_count": null,
   "metadata": {},
   "outputs": [],
   "source": [
    "# 6. cut별 가격 평균 조회\n",
    "diamonds_df.groupby('cut')['price'].mean()"
   ]
  },
  {
   "cell_type": "code",
   "execution_count": null,
   "metadata": {},
   "outputs": [],
   "source": [
    "# 7. cut별 가격 평균중 4000이상만 조회\n",
    "result = diamonds_df.groupby('cut')['price'].mean()\n",
    "result[result >= 4000]"
   ]
  },
  {
   "cell_type": "code",
   "execution_count": null,
   "metadata": {},
   "outputs": [],
   "source": [
    "# 8. clarity별 carat 평균과 표준편차 조회\n",
    "diamonds_df.groupby('clarity')['carat'].agg(['mean', 'std'])"
   ]
  },
  {
   "cell_type": "code",
   "execution_count": null,
   "metadata": {},
   "outputs": [],
   "source": [
    "# 9. cut과 color 별로 가격은 평균을 carat은 최대값을 조회\n",
    "diamonds_df.groupby(['cut', 'color']).agg({\n",
    "\t'price':'mean',\n",
    "\t'carat':'max'\n",
    "})"
   ]
  },
  {
   "cell_type": "code",
   "execution_count": null,
   "metadata": {},
   "outputs": [],
   "source": [
    "# 10. 9번 문제의 결과에서 가격의 평균이 5000이상이고 carat의 최대값이 3이상인 결과만 조회\n",
    "result = diamonds_df.groupby(['cut', 'color']).agg({\n",
    "\t'price':'mean',\n",
    "\t'carat':'max'\n",
    "})\n",
    "result[(result.price >= 5000) & (result.carat >= 3)]"
   ]
  }
 ],
 "metadata": {
  "kernelspec": {
   "display_name": "Python 3.9.15 ('ml')",
   "language": "python",
   "name": "python3"
  },
  "language_info": {
   "codemirror_mode": {
    "name": "ipython",
    "version": 3
   },
   "file_extension": ".py",
   "mimetype": "text/x-python",
   "name": "python",
   "nbconvert_exporter": "python",
   "pygments_lexer": "ipython3",
   "version": "3.9.15"
  },
  "toc": {
   "base_numbering": 1,
   "nav_menu": {},
   "number_sections": false,
   "sideBar": false,
   "skip_h1_title": false,
   "title_cell": "Table of Contents",
   "title_sidebar": "Contents",
   "toc_cell": false,
   "toc_position": {},
   "toc_section_display": true,
   "toc_window_display": false
  },
  "varInspector": {
   "cols": {
    "lenName": 16,
    "lenType": 16,
    "lenVar": 40
   },
   "kernels_config": {
    "python": {
     "delete_cmd_postfix": "",
     "delete_cmd_prefix": "del ",
     "library": "var_list.py",
     "varRefreshCmd": "print(var_dic_list())"
    },
    "r": {
     "delete_cmd_postfix": ") ",
     "delete_cmd_prefix": "rm(",
     "library": "var_list.r",
     "varRefreshCmd": "cat(var_dic_list()) "
    }
   },
   "types_to_exclude": [
    "module",
    "function",
    "builtin_function_or_method",
    "instance",
    "_Feature"
   ],
   "window_display": false
  },
  "vscode": {
   "interpreter": {
    "hash": "8ea266b9a32e539376479ecefb4b43de94cddfc186952a2290bc119c664ac37e"
   }
  }
 },
 "nbformat": 4,
 "nbformat_minor": 2
}
